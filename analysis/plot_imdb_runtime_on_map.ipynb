{
 "cells": [
  {
   "cell_type": "markdown",
   "metadata": {},
   "source": [
    "Plot average  movie length (based on IMDB data) in world map\n",
    "======"
   ]
  },
  {
   "cell_type": "code",
   "execution_count": 1,
   "metadata": {},
   "outputs": [
    {
     "data": {
      "text/html": [
       "<script>requirejs.config({paths: { 'plotly': ['https://cdn.plot.ly/plotly-latest.min']},});if(!window.Plotly) {{require(['plotly'],function(plotly) {window.Plotly=plotly;});}}</script>"
      ],
      "text/vnd.plotly.v1+html": [
       "<script>requirejs.config({paths: { 'plotly': ['https://cdn.plot.ly/plotly-latest.min']},});if(!window.Plotly) {{require(['plotly'],function(plotly) {window.Plotly=plotly;});}}</script>"
      ]
     },
     "metadata": {},
     "output_type": "display_data"
    }
   ],
   "source": [
    "import pandas as pd\n",
    "# import plotly.plotly as py\n",
    "from matplotlib import pyplot as plt\n",
    "%matplotlib inline\n",
    "\n",
    "from plotly.offline import download_plotlyjs, init_notebook_mode, iplot\n",
    "from plotly.graph_objs import *\n",
    "init_notebook_mode(connected=True)"
   ]
  },
  {
   "cell_type": "code",
   "execution_count": 2,
   "metadata": {
    "scrolled": true
   },
   "outputs": [
    {
     "data": {
      "text/html": [
       "<div>\n",
       "<style>\n",
       "    .dataframe thead tr:only-child th {\n",
       "        text-align: right;\n",
       "    }\n",
       "\n",
       "    .dataframe thead th {\n",
       "        text-align: left;\n",
       "    }\n",
       "\n",
       "    .dataframe tbody tr th {\n",
       "        vertical-align: top;\n",
       "    }\n",
       "</style>\n",
       "<table border=\"1\" class=\"dataframe\">\n",
       "  <thead>\n",
       "    <tr style=\"text-align: right;\">\n",
       "      <th></th>\n",
       "      <th>country</th>\n",
       "      <th>latitude</th>\n",
       "      <th>longitude</th>\n",
       "    </tr>\n",
       "    <tr>\n",
       "      <th>name</th>\n",
       "      <th></th>\n",
       "      <th></th>\n",
       "      <th></th>\n",
       "    </tr>\n",
       "  </thead>\n",
       "  <tbody>\n",
       "    <tr>\n",
       "      <th>Andorra</th>\n",
       "      <td>AD</td>\n",
       "      <td>42.546245</td>\n",
       "      <td>1.601554</td>\n",
       "    </tr>\n",
       "    <tr>\n",
       "      <th>United Arab Emirates</th>\n",
       "      <td>AE</td>\n",
       "      <td>23.424076</td>\n",
       "      <td>53.847818</td>\n",
       "    </tr>\n",
       "    <tr>\n",
       "      <th>Afghanistan</th>\n",
       "      <td>AF</td>\n",
       "      <td>33.939110</td>\n",
       "      <td>67.709953</td>\n",
       "    </tr>\n",
       "  </tbody>\n",
       "</table>\n",
       "</div>"
      ],
      "text/plain": [
       "                     country   latitude  longitude\n",
       "name                                              \n",
       "Andorra                   AD  42.546245   1.601554\n",
       "United Arab Emirates      AE  23.424076  53.847818\n",
       "Afghanistan               AF  33.939110  67.709953"
      ]
     },
     "execution_count": 2,
     "metadata": {},
     "output_type": "execute_result"
    }
   ],
   "source": [
    "geo_f = '../data/google_coordinates.tsv'\n",
    "geo_pd = pd.read_csv(geo_f, sep='\\t', index_col='name', comment='#')\n",
    "geo_pd.head(3)"
   ]
  },
  {
   "cell_type": "code",
   "execution_count": 3,
   "metadata": {},
   "outputs": [
    {
     "data": {
      "text/html": [
       "<div>\n",
       "<style>\n",
       "    .dataframe thead tr:only-child th {\n",
       "        text-align: right;\n",
       "    }\n",
       "\n",
       "    .dataframe thead th {\n",
       "        text-align: left;\n",
       "    }\n",
       "\n",
       "    .dataframe tbody tr th {\n",
       "        vertical-align: top;\n",
       "    }\n",
       "</style>\n",
       "<table border=\"1\" class=\"dataframe\">\n",
       "  <thead>\n",
       "    <tr style=\"text-align: right;\">\n",
       "      <th></th>\n",
       "      <th>running_times_first</th>\n",
       "      <th>kind</th>\n",
       "    </tr>\n",
       "    <tr>\n",
       "      <th>countries_first</th>\n",
       "      <th></th>\n",
       "      <th></th>\n",
       "    </tr>\n",
       "  </thead>\n",
       "  <tbody>\n",
       "    <tr>\n",
       "      <th>Algeria</th>\n",
       "      <td>1.634103</td>\n",
       "      <td>65</td>\n",
       "    </tr>\n",
       "    <tr>\n",
       "      <th>Argentina</th>\n",
       "      <td>1.460100</td>\n",
       "      <td>2439</td>\n",
       "    </tr>\n",
       "    <tr>\n",
       "      <th>Armenia</th>\n",
       "      <td>1.526537</td>\n",
       "      <td>103</td>\n",
       "    </tr>\n",
       "  </tbody>\n",
       "</table>\n",
       "</div>"
      ],
      "text/plain": [
       "                 running_times_first  kind\n",
       "countries_first                           \n",
       "Algeria                     1.634103    65\n",
       "Argentina                   1.460100  2439\n",
       "Armenia                     1.526537   103"
      ]
     },
     "execution_count": 3,
     "metadata": {},
     "output_type": "execute_result"
    }
   ],
   "source": [
    "imdb_f = '../results/country_runtime_count.tsv'\n",
    "imdb_pd = pd.read_csv(imdb_f, sep='\\t', index_col='countries_first', comment='#')\n",
    "imdb_pd.head(3)"
   ]
  },
  {
   "cell_type": "code",
   "execution_count": 4,
   "metadata": {},
   "outputs": [
    {
     "data": {
      "text/html": [
       "<div>\n",
       "<style>\n",
       "    .dataframe thead tr:only-child th {\n",
       "        text-align: right;\n",
       "    }\n",
       "\n",
       "    .dataframe thead th {\n",
       "        text-align: left;\n",
       "    }\n",
       "\n",
       "    .dataframe tbody tr th {\n",
       "        vertical-align: top;\n",
       "    }\n",
       "</style>\n",
       "<table border=\"1\" class=\"dataframe\">\n",
       "  <thead>\n",
       "    <tr style=\"text-align: right;\">\n",
       "      <th></th>\n",
       "      <th>running_times_first</th>\n",
       "      <th>kind</th>\n",
       "      <th>country</th>\n",
       "      <th>latitude</th>\n",
       "      <th>longitude</th>\n",
       "    </tr>\n",
       "    <tr>\n",
       "      <th>countries_first</th>\n",
       "      <th></th>\n",
       "      <th></th>\n",
       "      <th></th>\n",
       "      <th></th>\n",
       "      <th></th>\n",
       "    </tr>\n",
       "  </thead>\n",
       "  <tbody>\n",
       "    <tr>\n",
       "      <th>Algeria</th>\n",
       "      <td>1.634103</td>\n",
       "      <td>65</td>\n",
       "      <td>DZ</td>\n",
       "      <td>28.033886</td>\n",
       "      <td>1.659626</td>\n",
       "    </tr>\n",
       "    <tr>\n",
       "      <th>Argentina</th>\n",
       "      <td>1.460100</td>\n",
       "      <td>2439</td>\n",
       "      <td>AR</td>\n",
       "      <td>-38.416097</td>\n",
       "      <td>-63.616672</td>\n",
       "    </tr>\n",
       "    <tr>\n",
       "      <th>Armenia</th>\n",
       "      <td>1.526537</td>\n",
       "      <td>103</td>\n",
       "      <td>AM</td>\n",
       "      <td>40.069099</td>\n",
       "      <td>45.038189</td>\n",
       "    </tr>\n",
       "  </tbody>\n",
       "</table>\n",
       "</div>"
      ],
      "text/plain": [
       "                 running_times_first  kind country   latitude  longitude\n",
       "countries_first                                                         \n",
       "Algeria                     1.634103    65      DZ  28.033886   1.659626\n",
       "Argentina                   1.460100  2439      AR -38.416097 -63.616672\n",
       "Armenia                     1.526537   103      AM  40.069099  45.038189"
      ]
     },
     "execution_count": 4,
     "metadata": {},
     "output_type": "execute_result"
    }
   ],
   "source": [
    "merged_pd = pd.concat([imdb_pd, geo_pd], axis=1, join_axes=[imdb_pd.index])\n",
    "merged_pd.head(3)"
   ]
  },
  {
   "cell_type": "code",
   "execution_count": 5,
   "metadata": {
    "scrolled": false
   },
   "outputs": [
    {
     "data": {
      "text/html": [
       "<div>\n",
       "<style>\n",
       "    .dataframe thead tr:only-child th {\n",
       "        text-align: right;\n",
       "    }\n",
       "\n",
       "    .dataframe thead th {\n",
       "        text-align: left;\n",
       "    }\n",
       "\n",
       "    .dataframe tbody tr th {\n",
       "        vertical-align: top;\n",
       "    }\n",
       "</style>\n",
       "<table border=\"1\" class=\"dataframe\">\n",
       "  <thead>\n",
       "    <tr style=\"text-align: right;\">\n",
       "      <th></th>\n",
       "      <th>running_times_first</th>\n",
       "      <th>kind</th>\n",
       "      <th>country</th>\n",
       "      <th>latitude</th>\n",
       "      <th>longitude</th>\n",
       "    </tr>\n",
       "    <tr>\n",
       "      <th>countries_first</th>\n",
       "      <th></th>\n",
       "      <th></th>\n",
       "      <th></th>\n",
       "      <th></th>\n",
       "      <th></th>\n",
       "    </tr>\n",
       "  </thead>\n",
       "  <tbody>\n",
       "    <tr>\n",
       "      <th>Federal Republic of Yugoslavia</th>\n",
       "      <td>1.635569</td>\n",
       "      <td>82</td>\n",
       "      <td>NaN</td>\n",
       "      <td>NaN</td>\n",
       "      <td>NaN</td>\n",
       "    </tr>\n",
       "    <tr>\n",
       "      <th>Occupied Palestinian Territory</th>\n",
       "      <td>1.423856</td>\n",
       "      <td>51</td>\n",
       "      <td>NaN</td>\n",
       "      <td>NaN</td>\n",
       "      <td>NaN</td>\n",
       "    </tr>\n",
       "    <tr>\n",
       "      <th>Soviet Union</th>\n",
       "      <td>1.612674</td>\n",
       "      <td>192</td>\n",
       "      <td>NaN</td>\n",
       "      <td>NaN</td>\n",
       "      <td>NaN</td>\n",
       "    </tr>\n",
       "  </tbody>\n",
       "</table>\n",
       "</div>"
      ],
      "text/plain": [
       "                                running_times_first  kind country  latitude  \\\n",
       "countries_first                                                               \n",
       "Federal Republic of Yugoslavia             1.635569    82     NaN       NaN   \n",
       "Occupied Palestinian Territory             1.423856    51     NaN       NaN   \n",
       "Soviet Union                               1.612674   192     NaN       NaN   \n",
       "\n",
       "                                longitude  \n",
       "countries_first                            \n",
       "Federal Republic of Yugoslavia        NaN  \n",
       "Occupied Palestinian Territory        NaN  \n",
       "Soviet Union                          NaN  "
      ]
     },
     "execution_count": 5,
     "metadata": {},
     "output_type": "execute_result"
    }
   ],
   "source": [
    "merged_pd[merged_pd['latitude'].isnull()]"
   ]
  },
  {
   "cell_type": "code",
   "execution_count": 6,
   "metadata": {
    "scrolled": true
   },
   "outputs": [
    {
     "data": {
      "text/plain": [
       "<matplotlib.axes._subplots.AxesSubplot at 0x71bb2b0>"
      ]
     },
     "execution_count": 6,
     "metadata": {},
     "output_type": "execute_result"
    },
    {
     "data": {
      "image/png": "[encoded data removed]",
      "text/plain": [
       "<matplotlib.figure.Figure at 0x7181bb0>"
      ]
     },
     "metadata": {},
     "output_type": "display_data"
    }
   ],
   "source": [
    "merged_pd['running_times_first'].plot.hist(bins=20)"
   ]
  },
  {
   "cell_type": "code",
   "execution_count": 7,
   "metadata": {
    "collapsed": true
   },
   "outputs": [],
   "source": [
    "# color_code = ['#d7191c','#fdae61','#abd9e9','#2c7bb6']\n",
    "# color_code = ['#d7191c','#fdae61','#28bfa5','#2c7bb6']\n",
    "color_code = ['#d7191c','#fdae61','#8a5cd1','#2c7bb6']"
   ]
  },
  {
   "cell_type": "code",
   "execution_count": 8,
   "metadata": {
    "collapsed": true
   },
   "outputs": [],
   "source": [
    "time_range = [(1.4, 1.6), (1.6, 1.8), (1.8, 2.0), (2.0, 2.2)]\n",
    "\n",
    "\n",
    "def get_color_code(num):\n",
    "    for i, pair in enumerate(time_range):\n",
    "        if pair[0] <= num < pair[1]:\n",
    "#             return color_code[i]\n",
    "            return color_code[-i-1]\n",
    "            break"
   ]
  },
  {
   "cell_type": "code",
   "execution_count": 9,
   "metadata": {
    "scrolled": true
   },
   "outputs": [
    {
     "data": {
      "text/plain": [
       "{'#2c7bb6': '1.4 - 1.6 hr',\n",
       " '#8a5cd1': '1.6 - 1.8 hr',\n",
       " '#d7191c': '2.0 - 2.2 hr',\n",
       " '#fdae61': '1.8 - 2.0 hr'}"
      ]
     },
     "execution_count": 9,
     "metadata": {},
     "output_type": "execute_result"
    }
   ],
   "source": [
    "legend_name_dict = {color: '%s hr' % ' - '.join(str(x)  for x in time_range[-index-1])   \n",
    "                    for index, color in enumerate(color_code)}\n",
    "legend_name_dict"
   ]
  },
  {
   "cell_type": "code",
   "execution_count": 10,
   "metadata": {
    "scrolled": true
   },
   "outputs": [
    {
     "name": "stdout",
     "output_type": "stream",
     "text": [
      "4 #d7191c\n",
      "3 #fdae61\n",
      "2 #8a5cd1\n",
      "1 #2c7bb6\n"
     ]
    }
   ],
   "source": [
    "data = []\n",
    "legend_colors_already_added = []\n",
    "legend_index = 4\n",
    "for i, row in merged_pd.iterrows():\n",
    "    # for proper ordering of legends\n",
    "    color = get_color_code(row['running_times_first'])\n",
    "    if color not in legend_colors_already_added \\\n",
    "        and color_code[-legend_index] == color:\n",
    "        print (legend_index, color)\n",
    "        legend_colors_already_added.append(color)\n",
    "        legend_name = legend_name_dict[color]\n",
    "        showlegend = True\n",
    "        legend_index -= 1\n",
    "    else:\n",
    "        legend_name = None\n",
    "        showlegend = False\n",
    "                           \n",
    "    city = dict(\n",
    "            type = 'scattergeo',\n",
    "            lon = pd.Series({i:row['longitude']}),\n",
    "            lat = pd.Series({i:row['latitude']}),\n",
    "#             locationmode = \"country names\",\n",
    "            text = '%s (%0.1fhr)' % (row.name, row['running_times_first']),\n",
    "            hoverinfo = 'lon+lat+text',\n",
    "\n",
    "            marker = dict(\n",
    "                size = 6,\n",
    "                color = color,\n",
    "#                 line = dict(width=0.5, color='rgb(40,40,40)'),\n",
    "                sizemode = 'area'\n",
    "        ),\n",
    "        name = legend_name,\n",
    "        showlegend = showlegend)\n",
    "#         name = row.name )\n",
    "#     print(row['running_times_first'], int(-(row['running_times_first']-1.4)*10))\n",
    "    data.append(city)"
   ]
  },
  {
   "cell_type": "code",
   "execution_count": 11,
   "metadata": {},
   "outputs": [
    {
     "data": {
      "application/vnd.plotly.v1+json": {
       "data": [
        {
         "hoverinfo": "lon+lat+text",
         "lat": [
          28.033886
         ],
         "lon": [
          1.6596259999999998
         ],
         "marker": {
          "color": "#8a5cd1",
          "size": 6,
          "sizemode": "area"
         },
         "name": null,
         "showlegend": false,
         "text": "Algeria (1.6hr)",
         "type": "scattergeo"
        },
        {
         "hoverinfo": "lon+lat+text",
         "lat": [
          -38.416097
         ],
         "lon": [
          -63.616671999999994
         ],
         "marker": {
          "color": "#2c7bb6",
          "size": 6,
          "sizemode": "area"
         },
         "name": null,
         "showlegend": false,
         "text": "Argentina (1.5hr)",
         "type": "scattergeo"
        },
        {
         "hoverinfo": "lon+lat+text",
         "lat": [
          40.069099
         ],
         "lon": [
          45.038189
         ],
         "marker": {
          "color": "#2c7bb6",
          "size": 6,
          "sizemode": "area"
         },
         "name": null,
         "showlegend": false,
         "text": "Armenia (1.5hr)",
         "type": "scattergeo"
        },
        {
         "hoverinfo": "lon+lat+text",
         "lat": [
          -25.274398
         ],
         "lon": [
          133.775136
         ],
         "marker": {
          "color": "#2c7bb6",
          "size": 6,
          "sizemode": "area"
         },
         "name": null,
         "showlegend": false,
         "text": "Australia (1.5hr)",
         "type": "scattergeo"
        },
        {
         "hoverinfo": "lon+lat+text",
         "lat": [
          47.516231
         ],
         "lon": [
          14.550072
         ],
         "marker": {
          "color": "#2c7bb6",
          "size": 6,
          "sizemode": "area"
         },
         "name": null,
         "showlegend": false,
         "text": "Austria (1.5hr)",
         "type": "scattergeo"
        },
        {
         "hoverinfo": "lon+lat+text",
         "lat": [
          40.143105
         ],
         "lon": [
          47.576927000000005
         ],
         "marker": {
          "color": "#2c7bb6",
          "size": 6,
          "sizemode": "area"
         },
         "name": null,
         "showlegend": false,
         "text": "Azerbaijan (1.5hr)",
         "type": "scattergeo"
        },
        {
         "hoverinfo": "lon+lat+text",
         "lat": [
          23.684994
         ],
         "lon": [
          90.35633100000001
         ],
         "marker": {
          "color": "#d7191c",
          "size": 6,
          "sizemode": "area"
         },
         "name": "2.0 - 2.2 hr",
         "showlegend": true,
         "text": "Bangladesh (2.2hr)",
         "type": "scattergeo"
        },
        {
         "hoverinfo": "lon+lat+text",
         "lat": [
          53.709807
         ],
         "lon": [
          27.953389
         ],
         "marker": {
          "color": "#2c7bb6",
          "size": 6,
          "sizemode": "area"
         },
         "name": null,
         "showlegend": false,
         "text": "Belarus (1.5hr)",
         "type": "scattergeo"
        },
        {
         "hoverinfo": "lon+lat+text",
         "lat": [
          50.503887
         ],
         "lon": [
          4.469936
         ],
         "marker": {
          "color": "#2c7bb6",
          "size": 6,
          "sizemode": "area"
         },
         "name": null,
         "showlegend": false,
         "text": "Belgium (1.5hr)",
         "type": "scattergeo"
        },
        {
         "hoverinfo": "lon+lat+text",
         "lat": [
          -16.290154
         ],
         "lon": [
          -63.588653
         ],
         "marker": {
          "color": "#2c7bb6",
          "size": 6,
          "sizemode": "area"
         },
         "name": null,
         "showlegend": false,
         "text": "Bolivia (1.6hr)",
         "type": "scattergeo"
        },
        {
         "hoverinfo": "lon+lat+text",
         "lat": [
          43.915886
         ],
         "lon": [
          17.679076000000002
         ],
         "marker": {
          "color": "#2c7bb6",
          "size": 6,
          "sizemode": "area"
         },
         "name": null,
         "showlegend": false,
         "text": "Bosnia and Herzegovina (1.4hr)",
         "type": "scattergeo"
        },
        {
         "hoverinfo": "lon+lat+text",
         "lat": [
          -14.235004
         ],
         "lon": [
          -51.92528
         ],
         "marker": {
          "color": "#2c7bb6",
          "size": 6,
          "sizemode": "area"
         },
         "name": null,
         "showlegend": false,
         "text": "Brazil (1.5hr)",
         "type": "scattergeo"
        },
        {
         "hoverinfo": "lon+lat+text",
         "lat": [
          42.733883
         ],
         "lon": [
          25.48583
         ],
         "marker": {
          "color": "#2c7bb6",
          "size": 6,
          "sizemode": "area"
         },
         "name": null,
         "showlegend": false,
         "text": "Bulgaria (1.6hr)",
         "type": "scattergeo"
        },
        {
         "hoverinfo": "lon+lat+text",
         "lat": [
          56.130366
         ],
         "lon": [
          -106.34677099999999
         ],
         "marker": {
          "color": "#2c7bb6",
          "size": 6,
          "sizemode": "area"
         },
         "name": null,
         "showlegend": false,
         "text": "Canada (1.5hr)",
         "type": "scattergeo"
        },
        {
         "hoverinfo": "lon+lat+text",
         "lat": [
          -35.675146999999996
         ],
         "lon": [
          -71.542969
         ],
         "marker": {
          "color": "#2c7bb6",
          "size": 6,
          "sizemode": "area"
         },
         "name": null,
         "showlegend": false,
         "text": "Chile (1.5hr)",
         "type": "scattergeo"
        },
        {
         "hoverinfo": "lon+lat+text",
         "lat": [
          35.86166
         ],
         "lon": [
          104.195397
         ],
         "marker": {
          "color": "#8a5cd1",
          "size": 6,
          "sizemode": "area"
         },
         "name": null,
         "showlegend": false,
         "text": "China (1.6hr)",
         "type": "scattergeo"
        },
        {
         "hoverinfo": "lon+lat+text",
         "lat": [
          4.570868
         ],
         "lon": [
          -74.297333
         ],
         "marker": {
          "color": "#2c7bb6",
          "size": 6,
          "sizemode": "area"
         },
         "name": null,
         "showlegend": false,
         "text": "Colombia (1.5hr)",
         "type": "scattergeo"
        },
        {
         "hoverinfo": "lon+lat+text",
         "lat": [
          9.748917
         ],
         "lon": [
          -83.753428
         ],
         "marker": {
          "color": "#2c7bb6",
          "size": 6,
          "sizemode": "area"
         },
         "name": null,
         "showlegend": false,
         "text": "Costa Rica (1.4hr)",
         "type": "scattergeo"
        },
        {
         "hoverinfo": "lon+lat+text",
         "lat": [
          45.1
         ],
         "lon": [
          15.2
         ],
         "marker": {
          "color": "#2c7bb6",
          "size": 6,
          "sizemode": "area"
         },
         "name": null,
         "showlegend": false,
         "text": "Croatia (1.5hr)",
         "type": "scattergeo"
        },
        {
         "hoverinfo": "lon+lat+text",
         "lat": [
          21.521757
         ],
         "lon": [
          -77.78116700000001
         ],
         "marker": {
          "color": "#2c7bb6",
          "size": 6,
          "sizemode": "area"
         },
         "name": null,
         "showlegend": false,
         "text": "Cuba (1.5hr)",
         "type": "scattergeo"
        },
        {
         "hoverinfo": "lon+lat+text",
         "lat": [
          35.126413
         ],
         "lon": [
          33.429859
         ],
         "marker": {
          "color": "#2c7bb6",
          "size": 6,
          "sizemode": "area"
         },
         "name": null,
         "showlegend": false,
         "text": "Cyprus (1.5hr)",
         "type": "scattergeo"
        },
        {
         "hoverinfo": "lon+lat+text",
         "lat": [
          49.817492
         ],
         "lon": [
          15.472961999999999
         ],
         "marker": {
          "color": "#2c7bb6",
          "size": 6,
          "sizemode": "area"
         },
         "name": null,
         "showlegend": false,
         "text": "Czech Republic (1.6hr)",
         "type": "scattergeo"
        },
        {
         "hoverinfo": "lon+lat+text",
         "lat": [
          56.26392
         ],
         "lon": [
          9.501785
         ],
         "marker": {
          "color": "#2c7bb6",
          "size": 6,
          "sizemode": "area"
         },
         "name": null,
         "showlegend": false,
         "text": "Denmark (1.5hr)",
         "type": "scattergeo"
        },
        {
         "hoverinfo": "lon+lat+text",
         "lat": [
          18.735692999999998
         ],
         "lon": [
          -70.162651
         ],
         "marker": {
          "color": "#2c7bb6",
          "size": 6,
          "sizemode": "area"
         },
         "name": null,
         "showlegend": false,
         "text": "Dominican Republic (1.5hr)",
         "type": "scattergeo"
        },
        {
         "hoverinfo": "lon+lat+text",
         "lat": [
          -1.8312389999999998
         ],
         "lon": [
          -78.183406
         ],
         "marker": {
          "color": "#2c7bb6",
          "size": 6,
          "sizemode": "area"
         },
         "name": null,
         "showlegend": false,
         "text": "Ecuador (1.5hr)",
         "type": "scattergeo"
        },
        {
         "hoverinfo": "lon+lat+text",
         "lat": [
          26.820553000000004
         ],
         "lon": [
          30.802497999999996
         ],
         "marker": {
          "color": "#8a5cd1",
          "size": 6,
          "sizemode": "area"
         },
         "name": null,
         "showlegend": false,
         "text": "Egypt (1.7hr)",
         "type": "scattergeo"
        },
        {
         "hoverinfo": "lon+lat+text",
         "lat": [
          58.595271999999994
         ],
         "lon": [
          25.013607
         ],
         "marker": {
          "color": "#2c7bb6",
          "size": 6,
          "sizemode": "area"
         },
         "name": null,
         "showlegend": false,
         "text": "Estonia (1.5hr)",
         "type": "scattergeo"
        },
        {
         "hoverinfo": "lon+lat+text",
         "lat": [
          null
         ],
         "lon": [
          null
         ],
         "marker": {
          "color": "#8a5cd1",
          "size": 6,
          "sizemode": "area"
         },
         "name": null,
         "showlegend": false,
         "text": "Federal Republic of Yugoslavia (1.6hr)",
         "type": "scattergeo"
        },
        {
         "hoverinfo": "lon+lat+text",
         "lat": [
          61.92411
         ],
         "lon": [
          25.748151
         ],
         "marker": {
          "color": "#2c7bb6",
          "size": 6,
          "sizemode": "area"
         },
         "name": null,
         "showlegend": false,
         "text": "Finland (1.5hr)",
         "type": "scattergeo"
        },
        {
         "hoverinfo": "lon+lat+text",
         "lat": [
          46.227638
         ],
         "lon": [
          2.213749
         ],
         "marker": {
          "color": "#2c7bb6",
          "size": 6,
          "sizemode": "area"
         },
         "name": null,
         "showlegend": false,
         "text": "France (1.6hr)",
         "type": "scattergeo"
        },
        {
         "hoverinfo": "lon+lat+text",
         "lat": [
          42.315407
         ],
         "lon": [
          43.356891999999995
         ],
         "marker": {
          "color": "#2c7bb6",
          "size": 6,
          "sizemode": "area"
         },
         "name": null,
         "showlegend": false,
         "text": "Georgia (1.6hr)",
         "type": "scattergeo"
        },
        {
         "hoverinfo": "lon+lat+text",
         "lat": [
          51.165690999999995
         ],
         "lon": [
          10.451526
         ],
         "marker": {
          "color": "#2c7bb6",
          "size": 6,
          "sizemode": "area"
         },
         "name": null,
         "showlegend": false,
         "text": "Germany (1.5hr)",
         "type": "scattergeo"
        },
        {
         "hoverinfo": "lon+lat+text",
         "lat": [
          39.074208
         ],
         "lon": [
          21.824312
         ],
         "marker": {
          "color": "#2c7bb6",
          "size": 6,
          "sizemode": "area"
         },
         "name": null,
         "showlegend": false,
         "text": "Greece (1.5hr)",
         "type": "scattergeo"
        },
        {
         "hoverinfo": "lon+lat+text",
         "lat": [
          22.396428
         ],
         "lon": [
          114.10949699999999
         ],
         "marker": {
          "color": "#8a5cd1",
          "size": 6,
          "sizemode": "area"
         },
         "name": null,
         "showlegend": false,
         "text": "Hong Kong (1.6hr)",
         "type": "scattergeo"
        },
        {
         "hoverinfo": "lon+lat+text",
         "lat": [
          47.162494
         ],
         "lon": [
          19.503304
         ],
         "marker": {
          "color": "#2c7bb6",
          "size": 6,
          "sizemode": "area"
         },
         "name": null,
         "showlegend": false,
         "text": "Hungary (1.5hr)",
         "type": "scattergeo"
        },
        {
         "hoverinfo": "lon+lat+text",
         "lat": [
          64.96305100000001
         ],
         "lon": [
          -19.020835
         ],
         "marker": {
          "color": "#2c7bb6",
          "size": 6,
          "sizemode": "area"
         },
         "name": null,
         "showlegend": false,
         "text": "Iceland (1.5hr)",
         "type": "scattergeo"
        },
        {
         "hoverinfo": "lon+lat+text",
         "lat": [
          20.593684
         ],
         "lon": [
          78.96288
         ],
         "marker": {
          "color": "#d7191c",
          "size": 6,
          "sizemode": "area"
         },
         "name": null,
         "showlegend": false,
         "text": "India (2.2hr)",
         "type": "scattergeo"
        },
        {
         "hoverinfo": "lon+lat+text",
         "lat": [
          -0.789275
         ],
         "lon": [
          113.921327
         ],
         "marker": {
          "color": "#2c7bb6",
          "size": 6,
          "sizemode": "area"
         },
         "name": null,
         "showlegend": false,
         "text": "Indonesia (1.6hr)",
         "type": "scattergeo"
        },
        {
         "hoverinfo": "lon+lat+text",
         "lat": [
          32.427908
         ],
         "lon": [
          53.68804599999999
         ],
         "marker": {
          "color": "#2c7bb6",
          "size": 6,
          "sizemode": "area"
         },
         "name": null,
         "showlegend": false,
         "text": "Iran (1.5hr)",
         "type": "scattergeo"
        },
        {
         "hoverinfo": "lon+lat+text",
         "lat": [
          33.223191
         ],
         "lon": [
          43.679291
         ],
         "marker": {
          "color": "#2c7bb6",
          "size": 6,
          "sizemode": "area"
         },
         "name": null,
         "showlegend": false,
         "text": "Iraq (1.5hr)",
         "type": "scattergeo"
        },
        {
         "hoverinfo": "lon+lat+text",
         "lat": [
          53.41291
         ],
         "lon": [
          -8.243889999999999
         ],
         "marker": {
          "color": "#2c7bb6",
          "size": 6,
          "sizemode": "area"
         },
         "name": null,
         "showlegend": false,
         "text": "Ireland (1.5hr)",
         "type": "scattergeo"
        },
        {
         "hoverinfo": "lon+lat+text",
         "lat": [
          31.046051000000002
         ],
         "lon": [
          34.851612
         ],
         "marker": {
          "color": "#2c7bb6",
          "size": 6,
          "sizemode": "area"
         },
         "name": null,
         "showlegend": false,
         "text": "Israel (1.5hr)",
         "type": "scattergeo"
        },
        {
         "hoverinfo": "lon+lat+text",
         "lat": [
          41.87194
         ],
         "lon": [
          12.56738
         ],
         "marker": {
          "color": "#2c7bb6",
          "size": 6,
          "sizemode": "area"
         },
         "name": null,
         "showlegend": false,
         "text": "Italy (1.5hr)",
         "type": "scattergeo"
        },
        {
         "hoverinfo": "lon+lat+text",
         "lat": [
          36.204824
         ],
         "lon": [
          138.252924
         ],
         "marker": {
          "color": "#8a5cd1",
          "size": 6,
          "sizemode": "area"
         },
         "name": null,
         "showlegend": false,
         "text": "Japan (1.6hr)",
         "type": "scattergeo"
        },
        {
         "hoverinfo": "lon+lat+text",
         "lat": [
          48.019573
         ],
         "lon": [
          66.923684
         ],
         "marker": {
          "color": "#2c7bb6",
          "size": 6,
          "sizemode": "area"
         },
         "name": null,
         "showlegend": false,
         "text": "Kazakhstan (1.5hr)",
         "type": "scattergeo"
        },
        {
         "hoverinfo": "lon+lat+text",
         "lat": [
          56.879635
         ],
         "lon": [
          24.603189
         ],
         "marker": {
          "color": "#2c7bb6",
          "size": 6,
          "sizemode": "area"
         },
         "name": null,
         "showlegend": false,
         "text": "Latvia (1.6hr)",
         "type": "scattergeo"
        },
        {
         "hoverinfo": "lon+lat+text",
         "lat": [
          33.854721000000005
         ],
         "lon": [
          35.862285
         ],
         "marker": {
          "color": "#2c7bb6",
          "size": 6,
          "sizemode": "area"
         },
         "name": null,
         "showlegend": false,
         "text": "Lebanon (1.5hr)",
         "type": "scattergeo"
        },
        {
         "hoverinfo": "lon+lat+text",
         "lat": [
          55.169438
         ],
         "lon": [
          23.881275
         ],
         "marker": {
          "color": "#2c7bb6",
          "size": 6,
          "sizemode": "area"
         },
         "name": null,
         "showlegend": false,
         "text": "Lithuania (1.6hr)",
         "type": "scattergeo"
        },
        {
         "hoverinfo": "lon+lat+text",
         "lat": [
          49.815273
         ],
         "lon": [
          6.129583
         ],
         "marker": {
          "color": "#2c7bb6",
          "size": 6,
          "sizemode": "area"
         },
         "name": null,
         "showlegend": false,
         "text": "Luxembourg (1.5hr)",
         "type": "scattergeo"
        },
        {
         "hoverinfo": "lon+lat+text",
         "lat": [
          4.210483999999999
         ],
         "lon": [
          101.97576600000001
         ],
         "marker": {
          "color": "#8a5cd1",
          "size": 6,
          "sizemode": "area"
         },
         "name": null,
         "showlegend": false,
         "text": "Malaysia (1.6hr)",
         "type": "scattergeo"
        },
        {
         "hoverinfo": "lon+lat+text",
         "lat": [
          23.634501
         ],
         "lon": [
          -102.552784
         ],
         "marker": {
          "color": "#2c7bb6",
          "size": 6,
          "sizemode": "area"
         },
         "name": null,
         "showlegend": false,
         "text": "Mexico (1.5hr)",
         "type": "scattergeo"
        },
        {
         "hoverinfo": "lon+lat+text",
         "lat": [
          31.791702
         ],
         "lon": [
          -7.09262
         ],
         "marker": {
          "color": "#8a5cd1",
          "size": 6,
          "sizemode": "area"
         },
         "name": null,
         "showlegend": false,
         "text": "Morocco (1.6hr)",
         "type": "scattergeo"
        },
        {
         "hoverinfo": "lon+lat+text",
         "lat": [
          28.394857000000002
         ],
         "lon": [
          84.12400799999999
         ],
         "marker": {
          "color": "#fdae61",
          "size": 6,
          "sizemode": "area"
         },
         "name": "1.8 - 2.0 hr",
         "showlegend": true,
         "text": "Nepal (1.9hr)",
         "type": "scattergeo"
        },
        {
         "hoverinfo": "lon+lat+text",
         "lat": [
          52.132633
         ],
         "lon": [
          5.291266
         ],
         "marker": {
          "color": "#2c7bb6",
          "size": 6,
          "sizemode": "area"
         },
         "name": null,
         "showlegend": false,
         "text": "Netherlands (1.5hr)",
         "type": "scattergeo"
        },
        {
         "hoverinfo": "lon+lat+text",
         "lat": [
          -40.900557
         ],
         "lon": [
          174.88597099999998
         ],
         "marker": {
          "color": "#2c7bb6",
          "size": 6,
          "sizemode": "area"
         },
         "name": null,
         "showlegend": false,
         "text": "New Zealand (1.5hr)",
         "type": "scattergeo"
        },
        {
         "hoverinfo": "lon+lat+text",
         "lat": [
          9.081999
         ],
         "lon": [
          8.675277000000001
         ],
         "marker": {
          "color": "#8a5cd1",
          "size": 6,
          "sizemode": "area"
         },
         "name": "1.6 - 1.8 hr",
         "showlegend": true,
         "text": "Nigeria (1.6hr)",
         "type": "scattergeo"
        },
        {
         "hoverinfo": "lon+lat+text",
         "lat": [
          60.472024
         ],
         "lon": [
          8.468946
         ],
         "marker": {
          "color": "#2c7bb6",
          "size": 6,
          "sizemode": "area"
         },
         "name": "1.4 - 1.6 hr",
         "showlegend": true,
         "text": "Norway (1.5hr)",
         "type": "scattergeo"
        },
        {
         "hoverinfo": "lon+lat+text",
         "lat": [
          null
         ],
         "lon": [
          null
         ],
         "marker": {
          "color": "#2c7bb6",
          "size": 6,
          "sizemode": "area"
         },
         "name": null,
         "showlegend": false,
         "text": "Occupied Palestinian Territory (1.4hr)",
         "type": "scattergeo"
        },
        {
         "hoverinfo": "lon+lat+text",
         "lat": [
          30.375321000000003
         ],
         "lon": [
          69.345116
         ],
         "marker": {
          "color": "#fdae61",
          "size": 6,
          "sizemode": "area"
         },
         "name": null,
         "showlegend": false,
         "text": "Pakistan (2.0hr)",
         "type": "scattergeo"
        },
        {
         "hoverinfo": "lon+lat+text",
         "lat": [
          -9.189967
         ],
         "lon": [
          -75.015152
         ],
         "marker": {
          "color": "#2c7bb6",
          "size": 6,
          "sizemode": "area"
         },
         "name": null,
         "showlegend": false,
         "text": "Peru (1.5hr)",
         "type": "scattergeo"
        },
        {
         "hoverinfo": "lon+lat+text",
         "lat": [
          12.879721
         ],
         "lon": [
          121.77401699999999
         ],
         "marker": {
          "color": "#8a5cd1",
          "size": 6,
          "sizemode": "area"
         },
         "name": null,
         "showlegend": false,
         "text": "Philippines (1.7hr)",
         "type": "scattergeo"
        },
        {
         "hoverinfo": "lon+lat+text",
         "lat": [
          51.919438
         ],
         "lon": [
          19.145135999999997
         ],
         "marker": {
          "color": "#2c7bb6",
          "size": 6,
          "sizemode": "area"
         },
         "name": null,
         "showlegend": false,
         "text": "Poland (1.6hr)",
         "type": "scattergeo"
        },
        {
         "hoverinfo": "lon+lat+text",
         "lat": [
          39.399871999999995
         ],
         "lon": [
          -8.224454
         ],
         "marker": {
          "color": "#2c7bb6",
          "size": 6,
          "sizemode": "area"
         },
         "name": null,
         "showlegend": false,
         "text": "Portugal (1.6hr)",
         "type": "scattergeo"
        },
        {
         "hoverinfo": "lon+lat+text",
         "lat": [
          18.220833
         ],
         "lon": [
          -66.590149
         ],
         "marker": {
          "color": "#2c7bb6",
          "size": 6,
          "sizemode": "area"
         },
         "name": null,
         "showlegend": false,
         "text": "Puerto Rico (1.5hr)",
         "type": "scattergeo"
        },
        {
         "hoverinfo": "lon+lat+text",
         "lat": [
          45.943160999999996
         ],
         "lon": [
          24.96676
         ],
         "marker": {
          "color": "#2c7bb6",
          "size": 6,
          "sizemode": "area"
         },
         "name": null,
         "showlegend": false,
         "text": "Romania (1.6hr)",
         "type": "scattergeo"
        },
        {
         "hoverinfo": "lon+lat+text",
         "lat": [
          61.52401
         ],
         "lon": [
          105.31875600000001
         ],
         "marker": {
          "color": "#2c7bb6",
          "size": 6,
          "sizemode": "area"
         },
         "name": null,
         "showlegend": false,
         "text": "Russia (1.6hr)",
         "type": "scattergeo"
        },
        {
         "hoverinfo": "lon+lat+text",
         "lat": [
          44.016521000000004
         ],
         "lon": [
          21.005859
         ],
         "marker": {
          "color": "#2c7bb6",
          "size": 6,
          "sizemode": "area"
         },
         "name": null,
         "showlegend": false,
         "text": "Serbia (1.6hr)",
         "type": "scattergeo"
        },
        {
         "hoverinfo": "lon+lat+text",
         "lat": [
          1.352083
         ],
         "lon": [
          103.819836
         ],
         "marker": {
          "color": "#2c7bb6",
          "size": 6,
          "sizemode": "area"
         },
         "name": null,
         "showlegend": false,
         "text": "Singapore (1.6hr)",
         "type": "scattergeo"
        },
        {
         "hoverinfo": "lon+lat+text",
         "lat": [
          48.669026
         ],
         "lon": [
          19.699023999999998
         ],
         "marker": {
          "color": "#2c7bb6",
          "size": 6,
          "sizemode": "area"
         },
         "name": null,
         "showlegend": false,
         "text": "Slovakia (1.5hr)",
         "type": "scattergeo"
        },
        {
         "hoverinfo": "lon+lat+text",
         "lat": [
          46.151241
         ],
         "lon": [
          14.995463
         ],
         "marker": {
          "color": "#2c7bb6",
          "size": 6,
          "sizemode": "area"
         },
         "name": null,
         "showlegend": false,
         "text": "Slovenia (1.5hr)",
         "type": "scattergeo"
        },
        {
         "hoverinfo": "lon+lat+text",
         "lat": [
          -30.559482
         ],
         "lon": [
          22.937506
         ],
         "marker": {
          "color": "#2c7bb6",
          "size": 6,
          "sizemode": "area"
         },
         "name": null,
         "showlegend": false,
         "text": "South Africa (1.6hr)",
         "type": "scattergeo"
        },
        {
         "hoverinfo": "lon+lat+text",
         "lat": [
          35.907757000000004
         ],
         "lon": [
          127.766922
         ],
         "marker": {
          "color": "#8a5cd1",
          "size": 6,
          "sizemode": "area"
         },
         "name": null,
         "showlegend": false,
         "text": "South Korea (1.7hr)",
         "type": "scattergeo"
        },
        {
         "hoverinfo": "lon+lat+text",
         "lat": [
          null
         ],
         "lon": [
          null
         ],
         "marker": {
          "color": "#8a5cd1",
          "size": 6,
          "sizemode": "area"
         },
         "name": null,
         "showlegend": false,
         "text": "Soviet Union (1.6hr)",
         "type": "scattergeo"
        },
        {
         "hoverinfo": "lon+lat+text",
         "lat": [
          40.463667
         ],
         "lon": [
          -3.7492199999999998
         ],
         "marker": {
          "color": "#2c7bb6",
          "size": 6,
          "sizemode": "area"
         },
         "name": null,
         "showlegend": false,
         "text": "Spain (1.5hr)",
         "type": "scattergeo"
        },
        {
         "hoverinfo": "lon+lat+text",
         "lat": [
          7.873054
         ],
         "lon": [
          80.77179699999999
         ],
         "marker": {
          "color": "#8a5cd1",
          "size": 6,
          "sizemode": "area"
         },
         "name": null,
         "showlegend": false,
         "text": "Sri Lanka (1.7hr)",
         "type": "scattergeo"
        },
        {
         "hoverinfo": "lon+lat+text",
         "lat": [
          60.128161
         ],
         "lon": [
          18.643501
         ],
         "marker": {
          "color": "#2c7bb6",
          "size": 6,
          "sizemode": "area"
         },
         "name": null,
         "showlegend": false,
         "text": "Sweden (1.6hr)",
         "type": "scattergeo"
        },
        {
         "hoverinfo": "lon+lat+text",
         "lat": [
          46.818188
         ],
         "lon": [
          8.227511999999999
         ],
         "marker": {
          "color": "#2c7bb6",
          "size": 6,
          "sizemode": "area"
         },
         "name": null,
         "showlegend": false,
         "text": "Switzerland (1.5hr)",
         "type": "scattergeo"
        },
        {
         "hoverinfo": "lon+lat+text",
         "lat": [
          23.69781
         ],
         "lon": [
          120.96051499999999
         ],
         "marker": {
          "color": "#8a5cd1",
          "size": 6,
          "sizemode": "area"
         },
         "name": null,
         "showlegend": false,
         "text": "Taiwan (1.7hr)",
         "type": "scattergeo"
        },
        {
         "hoverinfo": "lon+lat+text",
         "lat": [
          15.870032
         ],
         "lon": [
          100.992541
         ],
         "marker": {
          "color": "#8a5cd1",
          "size": 6,
          "sizemode": "area"
         },
         "name": null,
         "showlegend": false,
         "text": "Thailand (1.7hr)",
         "type": "scattergeo"
        },
        {
         "hoverinfo": "lon+lat+text",
         "lat": [
          38.963745
         ],
         "lon": [
          35.243322
         ],
         "marker": {
          "color": "#8a5cd1",
          "size": 6,
          "sizemode": "area"
         },
         "name": null,
         "showlegend": false,
         "text": "Turkey (1.6hr)",
         "type": "scattergeo"
        },
        {
         "hoverinfo": "lon+lat+text",
         "lat": [
          55.378051
         ],
         "lon": [
          -3.435973
         ],
         "marker": {
          "color": "#2c7bb6",
          "size": 6,
          "sizemode": "area"
         },
         "name": null,
         "showlegend": false,
         "text": "UK (1.6hr)",
         "type": "scattergeo"
        },
        {
         "hoverinfo": "lon+lat+text",
         "lat": [
          37.09024
         ],
         "lon": [
          -95.712891
         ],
         "marker": {
          "color": "#2c7bb6",
          "size": 6,
          "sizemode": "area"
         },
         "name": null,
         "showlegend": false,
         "text": "USA (1.5hr)",
         "type": "scattergeo"
        },
        {
         "hoverinfo": "lon+lat+text",
         "lat": [
          48.379433
         ],
         "lon": [
          31.16558
         ],
         "marker": {
          "color": "#2c7bb6",
          "size": 6,
          "sizemode": "area"
         },
         "name": null,
         "showlegend": false,
         "text": "Ukraine (1.6hr)",
         "type": "scattergeo"
        },
        {
         "hoverinfo": "lon+lat+text",
         "lat": [
          23.424076
         ],
         "lon": [
          53.847818000000004
         ],
         "marker": {
          "color": "#2c7bb6",
          "size": 6,
          "sizemode": "area"
         },
         "name": null,
         "showlegend": false,
         "text": "United Arab Emirates (1.5hr)",
         "type": "scattergeo"
        },
        {
         "hoverinfo": "lon+lat+text",
         "lat": [
          -32.522779
         ],
         "lon": [
          -55.765834999999996
         ],
         "marker": {
          "color": "#2c7bb6",
          "size": 6,
          "sizemode": "area"
         },
         "name": null,
         "showlegend": false,
         "text": "Uruguay (1.4hr)",
         "type": "scattergeo"
        },
        {
         "hoverinfo": "lon+lat+text",
         "lat": [
          6.42375
         ],
         "lon": [
          -66.58973
         ],
         "marker": {
          "color": "#8a5cd1",
          "size": 6,
          "sizemode": "area"
         },
         "name": null,
         "showlegend": false,
         "text": "Venezuela (1.6hr)",
         "type": "scattergeo"
        },
        {
         "hoverinfo": "lon+lat+text",
         "lat": [
          14.058323999999999
         ],
         "lon": [
          108.277199
         ],
         "marker": {
          "color": "#8a5cd1",
          "size": 6,
          "sizemode": "area"
         },
         "name": null,
         "showlegend": false,
         "text": "Vietnam (1.6hr)",
         "type": "scattergeo"
        }
       ],
       "layout": {
        "geo": {
         "countrycolor": "rgb(255, 255, 255)",
         "countrywidth": 0.1,
         "landcolor": "#292727",
         "projection": {
          "type": "natural earth"
         },
         "showcountries": true,
         "showland": true
        },
        "height": 500,
        "legend": {
         "font": {
          "size": 15
         },
         "x": 0.95
        },
        "margin": {
         "b": 0,
         "l": 10,
         "pad": 0,
         "r": 0,
         "t": 30
        },
        "title": "Average movie run-time by country",
        "width": 1000
       }
      },
      "text/html": [
       "<div id=\"2598e3e7-37c4-4179-9e9c-3c90e7dca4be\" style=\"height: 500px; width: 1000px;\" class=\"plotly-graph-div\"></div><script type=\"text/javascript\">require([\"plotly\"], function(Plotly) { window.PLOTLYENV=window.PLOTLYENV || {};window.PLOTLYENV.BASE_URL=\"https://plot.ly\";Plotly.newPlot(\"2598e3e7-37c4-4179-9e9c-3c90e7dca4be\", [{\"type\": \"scattergeo\", \"lon\": [1.6596259999999998], \"lat\": [28.033886], \"text\": \"Algeria (1.6hr)\", \"hoverinfo\": \"lon+lat+text\", \"marker\": {\"size\": 6, \"color\": \"#8a5cd1\", \"sizemode\": \"area\"}, \"name\": null, \"showlegend\": false}, {\"type\": \"scattergeo\", \"lon\": [-63.616671999999994], \"lat\": [-38.416097], \"text\": \"Argentina (1.5hr)\", \"hoverinfo\": \"lon+lat+text\", \"marker\": {\"size\": 6, \"color\": \"#2c7bb6\", \"sizemode\": \"area\"}, \"name\": null, \"showlegend\": false}, {\"type\": \"scattergeo\", \"lon\": [45.038189], \"lat\": [40.069099], \"text\": \"Armenia (1.5hr)\", \"hoverinfo\": \"lon+lat+text\", \"marker\": {\"size\": 6, \"color\": \"#2c7bb6\", \"sizemode\": \"area\"}, \"name\": null, \"showlegend\": false}, {\"type\": \"scattergeo\", \"lon\": [133.775136], \"lat\": [-25.274398], \"text\": \"Australia (1.5hr)\", \"hoverinfo\": \"lon+lat+text\", \"marker\": {\"size\": 6, \"color\": \"#2c7bb6\", \"sizemode\": \"area\"}, \"name\": null, \"showlegend\": false}, {\"type\": \"scattergeo\", \"lon\": [14.550072], \"lat\": [47.516231], \"text\": \"Austria (1.5hr)\", \"hoverinfo\": \"lon+lat+text\", \"marker\": {\"size\": 6, \"color\": \"#2c7bb6\", \"sizemode\": \"area\"}, \"name\": null, \"showlegend\": false}, {\"type\": \"scattergeo\", \"lon\": [47.576927000000005], \"lat\": [40.143105], \"text\": \"Azerbaijan (1.5hr)\", \"hoverinfo\": \"lon+lat+text\", \"marker\": {\"size\": 6, \"color\": \"#2c7bb6\", \"sizemode\": \"area\"}, \"name\": null, \"showlegend\": false}, {\"type\": \"scattergeo\", \"lon\": [90.35633100000001], \"lat\": [23.684994], \"text\": \"Bangladesh (2.2hr)\", \"hoverinfo\": \"lon+lat+text\", \"marker\": {\"size\": 6, \"color\": \"#d7191c\", \"sizemode\": \"area\"}, \"name\": \"2.0 - 2.2 hr\", \"showlegend\": true}, {\"type\": \"scattergeo\", \"lon\": [27.953389], \"lat\": [53.709807], \"text\": \"Belarus (1.5hr)\", \"hoverinfo\": \"lon+lat+text\", \"marker\": {\"size\": 6, \"color\": \"#2c7bb6\", \"sizemode\": \"area\"}, \"name\": null, \"showlegend\": false}, {\"type\": \"scattergeo\", \"lon\": [4.469936], \"lat\": [50.503887], \"text\": \"Belgium (1.5hr)\", \"hoverinfo\": \"lon+lat+text\", \"marker\": {\"size\": 6, \"color\": \"#2c7bb6\", \"sizemode\": \"area\"}, \"name\": null, \"showlegend\": false}, {\"type\": \"scattergeo\", \"lon\": [-63.588653], \"lat\": [-16.290154], \"text\": \"Bolivia (1.6hr)\", \"hoverinfo\": \"lon+lat+text\", \"marker\": {\"size\": 6, \"color\": \"#2c7bb6\", \"sizemode\": \"area\"}, \"name\": null, \"showlegend\": false}, {\"type\": \"scattergeo\", \"lon\": [17.679076000000002], \"lat\": [43.915886], \"text\": \"Bosnia and Herzegovina (1.4hr)\", \"hoverinfo\": \"lon+lat+text\", \"marker\": {\"size\": 6, \"color\": \"#2c7bb6\", \"sizemode\": \"area\"}, \"name\": null, \"showlegend\": false}, {\"type\": \"scattergeo\", \"lon\": [-51.92528], \"lat\": [-14.235004], \"text\": \"Brazil (1.5hr)\", \"hoverinfo\": \"lon+lat+text\", \"marker\": {\"size\": 6, \"color\": \"#2c7bb6\", \"sizemode\": \"area\"}, \"name\": null, \"showlegend\": false}, {\"type\": \"scattergeo\", \"lon\": [25.48583], \"lat\": [42.733883], \"text\": \"Bulgaria (1.6hr)\", \"hoverinfo\": \"lon+lat+text\", \"marker\": {\"size\": 6, \"color\": \"#2c7bb6\", \"sizemode\": \"area\"}, \"name\": null, \"showlegend\": false}, {\"type\": \"scattergeo\", \"lon\": [-106.34677099999999], \"lat\": [56.130366], \"text\": \"Canada (1.5hr)\", \"hoverinfo\": \"lon+lat+text\", \"marker\": {\"size\": 6, \"color\": \"#2c7bb6\", \"sizemode\": \"area\"}, \"name\": null, \"showlegend\": false}, {\"type\": \"scattergeo\", \"lon\": [-71.542969], \"lat\": [-35.675146999999996], \"text\": \"Chile (1.5hr)\", \"hoverinfo\": \"lon+lat+text\", \"marker\": {\"size\": 6, \"color\": \"#2c7bb6\", \"sizemode\": \"area\"}, \"name\": null, \"showlegend\": false}, {\"type\": \"scattergeo\", \"lon\": [104.195397], \"lat\": [35.86166], \"text\": \"China (1.6hr)\", \"hoverinfo\": \"lon+lat+text\", \"marker\": {\"size\": 6, \"color\": \"#8a5cd1\", \"sizemode\": \"area\"}, \"name\": null, \"showlegend\": false}, {\"type\": \"scattergeo\", \"lon\": [-74.297333], \"lat\": [4.570868], \"text\": \"Colombia (1.5hr)\", \"hoverinfo\": \"lon+lat+text\", \"marker\": {\"size\": 6, \"color\": \"#2c7bb6\", \"sizemode\": \"area\"}, \"name\": null, \"showlegend\": false}, {\"type\": \"scattergeo\", \"lon\": [-83.753428], \"lat\": [9.748917], \"text\": \"Costa Rica (1.4hr)\", \"hoverinfo\": \"lon+lat+text\", \"marker\": {\"size\": 6, \"color\": \"#2c7bb6\", \"sizemode\": \"area\"}, \"name\": null, \"showlegend\": false}, {\"type\": \"scattergeo\", \"lon\": [15.2], \"lat\": [45.1], \"text\": \"Croatia (1.5hr)\", \"hoverinfo\": \"lon+lat+text\", \"marker\": {\"size\": 6, \"color\": \"#2c7bb6\", \"sizemode\": \"area\"}, \"name\": null, \"showlegend\": false}, {\"type\": \"scattergeo\", \"lon\": [-77.78116700000001], \"lat\": [21.521757], \"text\": \"Cuba (1.5hr)\", \"hoverinfo\": \"lon+lat+text\", \"marker\": {\"size\": 6, \"color\": \"#2c7bb6\", \"sizemode\": \"area\"}, \"name\": null, \"showlegend\": false}, {\"type\": \"scattergeo\", \"lon\": [33.429859], \"lat\": [35.126413], \"text\": \"Cyprus (1.5hr)\", \"hoverinfo\": \"lon+lat+text\", \"marker\": {\"size\": 6, \"color\": \"#2c7bb6\", \"sizemode\": \"area\"}, \"name\": null, \"showlegend\": false}, {\"type\": \"scattergeo\", \"lon\": [15.472961999999999], \"lat\": [49.817492], \"text\": \"Czech Republic (1.6hr)\", \"hoverinfo\": \"lon+lat+text\", \"marker\": {\"size\": 6, \"color\": \"#2c7bb6\", \"sizemode\": \"area\"}, \"name\": null, \"showlegend\": false}, {\"type\": \"scattergeo\", \"lon\": [9.501785], \"lat\": [56.26392], \"text\": \"Denmark (1.5hr)\", \"hoverinfo\": \"lon+lat+text\", \"marker\": {\"size\": 6, \"color\": \"#2c7bb6\", \"sizemode\": \"area\"}, \"name\": null, \"showlegend\": false}, {\"type\": \"scattergeo\", \"lon\": [-70.162651], \"lat\": [18.735692999999998], \"text\": \"Dominican Republic (1.5hr)\", \"hoverinfo\": \"lon+lat+text\", \"marker\": {\"size\": 6, \"color\": \"#2c7bb6\", \"sizemode\": \"area\"}, \"name\": null, \"showlegend\": false}, {\"type\": \"scattergeo\", \"lon\": [-78.183406], \"lat\": [-1.8312389999999998], \"text\": \"Ecuador (1.5hr)\", \"hoverinfo\": \"lon+lat+text\", \"marker\": {\"size\": 6, \"color\": \"#2c7bb6\", \"sizemode\": \"area\"}, \"name\": null, \"showlegend\": false}, {\"type\": \"scattergeo\", \"lon\": [30.802497999999996], \"lat\": [26.820553000000004], \"text\": \"Egypt (1.7hr)\", \"hoverinfo\": \"lon+lat+text\", \"marker\": {\"size\": 6, \"color\": \"#8a5cd1\", \"sizemode\": \"area\"}, \"name\": null, \"showlegend\": false}, {\"type\": \"scattergeo\", \"lon\": [25.013607], \"lat\": [58.595271999999994], \"text\": \"Estonia (1.5hr)\", \"hoverinfo\": \"lon+lat+text\", \"marker\": {\"size\": 6, \"color\": \"#2c7bb6\", \"sizemode\": \"area\"}, \"name\": null, \"showlegend\": false}, {\"type\": \"scattergeo\", \"lon\": [null], \"lat\": [null], \"text\": \"Federal Republic of Yugoslavia (1.6hr)\", \"hoverinfo\": \"lon+lat+text\", \"marker\": {\"size\": 6, \"color\": \"#8a5cd1\", \"sizemode\": \"area\"}, \"name\": null, \"showlegend\": false}, {\"type\": \"scattergeo\", \"lon\": [25.748151], \"lat\": [61.92411], \"text\": \"Finland (1.5hr)\", \"hoverinfo\": \"lon+lat+text\", \"marker\": {\"size\": 6, \"color\": \"#2c7bb6\", \"sizemode\": \"area\"}, \"name\": null, \"showlegend\": false}, {\"type\": \"scattergeo\", \"lon\": [2.213749], \"lat\": [46.227638], \"text\": \"France (1.6hr)\", \"hoverinfo\": \"lon+lat+text\", \"marker\": {\"size\": 6, \"color\": \"#2c7bb6\", \"sizemode\": \"area\"}, \"name\": null, \"showlegend\": false}, {\"type\": \"scattergeo\", \"lon\": [43.356891999999995], \"lat\": [42.315407], \"text\": \"Georgia (1.6hr)\", \"hoverinfo\": \"lon+lat+text\", \"marker\": {\"size\": 6, \"color\": \"#2c7bb6\", \"sizemode\": \"area\"}, \"name\": null, \"showlegend\": false}, {\"type\": \"scattergeo\", \"lon\": [10.451526], \"lat\": [51.165690999999995], \"text\": \"Germany (1.5hr)\", \"hoverinfo\": \"lon+lat+text\", \"marker\": {\"size\": 6, \"color\": \"#2c7bb6\", \"sizemode\": \"area\"}, \"name\": null, \"showlegend\": false}, {\"type\": \"scattergeo\", \"lon\": [21.824312], \"lat\": [39.074208], \"text\": \"Greece (1.5hr)\", \"hoverinfo\": \"lon+lat+text\", \"marker\": {\"size\": 6, \"color\": \"#2c7bb6\", \"sizemode\": \"area\"}, \"name\": null, \"showlegend\": false}, {\"type\": \"scattergeo\", \"lon\": [114.10949699999999], \"lat\": [22.396428], \"text\": \"Hong Kong (1.6hr)\", \"hoverinfo\": \"lon+lat+text\", \"marker\": {\"size\": 6, \"color\": \"#8a5cd1\", \"sizemode\": \"area\"}, \"name\": null, \"showlegend\": false}, {\"type\": \"scattergeo\", \"lon\": [19.503304], \"lat\": [47.162494], \"text\": \"Hungary (1.5hr)\", \"hoverinfo\": \"lon+lat+text\", \"marker\": {\"size\": 6, \"color\": \"#2c7bb6\", \"sizemode\": \"area\"}, \"name\": null, \"showlegend\": false}, {\"type\": \"scattergeo\", \"lon\": [-19.020835], \"lat\": [64.96305100000001], \"text\": \"Iceland (1.5hr)\", \"hoverinfo\": \"lon+lat+text\", \"marker\": {\"size\": 6, \"color\": \"#2c7bb6\", \"sizemode\": \"area\"}, \"name\": null, \"showlegend\": false}, {\"type\": \"scattergeo\", \"lon\": [78.96288], \"lat\": [20.593684], \"text\": \"India (2.2hr)\", \"hoverinfo\": \"lon+lat+text\", \"marker\": {\"size\": 6, \"color\": \"#d7191c\", \"sizemode\": \"area\"}, \"name\": null, \"showlegend\": false}, {\"type\": \"scattergeo\", \"lon\": [113.921327], \"lat\": [-0.789275], \"text\": \"Indonesia (1.6hr)\", \"hoverinfo\": \"lon+lat+text\", \"marker\": {\"size\": 6, \"color\": \"#2c7bb6\", \"sizemode\": \"area\"}, \"name\": null, \"showlegend\": false}, {\"type\": \"scattergeo\", \"lon\": [53.68804599999999], \"lat\": [32.427908], \"text\": \"Iran (1.5hr)\", \"hoverinfo\": \"lon+lat+text\", \"marker\": {\"size\": 6, \"color\": \"#2c7bb6\", \"sizemode\": \"area\"}, \"name\": null, \"showlegend\": false}, {\"type\": \"scattergeo\", \"lon\": [43.679291], \"lat\": [33.223191], \"text\": \"Iraq (1.5hr)\", \"hoverinfo\": \"lon+lat+text\", \"marker\": {\"size\": 6, \"color\": \"#2c7bb6\", \"sizemode\": \"area\"}, \"name\": null, \"showlegend\": false}, {\"type\": \"scattergeo\", \"lon\": [-8.243889999999999], \"lat\": [53.41291], \"text\": \"Ireland (1.5hr)\", \"hoverinfo\": \"lon+lat+text\", \"marker\": {\"size\": 6, \"color\": \"#2c7bb6\", \"sizemode\": \"area\"}, \"name\": null, \"showlegend\": false}, {\"type\": \"scattergeo\", \"lon\": [34.851612], \"lat\": [31.046051000000002], \"text\": \"Israel (1.5hr)\", \"hoverinfo\": \"lon+lat+text\", \"marker\": {\"size\": 6, \"color\": \"#2c7bb6\", \"sizemode\": \"area\"}, \"name\": null, \"showlegend\": false}, {\"type\": \"scattergeo\", \"lon\": [12.56738], \"lat\": [41.87194], \"text\": \"Italy (1.5hr)\", \"hoverinfo\": \"lon+lat+text\", \"marker\": {\"size\": 6, \"color\": \"#2c7bb6\", \"sizemode\": \"area\"}, \"name\": null, \"showlegend\": false}, {\"type\": \"scattergeo\", \"lon\": [138.252924], \"lat\": [36.204824], \"text\": \"Japan (1.6hr)\", \"hoverinfo\": \"lon+lat+text\", \"marker\": {\"size\": 6, \"color\": \"#8a5cd1\", \"sizemode\": \"area\"}, \"name\": null, \"showlegend\": false}, {\"type\": \"scattergeo\", \"lon\": [66.923684], \"lat\": [48.019573], \"text\": \"Kazakhstan (1.5hr)\", \"hoverinfo\": \"lon+lat+text\", \"marker\": {\"size\": 6, \"color\": \"#2c7bb6\", \"sizemode\": \"area\"}, \"name\": null, \"showlegend\": false}, {\"type\": \"scattergeo\", \"lon\": [24.603189], \"lat\": [56.879635], \"text\": \"Latvia (1.6hr)\", \"hoverinfo\": \"lon+lat+text\", \"marker\": {\"size\": 6, \"color\": \"#2c7bb6\", \"sizemode\": \"area\"}, \"name\": null, \"showlegend\": false}, {\"type\": \"scattergeo\", \"lon\": [35.862285], \"lat\": [33.854721000000005], \"text\": \"Lebanon (1.5hr)\", \"hoverinfo\": \"lon+lat+text\", \"marker\": {\"size\": 6, \"color\": \"#2c7bb6\", \"sizemode\": \"area\"}, \"name\": null, \"showlegend\": false}, {\"type\": \"scattergeo\", \"lon\": [23.881275], \"lat\": [55.169438], \"text\": \"Lithuania (1.6hr)\", \"hoverinfo\": \"lon+lat+text\", \"marker\": {\"size\": 6, \"color\": \"#2c7bb6\", \"sizemode\": \"area\"}, \"name\": null, \"showlegend\": false}, {\"type\": \"scattergeo\", \"lon\": [6.129583], \"lat\": [49.815273], \"text\": \"Luxembourg (1.5hr)\", \"hoverinfo\": \"lon+lat+text\", \"marker\": {\"size\": 6, \"color\": \"#2c7bb6\", \"sizemode\": \"area\"}, \"name\": null, \"showlegend\": false}, {\"type\": \"scattergeo\", \"lon\": [101.97576600000001], \"lat\": [4.210483999999999], \"text\": \"Malaysia (1.6hr)\", \"hoverinfo\": \"lon+lat+text\", \"marker\": {\"size\": 6, \"color\": \"#8a5cd1\", \"sizemode\": \"area\"}, \"name\": null, \"showlegend\": false}, {\"type\": \"scattergeo\", \"lon\": [-102.552784], \"lat\": [23.634501], \"text\": \"Mexico (1.5hr)\", \"hoverinfo\": \"lon+lat+text\", \"marker\": {\"size\": 6, \"color\": \"#2c7bb6\", \"sizemode\": \"area\"}, \"name\": null, \"showlegend\": false}, {\"type\": \"scattergeo\", \"lon\": [-7.09262], \"lat\": [31.791702], \"text\": \"Morocco (1.6hr)\", \"hoverinfo\": \"lon+lat+text\", \"marker\": {\"size\": 6, \"color\": \"#8a5cd1\", \"sizemode\": \"area\"}, \"name\": null, \"showlegend\": false}, {\"type\": \"scattergeo\", \"lon\": [84.12400799999999], \"lat\": [28.394857000000002], \"text\": \"Nepal (1.9hr)\", \"hoverinfo\": \"lon+lat+text\", \"marker\": {\"size\": 6, \"color\": \"#fdae61\", \"sizemode\": \"area\"}, \"name\": \"1.8 - 2.0 hr\", \"showlegend\": true}, {\"type\": \"scattergeo\", \"lon\": [5.291266], \"lat\": [52.132633], \"text\": \"Netherlands (1.5hr)\", \"hoverinfo\": \"lon+lat+text\", \"marker\": {\"size\": 6, \"color\": \"#2c7bb6\", \"sizemode\": \"area\"}, \"name\": null, \"showlegend\": false}, {\"type\": \"scattergeo\", \"lon\": [174.88597099999998], \"lat\": [-40.900557], \"text\": \"New Zealand (1.5hr)\", \"hoverinfo\": \"lon+lat+text\", \"marker\": {\"size\": 6, \"color\": \"#2c7bb6\", \"sizemode\": \"area\"}, \"name\": null, \"showlegend\": false}, {\"type\": \"scattergeo\", \"lon\": [8.675277000000001], \"lat\": [9.081999], \"text\": \"Nigeria (1.6hr)\", \"hoverinfo\": \"lon+lat+text\", \"marker\": {\"size\": 6, \"color\": \"#8a5cd1\", \"sizemode\": \"area\"}, \"name\": \"1.6 - 1.8 hr\", \"showlegend\": true}, {\"type\": \"scattergeo\", \"lon\": [8.468946], \"lat\": [60.472024], \"text\": \"Norway (1.5hr)\", \"hoverinfo\": \"lon+lat+text\", \"marker\": {\"size\": 6, \"color\": \"#2c7bb6\", \"sizemode\": \"area\"}, \"name\": \"1.4 - 1.6 hr\", \"showlegend\": true}, {\"type\": \"scattergeo\", \"lon\": [null], \"lat\": [null], \"text\": \"Occupied Palestinian Territory (1.4hr)\", \"hoverinfo\": \"lon+lat+text\", \"marker\": {\"size\": 6, \"color\": \"#2c7bb6\", \"sizemode\": \"area\"}, \"name\": null, \"showlegend\": false}, {\"type\": \"scattergeo\", \"lon\": [69.345116], \"lat\": [30.375321000000003], \"text\": \"Pakistan (2.0hr)\", \"hoverinfo\": \"lon+lat+text\", \"marker\": {\"size\": 6, \"color\": \"#fdae61\", \"sizemode\": \"area\"}, \"name\": null, \"showlegend\": false}, {\"type\": \"scattergeo\", \"lon\": [-75.015152], \"lat\": [-9.189967], \"text\": \"Peru (1.5hr)\", \"hoverinfo\": \"lon+lat+text\", \"marker\": {\"size\": 6, \"color\": \"#2c7bb6\", \"sizemode\": \"area\"}, \"name\": null, \"showlegend\": false}, {\"type\": \"scattergeo\", \"lon\": [121.77401699999999], \"lat\": [12.879721], \"text\": \"Philippines (1.7hr)\", \"hoverinfo\": \"lon+lat+text\", \"marker\": {\"size\": 6, \"color\": \"#8a5cd1\", \"sizemode\": \"area\"}, \"name\": null, \"showlegend\": false}, {\"type\": \"scattergeo\", \"lon\": [19.145135999999997], \"lat\": [51.919438], \"text\": \"Poland (1.6hr)\", \"hoverinfo\": \"lon+lat+text\", \"marker\": {\"size\": 6, \"color\": \"#2c7bb6\", \"sizemode\": \"area\"}, \"name\": null, \"showlegend\": false}, {\"type\": \"scattergeo\", \"lon\": [-8.224454], \"lat\": [39.399871999999995], \"text\": \"Portugal (1.6hr)\", \"hoverinfo\": \"lon+lat+text\", \"marker\": {\"size\": 6, \"color\": \"#2c7bb6\", \"sizemode\": \"area\"}, \"name\": null, \"showlegend\": false}, {\"type\": \"scattergeo\", \"lon\": [-66.590149], \"lat\": [18.220833], \"text\": \"Puerto Rico (1.5hr)\", \"hoverinfo\": \"lon+lat+text\", \"marker\": {\"size\": 6, \"color\": \"#2c7bb6\", \"sizemode\": \"area\"}, \"name\": null, \"showlegend\": false}, {\"type\": \"scattergeo\", \"lon\": [24.96676], \"lat\": [45.943160999999996], \"text\": \"Romania (1.6hr)\", \"hoverinfo\": \"lon+lat+text\", \"marker\": {\"size\": 6, \"color\": \"#2c7bb6\", \"sizemode\": \"area\"}, \"name\": null, \"showlegend\": false}, {\"type\": \"scattergeo\", \"lon\": [105.31875600000001], \"lat\": [61.52401], \"text\": \"Russia (1.6hr)\", \"hoverinfo\": \"lon+lat+text\", \"marker\": {\"size\": 6, \"color\": \"#2c7bb6\", \"sizemode\": \"area\"}, \"name\": null, \"showlegend\": false}, {\"type\": \"scattergeo\", \"lon\": [21.005859], \"lat\": [44.016521000000004], \"text\": \"Serbia (1.6hr)\", \"hoverinfo\": \"lon+lat+text\", \"marker\": {\"size\": 6, \"color\": \"#2c7bb6\", \"sizemode\": \"area\"}, \"name\": null, \"showlegend\": false}, {\"type\": \"scattergeo\", \"lon\": [103.819836], \"lat\": [1.352083], \"text\": \"Singapore (1.6hr)\", \"hoverinfo\": \"lon+lat+text\", \"marker\": {\"size\": 6, \"color\": \"#2c7bb6\", \"sizemode\": \"area\"}, \"name\": null, \"showlegend\": false}, {\"type\": \"scattergeo\", \"lon\": [19.699023999999998], \"lat\": [48.669026], \"text\": \"Slovakia (1.5hr)\", \"hoverinfo\": \"lon+lat+text\", \"marker\": {\"size\": 6, \"color\": \"#2c7bb6\", \"sizemode\": \"area\"}, \"name\": null, \"showlegend\": false}, {\"type\": \"scattergeo\", \"lon\": [14.995463], \"lat\": [46.151241], \"text\": \"Slovenia (1.5hr)\", \"hoverinfo\": \"lon+lat+text\", \"marker\": {\"size\": 6, \"color\": \"#2c7bb6\", \"sizemode\": \"area\"}, \"name\": null, \"showlegend\": false}, {\"type\": \"scattergeo\", \"lon\": [22.937506], \"lat\": [-30.559482], \"text\": \"South Africa (1.6hr)\", \"hoverinfo\": \"lon+lat+text\", \"marker\": {\"size\": 6, \"color\": \"#2c7bb6\", \"sizemode\": \"area\"}, \"name\": null, \"showlegend\": false}, {\"type\": \"scattergeo\", \"lon\": [127.766922], \"lat\": [35.907757000000004], \"text\": \"South Korea (1.7hr)\", \"hoverinfo\": \"lon+lat+text\", \"marker\": {\"size\": 6, \"color\": \"#8a5cd1\", \"sizemode\": \"area\"}, \"name\": null, \"showlegend\": false}, {\"type\": \"scattergeo\", \"lon\": [null], \"lat\": [null], \"text\": \"Soviet Union (1.6hr)\", \"hoverinfo\": \"lon+lat+text\", \"marker\": {\"size\": 6, \"color\": \"#8a5cd1\", \"sizemode\": \"area\"}, \"name\": null, \"showlegend\": false}, {\"type\": \"scattergeo\", \"lon\": [-3.7492199999999998], \"lat\": [40.463667], \"text\": \"Spain (1.5hr)\", \"hoverinfo\": \"lon+lat+text\", \"marker\": {\"size\": 6, \"color\": \"#2c7bb6\", \"sizemode\": \"area\"}, \"name\": null, \"showlegend\": false}, {\"type\": \"scattergeo\", \"lon\": [80.77179699999999], \"lat\": [7.873054], \"text\": \"Sri Lanka (1.7hr)\", \"hoverinfo\": \"lon+lat+text\", \"marker\": {\"size\": 6, \"color\": \"#8a5cd1\", \"sizemode\": \"area\"}, \"name\": null, \"showlegend\": false}, {\"type\": \"scattergeo\", \"lon\": [18.643501], \"lat\": [60.128161], \"text\": \"Sweden (1.6hr)\", \"hoverinfo\": \"lon+lat+text\", \"marker\": {\"size\": 6, \"color\": \"#2c7bb6\", \"sizemode\": \"area\"}, \"name\": null, \"showlegend\": false}, {\"type\": \"scattergeo\", \"lon\": [8.227511999999999], \"lat\": [46.818188], \"text\": \"Switzerland (1.5hr)\", \"hoverinfo\": \"lon+lat+text\", \"marker\": {\"size\": 6, \"color\": \"#2c7bb6\", \"sizemode\": \"area\"}, \"name\": null, \"showlegend\": false}, {\"type\": \"scattergeo\", \"lon\": [120.96051499999999], \"lat\": [23.69781], \"text\": \"Taiwan (1.7hr)\", \"hoverinfo\": \"lon+lat+text\", \"marker\": {\"size\": 6, \"color\": \"#8a5cd1\", \"sizemode\": \"area\"}, \"name\": null, \"showlegend\": false}, {\"type\": \"scattergeo\", \"lon\": [100.992541], \"lat\": [15.870032], \"text\": \"Thailand (1.7hr)\", \"hoverinfo\": \"lon+lat+text\", \"marker\": {\"size\": 6, \"color\": \"#8a5cd1\", \"sizemode\": \"area\"}, \"name\": null, \"showlegend\": false}, {\"type\": \"scattergeo\", \"lon\": [35.243322], \"lat\": [38.963745], \"text\": \"Turkey (1.6hr)\", \"hoverinfo\": \"lon+lat+text\", \"marker\": {\"size\": 6, \"color\": \"#8a5cd1\", \"sizemode\": \"area\"}, \"name\": null, \"showlegend\": false}, {\"type\": \"scattergeo\", \"lon\": [-3.435973], \"lat\": [55.378051], \"text\": \"UK (1.6hr)\", \"hoverinfo\": \"lon+lat+text\", \"marker\": {\"size\": 6, \"color\": \"#2c7bb6\", \"sizemode\": \"area\"}, \"name\": null, \"showlegend\": false}, {\"type\": \"scattergeo\", \"lon\": [-95.712891], \"lat\": [37.09024], \"text\": \"USA (1.5hr)\", \"hoverinfo\": \"lon+lat+text\", \"marker\": {\"size\": 6, \"color\": \"#2c7bb6\", \"sizemode\": \"area\"}, \"name\": null, \"showlegend\": false}, {\"type\": \"scattergeo\", \"lon\": [31.16558], \"lat\": [48.379433], \"text\": \"Ukraine (1.6hr)\", \"hoverinfo\": \"lon+lat+text\", \"marker\": {\"size\": 6, \"color\": \"#2c7bb6\", \"sizemode\": \"area\"}, \"name\": null, \"showlegend\": false}, {\"type\": \"scattergeo\", \"lon\": [53.847818000000004], \"lat\": [23.424076], \"text\": \"United Arab Emirates (1.5hr)\", \"hoverinfo\": \"lon+lat+text\", \"marker\": {\"size\": 6, \"color\": \"#2c7bb6\", \"sizemode\": \"area\"}, \"name\": null, \"showlegend\": false}, {\"type\": \"scattergeo\", \"lon\": [-55.765834999999996], \"lat\": [-32.522779], \"text\": \"Uruguay (1.4hr)\", \"hoverinfo\": \"lon+lat+text\", \"marker\": {\"size\": 6, \"color\": \"#2c7bb6\", \"sizemode\": \"area\"}, \"name\": null, \"showlegend\": false}, {\"type\": \"scattergeo\", \"lon\": [-66.58973], \"lat\": [6.42375], \"text\": \"Venezuela (1.6hr)\", \"hoverinfo\": \"lon+lat+text\", \"marker\": {\"size\": 6, \"color\": \"#8a5cd1\", \"sizemode\": \"area\"}, \"name\": null, \"showlegend\": false}, {\"type\": \"scattergeo\", \"lon\": [108.277199], \"lat\": [14.058323999999999], \"text\": \"Vietnam (1.6hr)\", \"hoverinfo\": \"lon+lat+text\", \"marker\": {\"size\": 6, \"color\": \"#8a5cd1\", \"sizemode\": \"area\"}, \"name\": null, \"showlegend\": false}], {\"title\": \"Average movie run-time by country\", \"width\": 1000, \"height\": 500, \"geo\": {\"projection\": {\"type\": \"natural earth\"}, \"showland\": true, \"showcountries\": true, \"countrywidth\": 0.1, \"landcolor\": \"#292727\", \"countrycolor\": \"rgb(255, 255, 255)\"}, \"margin\": {\"r\": 0, \"l\": 10, \"b\": 0, \"t\": 30, \"pad\": 0}, \"legend\": {\"x\": 0.95, \"font\": {\"size\": 15}}}, {\"showLink\": true, \"linkText\": \"Export to plot.ly\"})});</script>"
      ],
      "text/vnd.plotly.v1+html": [
       "<div id=\"2598e3e7-37c4-4179-9e9c-3c90e7dca4be\" style=\"height: 500px; width: 1000px;\" class=\"plotly-graph-div\"></div><script type=\"text/javascript\">require([\"plotly\"], function(Plotly) { window.PLOTLYENV=window.PLOTLYENV || {};window.PLOTLYENV.BASE_URL=\"https://plot.ly\";Plotly.newPlot(\"2598e3e7-37c4-4179-9e9c-3c90e7dca4be\", [{\"type\": \"scattergeo\", \"lon\": [1.6596259999999998], \"lat\": [28.033886], \"text\": \"Algeria (1.6hr)\", \"hoverinfo\": \"lon+lat+text\", \"marker\": {\"size\": 6, \"color\": \"#8a5cd1\", \"sizemode\": \"area\"}, \"name\": null, \"showlegend\": false}, {\"type\": \"scattergeo\", \"lon\": [-63.616671999999994], \"lat\": [-38.416097], \"text\": \"Argentina (1.5hr)\", \"hoverinfo\": \"lon+lat+text\", \"marker\": {\"size\": 6, \"color\": \"#2c7bb6\", \"sizemode\": \"area\"}, \"name\": null, \"showlegend\": false}, {\"type\": \"scattergeo\", \"lon\": [45.038189], \"lat\": [40.069099], \"text\": \"Armenia (1.5hr)\", \"hoverinfo\": \"lon+lat+text\", \"marker\": {\"size\": 6, \"color\": \"#2c7bb6\", \"sizemode\": \"area\"}, \"name\": null, \"showlegend\": false}, {\"type\": \"scattergeo\", \"lon\": [133.775136], \"lat\": [-25.274398], \"text\": \"Australia (1.5hr)\", \"hoverinfo\": \"lon+lat+text\", \"marker\": {\"size\": 6, \"color\": \"#2c7bb6\", \"sizemode\": \"area\"}, \"name\": null, \"showlegend\": false}, {\"type\": \"scattergeo\", \"lon\": [14.550072], \"lat\": [47.516231], \"text\": \"Austria (1.5hr)\", \"hoverinfo\": \"lon+lat+text\", \"marker\": {\"size\": 6, \"color\": \"#2c7bb6\", \"sizemode\": \"area\"}, \"name\": null, \"showlegend\": false}, {\"type\": \"scattergeo\", \"lon\": [47.576927000000005], \"lat\": [40.143105], \"text\": \"Azerbaijan (1.5hr)\", \"hoverinfo\": \"lon+lat+text\", \"marker\": {\"size\": 6, \"color\": \"#2c7bb6\", \"sizemode\": \"area\"}, \"name\": null, \"showlegend\": false}, {\"type\": \"scattergeo\", \"lon\": [90.35633100000001], \"lat\": [23.684994], \"text\": \"Bangladesh (2.2hr)\", \"hoverinfo\": \"lon+lat+text\", \"marker\": {\"size\": 6, \"color\": \"#d7191c\", \"sizemode\": \"area\"}, \"name\": \"2.0 - 2.2 hr\", \"showlegend\": true}, {\"type\": \"scattergeo\", \"lon\": [27.953389], \"lat\": [53.709807], \"text\": \"Belarus (1.5hr)\", \"hoverinfo\": \"lon+lat+text\", \"marker\": {\"size\": 6, \"color\": \"#2c7bb6\", \"sizemode\": \"area\"}, \"name\": null, \"showlegend\": false}, {\"type\": \"scattergeo\", \"lon\": [4.469936], \"lat\": [50.503887], \"text\": \"Belgium (1.5hr)\", \"hoverinfo\": \"lon+lat+text\", \"marker\": {\"size\": 6, \"color\": \"#2c7bb6\", \"sizemode\": \"area\"}, \"name\": null, \"showlegend\": false}, {\"type\": \"scattergeo\", \"lon\": [-63.588653], \"lat\": [-16.290154], \"text\": \"Bolivia (1.6hr)\", \"hoverinfo\": \"lon+lat+text\", \"marker\": {\"size\": 6, \"color\": \"#2c7bb6\", \"sizemode\": \"area\"}, \"name\": null, \"showlegend\": false}, {\"type\": \"scattergeo\", \"lon\": [17.679076000000002], \"lat\": [43.915886], \"text\": \"Bosnia and Herzegovina (1.4hr)\", \"hoverinfo\": \"lon+lat+text\", \"marker\": {\"size\": 6, \"color\": \"#2c7bb6\", \"sizemode\": \"area\"}, \"name\": null, \"showlegend\": false}, {\"type\": \"scattergeo\", \"lon\": [-51.92528], \"lat\": [-14.235004], \"text\": \"Brazil (1.5hr)\", \"hoverinfo\": \"lon+lat+text\", \"marker\": {\"size\": 6, \"color\": \"#2c7bb6\", \"sizemode\": \"area\"}, \"name\": null, \"showlegend\": false}, {\"type\": \"scattergeo\", \"lon\": [25.48583], \"lat\": [42.733883], \"text\": \"Bulgaria (1.6hr)\", \"hoverinfo\": \"lon+lat+text\", \"marker\": {\"size\": 6, \"color\": \"#2c7bb6\", \"sizemode\": \"area\"}, \"name\": null, \"showlegend\": false}, {\"type\": \"scattergeo\", \"lon\": [-106.34677099999999], \"lat\": [56.130366], \"text\": \"Canada (1.5hr)\", \"hoverinfo\": \"lon+lat+text\", \"marker\": {\"size\": 6, \"color\": \"#2c7bb6\", \"sizemode\": \"area\"}, \"name\": null, \"showlegend\": false}, {\"type\": \"scattergeo\", \"lon\": [-71.542969], \"lat\": [-35.675146999999996], \"text\": \"Chile (1.5hr)\", \"hoverinfo\": \"lon+lat+text\", \"marker\": {\"size\": 6, \"color\": \"#2c7bb6\", \"sizemode\": \"area\"}, \"name\": null, \"showlegend\": false}, {\"type\": \"scattergeo\", \"lon\": [104.195397], \"lat\": [35.86166], \"text\": \"China (1.6hr)\", \"hoverinfo\": \"lon+lat+text\", \"marker\": {\"size\": 6, \"color\": \"#8a5cd1\", \"sizemode\": \"area\"}, \"name\": null, \"showlegend\": false}, {\"type\": \"scattergeo\", \"lon\": [-74.297333], \"lat\": [4.570868], \"text\": \"Colombia (1.5hr)\", \"hoverinfo\": \"lon+lat+text\", \"marker\": {\"size\": 6, \"color\": \"#2c7bb6\", \"sizemode\": \"area\"}, \"name\": null, \"showlegend\": false}, {\"type\": \"scattergeo\", \"lon\": [-83.753428], \"lat\": [9.748917], \"text\": \"Costa Rica (1.4hr)\", \"hoverinfo\": \"lon+lat+text\", \"marker\": {\"size\": 6, \"color\": \"#2c7bb6\", \"sizemode\": \"area\"}, \"name\": null, \"showlegend\": false}, {\"type\": \"scattergeo\", \"lon\": [15.2], \"lat\": [45.1], \"text\": \"Croatia (1.5hr)\", \"hoverinfo\": \"lon+lat+text\", \"marker\": {\"size\": 6, \"color\": \"#2c7bb6\", \"sizemode\": \"area\"}, \"name\": null, \"showlegend\": false}, {\"type\": \"scattergeo\", \"lon\": [-77.78116700000001], \"lat\": [21.521757], \"text\": \"Cuba (1.5hr)\", \"hoverinfo\": \"lon+lat+text\", \"marker\": {\"size\": 6, \"color\": \"#2c7bb6\", \"sizemode\": \"area\"}, \"name\": null, \"showlegend\": false}, {\"type\": \"scattergeo\", \"lon\": [33.429859], \"lat\": [35.126413], \"text\": \"Cyprus (1.5hr)\", \"hoverinfo\": \"lon+lat+text\", \"marker\": {\"size\": 6, \"color\": \"#2c7bb6\", \"sizemode\": \"area\"}, \"name\": null, \"showlegend\": false}, {\"type\": \"scattergeo\", \"lon\": [15.472961999999999], \"lat\": [49.817492], \"text\": \"Czech Republic (1.6hr)\", \"hoverinfo\": \"lon+lat+text\", \"marker\": {\"size\": 6, \"color\": \"#2c7bb6\", \"sizemode\": \"area\"}, \"name\": null, \"showlegend\": false}, {\"type\": \"scattergeo\", \"lon\": [9.501785], \"lat\": [56.26392], \"text\": \"Denmark (1.5hr)\", \"hoverinfo\": \"lon+lat+text\", \"marker\": {\"size\": 6, \"color\": \"#2c7bb6\", \"sizemode\": \"area\"}, \"name\": null, \"showlegend\": false}, {\"type\": \"scattergeo\", \"lon\": [-70.162651], \"lat\": [18.735692999999998], \"text\": \"Dominican Republic (1.5hr)\", \"hoverinfo\": \"lon+lat+text\", \"marker\": {\"size\": 6, \"color\": \"#2c7bb6\", \"sizemode\": \"area\"}, \"name\": null, \"showlegend\": false}, {\"type\": \"scattergeo\", \"lon\": [-78.183406], \"lat\": [-1.8312389999999998], \"text\": \"Ecuador (1.5hr)\", \"hoverinfo\": \"lon+lat+text\", \"marker\": {\"size\": 6, \"color\": \"#2c7bb6\", \"sizemode\": \"area\"}, \"name\": null, \"showlegend\": false}, {\"type\": \"scattergeo\", \"lon\": [30.802497999999996], \"lat\": [26.820553000000004], \"text\": \"Egypt (1.7hr)\", \"hoverinfo\": \"lon+lat+text\", \"marker\": {\"size\": 6, \"color\": \"#8a5cd1\", \"sizemode\": \"area\"}, \"name\": null, \"showlegend\": false}, {\"type\": \"scattergeo\", \"lon\": [25.013607], \"lat\": [58.595271999999994], \"text\": \"Estonia (1.5hr)\", \"hoverinfo\": \"lon+lat+text\", \"marker\": {\"size\": 6, \"color\": \"#2c7bb6\", \"sizemode\": \"area\"}, \"name\": null, \"showlegend\": false}, {\"type\": \"scattergeo\", \"lon\": [null], \"lat\": [null], \"text\": \"Federal Republic of Yugoslavia (1.6hr)\", \"hoverinfo\": \"lon+lat+text\", \"marker\": {\"size\": 6, \"color\": \"#8a5cd1\", \"sizemode\": \"area\"}, \"name\": null, \"showlegend\": false}, {\"type\": \"scattergeo\", \"lon\": [25.748151], \"lat\": [61.92411], \"text\": \"Finland (1.5hr)\", \"hoverinfo\": \"lon+lat+text\", \"marker\": {\"size\": 6, \"color\": \"#2c7bb6\", \"sizemode\": \"area\"}, \"name\": null, \"showlegend\": false}, {\"type\": \"scattergeo\", \"lon\": [2.213749], \"lat\": [46.227638], \"text\": \"France (1.6hr)\", \"hoverinfo\": \"lon+lat+text\", \"marker\": {\"size\": 6, \"color\": \"#2c7bb6\", \"sizemode\": \"area\"}, \"name\": null, \"showlegend\": false}, {\"type\": \"scattergeo\", \"lon\": [43.356891999999995], \"lat\": [42.315407], \"text\": \"Georgia (1.6hr)\", \"hoverinfo\": \"lon+lat+text\", \"marker\": {\"size\": 6, \"color\": \"#2c7bb6\", \"sizemode\": \"area\"}, \"name\": null, \"showlegend\": false}, {\"type\": \"scattergeo\", \"lon\": [10.451526], \"lat\": [51.165690999999995], \"text\": \"Germany (1.5hr)\", \"hoverinfo\": \"lon+lat+text\", \"marker\": {\"size\": 6, \"color\": \"#2c7bb6\", \"sizemode\": \"area\"}, \"name\": null, \"showlegend\": false}, {\"type\": \"scattergeo\", \"lon\": [21.824312], \"lat\": [39.074208], \"text\": \"Greece (1.5hr)\", \"hoverinfo\": \"lon+lat+text\", \"marker\": {\"size\": 6, \"color\": \"#2c7bb6\", \"sizemode\": \"area\"}, \"name\": null, \"showlegend\": false}, {\"type\": \"scattergeo\", \"lon\": [114.10949699999999], \"lat\": [22.396428], \"text\": \"Hong Kong (1.6hr)\", \"hoverinfo\": \"lon+lat+text\", \"marker\": {\"size\": 6, \"color\": \"#8a5cd1\", \"sizemode\": \"area\"}, \"name\": null, \"showlegend\": false}, {\"type\": \"scattergeo\", \"lon\": [19.503304], \"lat\": [47.162494], \"text\": \"Hungary (1.5hr)\", \"hoverinfo\": \"lon+lat+text\", \"marker\": {\"size\": 6, \"color\": \"#2c7bb6\", \"sizemode\": \"area\"}, \"name\": null, \"showlegend\": false}, {\"type\": \"scattergeo\", \"lon\": [-19.020835], \"lat\": [64.96305100000001], \"text\": \"Iceland (1.5hr)\", \"hoverinfo\": \"lon+lat+text\", \"marker\": {\"size\": 6, \"color\": \"#2c7bb6\", \"sizemode\": \"area\"}, \"name\": null, \"showlegend\": false}, {\"type\": \"scattergeo\", \"lon\": [78.96288], \"lat\": [20.593684], \"text\": \"India (2.2hr)\", \"hoverinfo\": \"lon+lat+text\", \"marker\": {\"size\": 6, \"color\": \"#d7191c\", \"sizemode\": \"area\"}, \"name\": null, \"showlegend\": false}, {\"type\": \"scattergeo\", \"lon\": [113.921327], \"lat\": [-0.789275], \"text\": \"Indonesia (1.6hr)\", \"hoverinfo\": \"lon+lat+text\", \"marker\": {\"size\": 6, \"color\": \"#2c7bb6\", \"sizemode\": \"area\"}, \"name\": null, \"showlegend\": false}, {\"type\": \"scattergeo\", \"lon\": [53.68804599999999], \"lat\": [32.427908], \"text\": \"Iran (1.5hr)\", \"hoverinfo\": \"lon+lat+text\", \"marker\": {\"size\": 6, \"color\": \"#2c7bb6\", \"sizemode\": \"area\"}, \"name\": null, \"showlegend\": false}, {\"type\": \"scattergeo\", \"lon\": [43.679291], \"lat\": [33.223191], \"text\": \"Iraq (1.5hr)\", \"hoverinfo\": \"lon+lat+text\", \"marker\": {\"size\": 6, \"color\": \"#2c7bb6\", \"sizemode\": \"area\"}, \"name\": null, \"showlegend\": false}, {\"type\": \"scattergeo\", \"lon\": [-8.243889999999999], \"lat\": [53.41291], \"text\": \"Ireland (1.5hr)\", \"hoverinfo\": \"lon+lat+text\", \"marker\": {\"size\": 6, \"color\": \"#2c7bb6\", \"sizemode\": \"area\"}, \"name\": null, \"showlegend\": false}, {\"type\": \"scattergeo\", \"lon\": [34.851612], \"lat\": [31.046051000000002], \"text\": \"Israel (1.5hr)\", \"hoverinfo\": \"lon+lat+text\", \"marker\": {\"size\": 6, \"color\": \"#2c7bb6\", \"sizemode\": \"area\"}, \"name\": null, \"showlegend\": false}, {\"type\": \"scattergeo\", \"lon\": [12.56738], \"lat\": [41.87194], \"text\": \"Italy (1.5hr)\", \"hoverinfo\": \"lon+lat+text\", \"marker\": {\"size\": 6, \"color\": \"#2c7bb6\", \"sizemode\": \"area\"}, \"name\": null, \"showlegend\": false}, {\"type\": \"scattergeo\", \"lon\": [138.252924], \"lat\": [36.204824], \"text\": \"Japan (1.6hr)\", \"hoverinfo\": \"lon+lat+text\", \"marker\": {\"size\": 6, \"color\": \"#8a5cd1\", \"sizemode\": \"area\"}, \"name\": null, \"showlegend\": false}, {\"type\": \"scattergeo\", \"lon\": [66.923684], \"lat\": [48.019573], \"text\": \"Kazakhstan (1.5hr)\", \"hoverinfo\": \"lon+lat+text\", \"marker\": {\"size\": 6, \"color\": \"#2c7bb6\", \"sizemode\": \"area\"}, \"name\": null, \"showlegend\": false}, {\"type\": \"scattergeo\", \"lon\": [24.603189], \"lat\": [56.879635], \"text\": \"Latvia (1.6hr)\", \"hoverinfo\": \"lon+lat+text\", \"marker\": {\"size\": 6, \"color\": \"#2c7bb6\", \"sizemode\": \"area\"}, \"name\": null, \"showlegend\": false}, {\"type\": \"scattergeo\", \"lon\": [35.862285], \"lat\": [33.854721000000005], \"text\": \"Lebanon (1.5hr)\", \"hoverinfo\": \"lon+lat+text\", \"marker\": {\"size\": 6, \"color\": \"#2c7bb6\", \"sizemode\": \"area\"}, \"name\": null, \"showlegend\": false}, {\"type\": \"scattergeo\", \"lon\": [23.881275], \"lat\": [55.169438], \"text\": \"Lithuania (1.6hr)\", \"hoverinfo\": \"lon+lat+text\", \"marker\": {\"size\": 6, \"color\": \"#2c7bb6\", \"sizemode\": \"area\"}, \"name\": null, \"showlegend\": false}, {\"type\": \"scattergeo\", \"lon\": [6.129583], \"lat\": [49.815273], \"text\": \"Luxembourg (1.5hr)\", \"hoverinfo\": \"lon+lat+text\", \"marker\": {\"size\": 6, \"color\": \"#2c7bb6\", \"sizemode\": \"area\"}, \"name\": null, \"showlegend\": false}, {\"type\": \"scattergeo\", \"lon\": [101.97576600000001], \"lat\": [4.210483999999999], \"text\": \"Malaysia (1.6hr)\", \"hoverinfo\": \"lon+lat+text\", \"marker\": {\"size\": 6, \"color\": \"#8a5cd1\", \"sizemode\": \"area\"}, \"name\": null, \"showlegend\": false}, {\"type\": \"scattergeo\", \"lon\": [-102.552784], \"lat\": [23.634501], \"text\": \"Mexico (1.5hr)\", \"hoverinfo\": \"lon+lat+text\", \"marker\": {\"size\": 6, \"color\": \"#2c7bb6\", \"sizemode\": \"area\"}, \"name\": null, \"showlegend\": false}, {\"type\": \"scattergeo\", \"lon\": [-7.09262], \"lat\": [31.791702], \"text\": \"Morocco (1.6hr)\", \"hoverinfo\": \"lon+lat+text\", \"marker\": {\"size\": 6, \"color\": \"#8a5cd1\", \"sizemode\": \"area\"}, \"name\": null, \"showlegend\": false}, {\"type\": \"scattergeo\", \"lon\": [84.12400799999999], \"lat\": [28.394857000000002], \"text\": \"Nepal (1.9hr)\", \"hoverinfo\": \"lon+lat+text\", \"marker\": {\"size\": 6, \"color\": \"#fdae61\", \"sizemode\": \"area\"}, \"name\": \"1.8 - 2.0 hr\", \"showlegend\": true}, {\"type\": \"scattergeo\", \"lon\": [5.291266], \"lat\": [52.132633], \"text\": \"Netherlands (1.5hr)\", \"hoverinfo\": \"lon+lat+text\", \"marker\": {\"size\": 6, \"color\": \"#2c7bb6\", \"sizemode\": \"area\"}, \"name\": null, \"showlegend\": false}, {\"type\": \"scattergeo\", \"lon\": [174.88597099999998], \"lat\": [-40.900557], \"text\": \"New Zealand (1.5hr)\", \"hoverinfo\": \"lon+lat+text\", \"marker\": {\"size\": 6, \"color\": \"#2c7bb6\", \"sizemode\": \"area\"}, \"name\": null, \"showlegend\": false}, {\"type\": \"scattergeo\", \"lon\": [8.675277000000001], \"lat\": [9.081999], \"text\": \"Nigeria (1.6hr)\", \"hoverinfo\": \"lon+lat+text\", \"marker\": {\"size\": 6, \"color\": \"#8a5cd1\", \"sizemode\": \"area\"}, \"name\": \"1.6 - 1.8 hr\", \"showlegend\": true}, {\"type\": \"scattergeo\", \"lon\": [8.468946], \"lat\": [60.472024], \"text\": \"Norway (1.5hr)\", \"hoverinfo\": \"lon+lat+text\", \"marker\": {\"size\": 6, \"color\": \"#2c7bb6\", \"sizemode\": \"area\"}, \"name\": \"1.4 - 1.6 hr\", \"showlegend\": true}, {\"type\": \"scattergeo\", \"lon\": [null], \"lat\": [null], \"text\": \"Occupied Palestinian Territory (1.4hr)\", \"hoverinfo\": \"lon+lat+text\", \"marker\": {\"size\": 6, \"color\": \"#2c7bb6\", \"sizemode\": \"area\"}, \"name\": null, \"showlegend\": false}, {\"type\": \"scattergeo\", \"lon\": [69.345116], \"lat\": [30.375321000000003], \"text\": \"Pakistan (2.0hr)\", \"hoverinfo\": \"lon+lat+text\", \"marker\": {\"size\": 6, \"color\": \"#fdae61\", \"sizemode\": \"area\"}, \"name\": null, \"showlegend\": false}, {\"type\": \"scattergeo\", \"lon\": [-75.015152], \"lat\": [-9.189967], \"text\": \"Peru (1.5hr)\", \"hoverinfo\": \"lon+lat+text\", \"marker\": {\"size\": 6, \"color\": \"#2c7bb6\", \"sizemode\": \"area\"}, \"name\": null, \"showlegend\": false}, {\"type\": \"scattergeo\", \"lon\": [121.77401699999999], \"lat\": [12.879721], \"text\": \"Philippines (1.7hr)\", \"hoverinfo\": \"lon+lat+text\", \"marker\": {\"size\": 6, \"color\": \"#8a5cd1\", \"sizemode\": \"area\"}, \"name\": null, \"showlegend\": false}, {\"type\": \"scattergeo\", \"lon\": [19.145135999999997], \"lat\": [51.919438], \"text\": \"Poland (1.6hr)\", \"hoverinfo\": \"lon+lat+text\", \"marker\": {\"size\": 6, \"color\": \"#2c7bb6\", \"sizemode\": \"area\"}, \"name\": null, \"showlegend\": false}, {\"type\": \"scattergeo\", \"lon\": [-8.224454], \"lat\": [39.399871999999995], \"text\": \"Portugal (1.6hr)\", \"hoverinfo\": \"lon+lat+text\", \"marker\": {\"size\": 6, \"color\": \"#2c7bb6\", \"sizemode\": \"area\"}, \"name\": null, \"showlegend\": false}, {\"type\": \"scattergeo\", \"lon\": [-66.590149], \"lat\": [18.220833], \"text\": \"Puerto Rico (1.5hr)\", \"hoverinfo\": \"lon+lat+text\", \"marker\": {\"size\": 6, \"color\": \"#2c7bb6\", \"sizemode\": \"area\"}, \"name\": null, \"showlegend\": false}, {\"type\": \"scattergeo\", \"lon\": [24.96676], \"lat\": [45.943160999999996], \"text\": \"Romania (1.6hr)\", \"hoverinfo\": \"lon+lat+text\", \"marker\": {\"size\": 6, \"color\": \"#2c7bb6\", \"sizemode\": \"area\"}, \"name\": null, \"showlegend\": false}, {\"type\": \"scattergeo\", \"lon\": [105.31875600000001], \"lat\": [61.52401], \"text\": \"Russia (1.6hr)\", \"hoverinfo\": \"lon+lat+text\", \"marker\": {\"size\": 6, \"color\": \"#2c7bb6\", \"sizemode\": \"area\"}, \"name\": null, \"showlegend\": false}, {\"type\": \"scattergeo\", \"lon\": [21.005859], \"lat\": [44.016521000000004], \"text\": \"Serbia (1.6hr)\", \"hoverinfo\": \"lon+lat+text\", \"marker\": {\"size\": 6, \"color\": \"#2c7bb6\", \"sizemode\": \"area\"}, \"name\": null, \"showlegend\": false}, {\"type\": \"scattergeo\", \"lon\": [103.819836], \"lat\": [1.352083], \"text\": \"Singapore (1.6hr)\", \"hoverinfo\": \"lon+lat+text\", \"marker\": {\"size\": 6, \"color\": \"#2c7bb6\", \"sizemode\": \"area\"}, \"name\": null, \"showlegend\": false}, {\"type\": \"scattergeo\", \"lon\": [19.699023999999998], \"lat\": [48.669026], \"text\": \"Slovakia (1.5hr)\", \"hoverinfo\": \"lon+lat+text\", \"marker\": {\"size\": 6, \"color\": \"#2c7bb6\", \"sizemode\": \"area\"}, \"name\": null, \"showlegend\": false}, {\"type\": \"scattergeo\", \"lon\": [14.995463], \"lat\": [46.151241], \"text\": \"Slovenia (1.5hr)\", \"hoverinfo\": \"lon+lat+text\", \"marker\": {\"size\": 6, \"color\": \"#2c7bb6\", \"sizemode\": \"area\"}, \"name\": null, \"showlegend\": false}, {\"type\": \"scattergeo\", \"lon\": [22.937506], \"lat\": [-30.559482], \"text\": \"South Africa (1.6hr)\", \"hoverinfo\": \"lon+lat+text\", \"marker\": {\"size\": 6, \"color\": \"#2c7bb6\", \"sizemode\": \"area\"}, \"name\": null, \"showlegend\": false}, {\"type\": \"scattergeo\", \"lon\": [127.766922], \"lat\": [35.907757000000004], \"text\": \"South Korea (1.7hr)\", \"hoverinfo\": \"lon+lat+text\", \"marker\": {\"size\": 6, \"color\": \"#8a5cd1\", \"sizemode\": \"area\"}, \"name\": null, \"showlegend\": false}, {\"type\": \"scattergeo\", \"lon\": [null], \"lat\": [null], \"text\": \"Soviet Union (1.6hr)\", \"hoverinfo\": \"lon+lat+text\", \"marker\": {\"size\": 6, \"color\": \"#8a5cd1\", \"sizemode\": \"area\"}, \"name\": null, \"showlegend\": false}, {\"type\": \"scattergeo\", \"lon\": [-3.7492199999999998], \"lat\": [40.463667], \"text\": \"Spain (1.5hr)\", \"hoverinfo\": \"lon+lat+text\", \"marker\": {\"size\": 6, \"color\": \"#2c7bb6\", \"sizemode\": \"area\"}, \"name\": null, \"showlegend\": false}, {\"type\": \"scattergeo\", \"lon\": [80.77179699999999], \"lat\": [7.873054], \"text\": \"Sri Lanka (1.7hr)\", \"hoverinfo\": \"lon+lat+text\", \"marker\": {\"size\": 6, \"color\": \"#8a5cd1\", \"sizemode\": \"area\"}, \"name\": null, \"showlegend\": false}, {\"type\": \"scattergeo\", \"lon\": [18.643501], \"lat\": [60.128161], \"text\": \"Sweden (1.6hr)\", \"hoverinfo\": \"lon+lat+text\", \"marker\": {\"size\": 6, \"color\": \"#2c7bb6\", \"sizemode\": \"area\"}, \"name\": null, \"showlegend\": false}, {\"type\": \"scattergeo\", \"lon\": [8.227511999999999], \"lat\": [46.818188], \"text\": \"Switzerland (1.5hr)\", \"hoverinfo\": \"lon+lat+text\", \"marker\": {\"size\": 6, \"color\": \"#2c7bb6\", \"sizemode\": \"area\"}, \"name\": null, \"showlegend\": false}, {\"type\": \"scattergeo\", \"lon\": [120.96051499999999], \"lat\": [23.69781], \"text\": \"Taiwan (1.7hr)\", \"hoverinfo\": \"lon+lat+text\", \"marker\": {\"size\": 6, \"color\": \"#8a5cd1\", \"sizemode\": \"area\"}, \"name\": null, \"showlegend\": false}, {\"type\": \"scattergeo\", \"lon\": [100.992541], \"lat\": [15.870032], \"text\": \"Thailand (1.7hr)\", \"hoverinfo\": \"lon+lat+text\", \"marker\": {\"size\": 6, \"color\": \"#8a5cd1\", \"sizemode\": \"area\"}, \"name\": null, \"showlegend\": false}, {\"type\": \"scattergeo\", \"lon\": [35.243322], \"lat\": [38.963745], \"text\": \"Turkey (1.6hr)\", \"hoverinfo\": \"lon+lat+text\", \"marker\": {\"size\": 6, \"color\": \"#8a5cd1\", \"sizemode\": \"area\"}, \"name\": null, \"showlegend\": false}, {\"type\": \"scattergeo\", \"lon\": [-3.435973], \"lat\": [55.378051], \"text\": \"UK (1.6hr)\", \"hoverinfo\": \"lon+lat+text\", \"marker\": {\"size\": 6, \"color\": \"#2c7bb6\", \"sizemode\": \"area\"}, \"name\": null, \"showlegend\": false}, {\"type\": \"scattergeo\", \"lon\": [-95.712891], \"lat\": [37.09024], \"text\": \"USA (1.5hr)\", \"hoverinfo\": \"lon+lat+text\", \"marker\": {\"size\": 6, \"color\": \"#2c7bb6\", \"sizemode\": \"area\"}, \"name\": null, \"showlegend\": false}, {\"type\": \"scattergeo\", \"lon\": [31.16558], \"lat\": [48.379433], \"text\": \"Ukraine (1.6hr)\", \"hoverinfo\": \"lon+lat+text\", \"marker\": {\"size\": 6, \"color\": \"#2c7bb6\", \"sizemode\": \"area\"}, \"name\": null, \"showlegend\": false}, {\"type\": \"scattergeo\", \"lon\": [53.847818000000004], \"lat\": [23.424076], \"text\": \"United Arab Emirates (1.5hr)\", \"hoverinfo\": \"lon+lat+text\", \"marker\": {\"size\": 6, \"color\": \"#2c7bb6\", \"sizemode\": \"area\"}, \"name\": null, \"showlegend\": false}, {\"type\": \"scattergeo\", \"lon\": [-55.765834999999996], \"lat\": [-32.522779], \"text\": \"Uruguay (1.4hr)\", \"hoverinfo\": \"lon+lat+text\", \"marker\": {\"size\": 6, \"color\": \"#2c7bb6\", \"sizemode\": \"area\"}, \"name\": null, \"showlegend\": false}, {\"type\": \"scattergeo\", \"lon\": [-66.58973], \"lat\": [6.42375], \"text\": \"Venezuela (1.6hr)\", \"hoverinfo\": \"lon+lat+text\", \"marker\": {\"size\": 6, \"color\": \"#8a5cd1\", \"sizemode\": \"area\"}, \"name\": null, \"showlegend\": false}, {\"type\": \"scattergeo\", \"lon\": [108.277199], \"lat\": [14.058323999999999], \"text\": \"Vietnam (1.6hr)\", \"hoverinfo\": \"lon+lat+text\", \"marker\": {\"size\": 6, \"color\": \"#8a5cd1\", \"sizemode\": \"area\"}, \"name\": null, \"showlegend\": false}], {\"title\": \"Average movie run-time by country\", \"width\": 1000, \"height\": 500, \"geo\": {\"projection\": {\"type\": \"natural earth\"}, \"showland\": true, \"showcountries\": true, \"countrywidth\": 0.1, \"landcolor\": \"#292727\", \"countrycolor\": \"rgb(255, 255, 255)\"}, \"margin\": {\"r\": 0, \"l\": 10, \"b\": 0, \"t\": 30, \"pad\": 0}, \"legend\": {\"x\": 0.95, \"font\": {\"size\": 15}}}, {\"showLink\": true, \"linkText\": \"Export to plot.ly\"})});</script>"
      ]
     },
     "metadata": {},
     "output_type": "display_data"
    }
   ],
   "source": [
    "layout = dict(\n",
    "        title = 'Average movie run-time by country',\n",
    "#         showlegend = False,\n",
    "        width = 1000,\n",
    "        height = 500,\n",
    "        geo = dict(\n",
    "            projection=dict(type='natural earth'),\n",
    "            showland = True,\n",
    "            showcountries=True,\n",
    "            countrywidth=0.1,\n",
    "            landcolor = '#292727',\n",
    "            countrycolor=\"rgb(255, 255, 255)\"\n",
    "        ),\n",
    "        margin=Margin(r=0, l=10,\n",
    "                  b=0, t=30, pad=0),\n",
    "        legend=dict(x=0.95,\n",
    "                   font=dict(size=15))\n",
    "    )\n",
    "\n",
    "fig = dict( data=data, layout=layout )\n",
    "# py.iplot( fig, validate=False, filename='d3-bubble-map-populations' )\n",
    "# py.iplot( fig)\n",
    "iplot(fig)"
   ]
  },
  {
   "cell_type": "markdown",
   "metadata": {},
   "source": [
    "#### Plot version 2"
   ]
  },
  {
   "cell_type": "code",
   "execution_count": 12,
   "metadata": {},
   "outputs": [
    {
     "data": {
      "text/html": [
       "<div>\n",
       "<style>\n",
       "    .dataframe thead tr:only-child th {\n",
       "        text-align: right;\n",
       "    }\n",
       "\n",
       "    .dataframe thead th {\n",
       "        text-align: left;\n",
       "    }\n",
       "\n",
       "    .dataframe tbody tr th {\n",
       "        vertical-align: top;\n",
       "    }\n",
       "</style>\n",
       "<table border=\"1\" class=\"dataframe\">\n",
       "  <thead>\n",
       "    <tr style=\"text-align: right;\">\n",
       "      <th></th>\n",
       "      <th>running_times_first</th>\n",
       "      <th>kind</th>\n",
       "      <th>country</th>\n",
       "      <th>latitude</th>\n",
       "      <th>longitude</th>\n",
       "    </tr>\n",
       "    <tr>\n",
       "      <th>countries_first</th>\n",
       "      <th></th>\n",
       "      <th></th>\n",
       "      <th></th>\n",
       "      <th></th>\n",
       "      <th></th>\n",
       "    </tr>\n",
       "  </thead>\n",
       "  <tbody>\n",
       "    <tr>\n",
       "      <th>Algeria</th>\n",
       "      <td>1.634103</td>\n",
       "      <td>65</td>\n",
       "      <td>DZ</td>\n",
       "      <td>28.033886</td>\n",
       "      <td>1.659626</td>\n",
       "    </tr>\n",
       "    <tr>\n",
       "      <th>Argentina</th>\n",
       "      <td>1.460100</td>\n",
       "      <td>2439</td>\n",
       "      <td>AR</td>\n",
       "      <td>-38.416097</td>\n",
       "      <td>-63.616672</td>\n",
       "    </tr>\n",
       "    <tr>\n",
       "      <th>Armenia</th>\n",
       "      <td>1.526537</td>\n",
       "      <td>103</td>\n",
       "      <td>AM</td>\n",
       "      <td>40.069099</td>\n",
       "      <td>45.038189</td>\n",
       "    </tr>\n",
       "    <tr>\n",
       "      <th>Australia</th>\n",
       "      <td>1.528642</td>\n",
       "      <td>1968</td>\n",
       "      <td>AU</td>\n",
       "      <td>-25.274398</td>\n",
       "      <td>133.775136</td>\n",
       "    </tr>\n",
       "    <tr>\n",
       "      <th>Austria</th>\n",
       "      <td>1.531030</td>\n",
       "      <td>926</td>\n",
       "      <td>AT</td>\n",
       "      <td>47.516231</td>\n",
       "      <td>14.550072</td>\n",
       "    </tr>\n",
       "  </tbody>\n",
       "</table>\n",
       "</div>"
      ],
      "text/plain": [
       "                 running_times_first  kind country   latitude   longitude\n",
       "countries_first                                                          \n",
       "Algeria                     1.634103    65      DZ  28.033886    1.659626\n",
       "Argentina                   1.460100  2439      AR -38.416097  -63.616672\n",
       "Armenia                     1.526537   103      AM  40.069099   45.038189\n",
       "Australia                   1.528642  1968      AU -25.274398  133.775136\n",
       "Austria                     1.531030   926      AT  47.516231   14.550072"
      ]
     },
     "execution_count": 12,
     "metadata": {},
     "output_type": "execute_result"
    }
   ],
   "source": [
    "merged_pd.head()"
   ]
  },
  {
   "cell_type": "code",
   "execution_count": 13,
   "metadata": {
    "scrolled": true
   },
   "outputs": [
    {
     "data": {
      "text/html": [
       "<div>\n",
       "<style>\n",
       "    .dataframe thead tr:only-child th {\n",
       "        text-align: right;\n",
       "    }\n",
       "\n",
       "    .dataframe thead th {\n",
       "        text-align: left;\n",
       "    }\n",
       "\n",
       "    .dataframe tbody tr th {\n",
       "        vertical-align: top;\n",
       "    }\n",
       "</style>\n",
       "<table border=\"1\" class=\"dataframe\">\n",
       "  <thead>\n",
       "    <tr style=\"text-align: right;\">\n",
       "      <th></th>\n",
       "      <th>running_times_first</th>\n",
       "      <th>kind</th>\n",
       "      <th>country</th>\n",
       "      <th>latitude</th>\n",
       "      <th>longitude</th>\n",
       "      <th>color_code</th>\n",
       "    </tr>\n",
       "    <tr>\n",
       "      <th>countries_first</th>\n",
       "      <th></th>\n",
       "      <th></th>\n",
       "      <th></th>\n",
       "      <th></th>\n",
       "      <th></th>\n",
       "      <th></th>\n",
       "    </tr>\n",
       "  </thead>\n",
       "  <tbody>\n",
       "    <tr>\n",
       "      <th>Algeria</th>\n",
       "      <td>1.634103</td>\n",
       "      <td>65</td>\n",
       "      <td>DZ</td>\n",
       "      <td>28.033886</td>\n",
       "      <td>1.659626</td>\n",
       "      <td>#8a5cd1</td>\n",
       "    </tr>\n",
       "    <tr>\n",
       "      <th>Argentina</th>\n",
       "      <td>1.460100</td>\n",
       "      <td>2439</td>\n",
       "      <td>AR</td>\n",
       "      <td>-38.416097</td>\n",
       "      <td>-63.616672</td>\n",
       "      <td>#2c7bb6</td>\n",
       "    </tr>\n",
       "    <tr>\n",
       "      <th>Armenia</th>\n",
       "      <td>1.526537</td>\n",
       "      <td>103</td>\n",
       "      <td>AM</td>\n",
       "      <td>40.069099</td>\n",
       "      <td>45.038189</td>\n",
       "      <td>#2c7bb6</td>\n",
       "    </tr>\n",
       "    <tr>\n",
       "      <th>Australia</th>\n",
       "      <td>1.528642</td>\n",
       "      <td>1968</td>\n",
       "      <td>AU</td>\n",
       "      <td>-25.274398</td>\n",
       "      <td>133.775136</td>\n",
       "      <td>#2c7bb6</td>\n",
       "    </tr>\n",
       "    <tr>\n",
       "      <th>Austria</th>\n",
       "      <td>1.531030</td>\n",
       "      <td>926</td>\n",
       "      <td>AT</td>\n",
       "      <td>47.516231</td>\n",
       "      <td>14.550072</td>\n",
       "      <td>#2c7bb6</td>\n",
       "    </tr>\n",
       "  </tbody>\n",
       "</table>\n",
       "</div>"
      ],
      "text/plain": [
       "                 running_times_first  kind country   latitude   longitude  \\\n",
       "countries_first                                                             \n",
       "Algeria                     1.634103    65      DZ  28.033886    1.659626   \n",
       "Argentina                   1.460100  2439      AR -38.416097  -63.616672   \n",
       "Armenia                     1.526537   103      AM  40.069099   45.038189   \n",
       "Australia                   1.528642  1968      AU -25.274398  133.775136   \n",
       "Austria                     1.531030   926      AT  47.516231   14.550072   \n",
       "\n",
       "                color_code  \n",
       "countries_first             \n",
       "Algeria            #8a5cd1  \n",
       "Argentina          #2c7bb6  \n",
       "Armenia            #2c7bb6  \n",
       "Australia          #2c7bb6  \n",
       "Austria            #2c7bb6  "
      ]
     },
     "execution_count": 13,
     "metadata": {},
     "output_type": "execute_result"
    }
   ],
   "source": [
    "merged_pd['color_code'] = merged_pd['running_times_first'].apply(get_color_code)\n",
    "merged_pd.head()"
   ]
  },
  {
   "cell_type": "code",
   "execution_count": 14,
   "metadata": {
    "scrolled": false
   },
   "outputs": [
    {
     "data": {
      "text/html": [
       "<div>\n",
       "<style>\n",
       "    .dataframe thead tr:only-child th {\n",
       "        text-align: right;\n",
       "    }\n",
       "\n",
       "    .dataframe thead th {\n",
       "        text-align: left;\n",
       "    }\n",
       "\n",
       "    .dataframe tbody tr th {\n",
       "        vertical-align: top;\n",
       "    }\n",
       "</style>\n",
       "<table border=\"1\" class=\"dataframe\">\n",
       "  <thead>\n",
       "    <tr style=\"text-align: right;\">\n",
       "      <th></th>\n",
       "      <th>name</th>\n",
       "      <th>alpha-3</th>\n",
       "      <th>country-code</th>\n",
       "      <th>iso_3166-2</th>\n",
       "      <th>region</th>\n",
       "      <th>sub-region</th>\n",
       "      <th>region-code</th>\n",
       "      <th>sub-region-code</th>\n",
       "    </tr>\n",
       "    <tr>\n",
       "      <th>alpha-2</th>\n",
       "      <th></th>\n",
       "      <th></th>\n",
       "      <th></th>\n",
       "      <th></th>\n",
       "      <th></th>\n",
       "      <th></th>\n",
       "      <th></th>\n",
       "      <th></th>\n",
       "    </tr>\n",
       "  </thead>\n",
       "  <tbody>\n",
       "    <tr>\n",
       "      <th>AF</th>\n",
       "      <td>Afghanistan</td>\n",
       "      <td>AFG</td>\n",
       "      <td>4</td>\n",
       "      <td>ISO 3166-2:AF</td>\n",
       "      <td>Asia</td>\n",
       "      <td>Southern Asia</td>\n",
       "      <td>142.0</td>\n",
       "      <td>34.0</td>\n",
       "    </tr>\n",
       "    <tr>\n",
       "      <th>AX</th>\n",
       "      <td>Åland Islands</td>\n",
       "      <td>ALA</td>\n",
       "      <td>248</td>\n",
       "      <td>ISO 3166-2:AX</td>\n",
       "      <td>Europe</td>\n",
       "      <td>Northern Europe</td>\n",
       "      <td>150.0</td>\n",
       "      <td>154.0</td>\n",
       "    </tr>\n",
       "    <tr>\n",
       "      <th>AL</th>\n",
       "      <td>Albania</td>\n",
       "      <td>ALB</td>\n",
       "      <td>8</td>\n",
       "      <td>ISO 3166-2:AL</td>\n",
       "      <td>Europe</td>\n",
       "      <td>Southern Europe</td>\n",
       "      <td>150.0</td>\n",
       "      <td>39.0</td>\n",
       "    </tr>\n",
       "    <tr>\n",
       "      <th>DZ</th>\n",
       "      <td>Algeria</td>\n",
       "      <td>DZA</td>\n",
       "      <td>12</td>\n",
       "      <td>ISO 3166-2:DZ</td>\n",
       "      <td>Africa</td>\n",
       "      <td>Northern Africa</td>\n",
       "      <td>2.0</td>\n",
       "      <td>15.0</td>\n",
       "    </tr>\n",
       "    <tr>\n",
       "      <th>AS</th>\n",
       "      <td>American Samoa</td>\n",
       "      <td>ASM</td>\n",
       "      <td>16</td>\n",
       "      <td>ISO 3166-2:AS</td>\n",
       "      <td>Oceania</td>\n",
       "      <td>Polynesia</td>\n",
       "      <td>9.0</td>\n",
       "      <td>61.0</td>\n",
       "    </tr>\n",
       "  </tbody>\n",
       "</table>\n",
       "</div>"
      ],
      "text/plain": [
       "                   name alpha-3  country-code     iso_3166-2   region  \\\n",
       "alpha-2                                                                 \n",
       "AF          Afghanistan     AFG             4  ISO 3166-2:AF     Asia   \n",
       "AX        Åland Islands     ALA           248  ISO 3166-2:AX   Europe   \n",
       "AL              Albania     ALB             8  ISO 3166-2:AL   Europe   \n",
       "DZ              Algeria     DZA            12  ISO 3166-2:DZ   Africa   \n",
       "AS       American Samoa     ASM            16  ISO 3166-2:AS  Oceania   \n",
       "\n",
       "              sub-region  region-code  sub-region-code  \n",
       "alpha-2                                                 \n",
       "AF         Southern Asia        142.0             34.0  \n",
       "AX       Northern Europe        150.0            154.0  \n",
       "AL       Southern Europe        150.0             39.0  \n",
       "DZ       Northern Africa          2.0             15.0  \n",
       "AS             Polynesia          9.0             61.0  "
      ]
     },
     "execution_count": 14,
     "metadata": {},
     "output_type": "execute_result"
    }
   ],
   "source": [
    "slim3_pd = pd.read_csv('../data/all_geo.csv', index_col='alpha-2')\n",
    "slim3_pd.head()"
   ]
  },
  {
   "cell_type": "code",
   "execution_count": 15,
   "metadata": {},
   "outputs": [
    {
     "data": {
      "text/html": [
       "<div>\n",
       "<style>\n",
       "    .dataframe thead tr:only-child th {\n",
       "        text-align: right;\n",
       "    }\n",
       "\n",
       "    .dataframe thead th {\n",
       "        text-align: left;\n",
       "    }\n",
       "\n",
       "    .dataframe tbody tr th {\n",
       "        vertical-align: top;\n",
       "    }\n",
       "</style>\n",
       "<table border=\"1\" class=\"dataframe\">\n",
       "  <thead>\n",
       "    <tr style=\"text-align: right;\">\n",
       "      <th></th>\n",
       "      <th>countries_first</th>\n",
       "      <th>running_times_first</th>\n",
       "      <th>kind</th>\n",
       "      <th>latitude</th>\n",
       "      <th>longitude</th>\n",
       "      <th>color_code</th>\n",
       "    </tr>\n",
       "    <tr>\n",
       "      <th>country</th>\n",
       "      <th></th>\n",
       "      <th></th>\n",
       "      <th></th>\n",
       "      <th></th>\n",
       "      <th></th>\n",
       "      <th></th>\n",
       "    </tr>\n",
       "  </thead>\n",
       "  <tbody>\n",
       "    <tr>\n",
       "      <th>DZ</th>\n",
       "      <td>Algeria</td>\n",
       "      <td>1.634103</td>\n",
       "      <td>65</td>\n",
       "      <td>28.033886</td>\n",
       "      <td>1.659626</td>\n",
       "      <td>#8a5cd1</td>\n",
       "    </tr>\n",
       "    <tr>\n",
       "      <th>AR</th>\n",
       "      <td>Argentina</td>\n",
       "      <td>1.460100</td>\n",
       "      <td>2439</td>\n",
       "      <td>-38.416097</td>\n",
       "      <td>-63.616672</td>\n",
       "      <td>#2c7bb6</td>\n",
       "    </tr>\n",
       "    <tr>\n",
       "      <th>AM</th>\n",
       "      <td>Armenia</td>\n",
       "      <td>1.526537</td>\n",
       "      <td>103</td>\n",
       "      <td>40.069099</td>\n",
       "      <td>45.038189</td>\n",
       "      <td>#2c7bb6</td>\n",
       "    </tr>\n",
       "    <tr>\n",
       "      <th>AU</th>\n",
       "      <td>Australia</td>\n",
       "      <td>1.528642</td>\n",
       "      <td>1968</td>\n",
       "      <td>-25.274398</td>\n",
       "      <td>133.775136</td>\n",
       "      <td>#2c7bb6</td>\n",
       "    </tr>\n",
       "    <tr>\n",
       "      <th>AT</th>\n",
       "      <td>Austria</td>\n",
       "      <td>1.531030</td>\n",
       "      <td>926</td>\n",
       "      <td>47.516231</td>\n",
       "      <td>14.550072</td>\n",
       "      <td>#2c7bb6</td>\n",
       "    </tr>\n",
       "  </tbody>\n",
       "</table>\n",
       "</div>"
      ],
      "text/plain": [
       "        countries_first  running_times_first  kind   latitude   longitude  \\\n",
       "country                                                                     \n",
       "DZ              Algeria             1.634103    65  28.033886    1.659626   \n",
       "AR            Argentina             1.460100  2439 -38.416097  -63.616672   \n",
       "AM              Armenia             1.526537   103  40.069099   45.038189   \n",
       "AU            Australia             1.528642  1968 -25.274398  133.775136   \n",
       "AT              Austria             1.531030   926  47.516231   14.550072   \n",
       "\n",
       "        color_code  \n",
       "country             \n",
       "DZ         #8a5cd1  \n",
       "AR         #2c7bb6  \n",
       "AM         #2c7bb6  \n",
       "AU         #2c7bb6  \n",
       "AT         #2c7bb6  "
      ]
     },
     "execution_count": 15,
     "metadata": {},
     "output_type": "execute_result"
    }
   ],
   "source": [
    "df = merged_pd.copy()\n",
    "df.reset_index(inplace=True)\n",
    "df.set_index('country', inplace=True)\n",
    "df.head()"
   ]
  },
  {
   "cell_type": "code",
   "execution_count": 16,
   "metadata": {
    "scrolled": false
   },
   "outputs": [
    {
     "data": {
      "text/html": [
       "<div>\n",
       "<style>\n",
       "    .dataframe thead tr:only-child th {\n",
       "        text-align: right;\n",
       "    }\n",
       "\n",
       "    .dataframe thead th {\n",
       "        text-align: left;\n",
       "    }\n",
       "\n",
       "    .dataframe tbody tr th {\n",
       "        vertical-align: top;\n",
       "    }\n",
       "</style>\n",
       "<table border=\"1\" class=\"dataframe\">\n",
       "  <thead>\n",
       "    <tr style=\"text-align: right;\">\n",
       "      <th></th>\n",
       "      <th>countries_first</th>\n",
       "      <th>running_times_first</th>\n",
       "      <th>kind</th>\n",
       "      <th>latitude</th>\n",
       "      <th>longitude</th>\n",
       "      <th>color_code</th>\n",
       "      <th>name</th>\n",
       "      <th>alpha-3</th>\n",
       "      <th>country-code</th>\n",
       "      <th>iso_3166-2</th>\n",
       "      <th>region</th>\n",
       "      <th>sub-region</th>\n",
       "      <th>region-code</th>\n",
       "      <th>sub-region-code</th>\n",
       "    </tr>\n",
       "    <tr>\n",
       "      <th>country</th>\n",
       "      <th></th>\n",
       "      <th></th>\n",
       "      <th></th>\n",
       "      <th></th>\n",
       "      <th></th>\n",
       "      <th></th>\n",
       "      <th></th>\n",
       "      <th></th>\n",
       "      <th></th>\n",
       "      <th></th>\n",
       "      <th></th>\n",
       "      <th></th>\n",
       "      <th></th>\n",
       "      <th></th>\n",
       "    </tr>\n",
       "  </thead>\n",
       "  <tbody>\n",
       "    <tr>\n",
       "      <th>DZ</th>\n",
       "      <td>Algeria</td>\n",
       "      <td>1.634103</td>\n",
       "      <td>65</td>\n",
       "      <td>28.033886</td>\n",
       "      <td>1.659626</td>\n",
       "      <td>#8a5cd1</td>\n",
       "      <td>Algeria</td>\n",
       "      <td>DZA</td>\n",
       "      <td>12</td>\n",
       "      <td>ISO 3166-2:DZ</td>\n",
       "      <td>Africa</td>\n",
       "      <td>Northern Africa</td>\n",
       "      <td>2.0</td>\n",
       "      <td>15.0</td>\n",
       "    </tr>\n",
       "    <tr>\n",
       "      <th>AR</th>\n",
       "      <td>Argentina</td>\n",
       "      <td>1.460100</td>\n",
       "      <td>2439</td>\n",
       "      <td>-38.416097</td>\n",
       "      <td>-63.616672</td>\n",
       "      <td>#2c7bb6</td>\n",
       "      <td>Argentina</td>\n",
       "      <td>ARG</td>\n",
       "      <td>32</td>\n",
       "      <td>ISO 3166-2:AR</td>\n",
       "      <td>Americas</td>\n",
       "      <td>South America</td>\n",
       "      <td>19.0</td>\n",
       "      <td>5.0</td>\n",
       "    </tr>\n",
       "    <tr>\n",
       "      <th>AM</th>\n",
       "      <td>Armenia</td>\n",
       "      <td>1.526537</td>\n",
       "      <td>103</td>\n",
       "      <td>40.069099</td>\n",
       "      <td>45.038189</td>\n",
       "      <td>#2c7bb6</td>\n",
       "      <td>Armenia</td>\n",
       "      <td>ARM</td>\n",
       "      <td>51</td>\n",
       "      <td>ISO 3166-2:AM</td>\n",
       "      <td>Asia</td>\n",
       "      <td>Western Asia</td>\n",
       "      <td>142.0</td>\n",
       "      <td>145.0</td>\n",
       "    </tr>\n",
       "    <tr>\n",
       "      <th>AU</th>\n",
       "      <td>Australia</td>\n",
       "      <td>1.528642</td>\n",
       "      <td>1968</td>\n",
       "      <td>-25.274398</td>\n",
       "      <td>133.775136</td>\n",
       "      <td>#2c7bb6</td>\n",
       "      <td>Australia</td>\n",
       "      <td>AUS</td>\n",
       "      <td>36</td>\n",
       "      <td>ISO 3166-2:AU</td>\n",
       "      <td>Oceania</td>\n",
       "      <td>Australia and New Zealand</td>\n",
       "      <td>9.0</td>\n",
       "      <td>53.0</td>\n",
       "    </tr>\n",
       "    <tr>\n",
       "      <th>AT</th>\n",
       "      <td>Austria</td>\n",
       "      <td>1.531030</td>\n",
       "      <td>926</td>\n",
       "      <td>47.516231</td>\n",
       "      <td>14.550072</td>\n",
       "      <td>#2c7bb6</td>\n",
       "      <td>Austria</td>\n",
       "      <td>AUT</td>\n",
       "      <td>40</td>\n",
       "      <td>ISO 3166-2:AT</td>\n",
       "      <td>Europe</td>\n",
       "      <td>Western Europe</td>\n",
       "      <td>150.0</td>\n",
       "      <td>155.0</td>\n",
       "    </tr>\n",
       "  </tbody>\n",
       "</table>\n",
       "</div>"
      ],
      "text/plain": [
       "        countries_first  running_times_first  kind   latitude   longitude  \\\n",
       "country                                                                     \n",
       "DZ              Algeria             1.634103    65  28.033886    1.659626   \n",
       "AR            Argentina             1.460100  2439 -38.416097  -63.616672   \n",
       "AM              Armenia             1.526537   103  40.069099   45.038189   \n",
       "AU            Australia             1.528642  1968 -25.274398  133.775136   \n",
       "AT              Austria             1.531030   926  47.516231   14.550072   \n",
       "\n",
       "        color_code       name alpha-3  country-code     iso_3166-2    region  \\\n",
       "country                                                                        \n",
       "DZ         #8a5cd1    Algeria     DZA            12  ISO 3166-2:DZ    Africa   \n",
       "AR         #2c7bb6  Argentina     ARG            32  ISO 3166-2:AR  Americas   \n",
       "AM         #2c7bb6    Armenia     ARM            51  ISO 3166-2:AM      Asia   \n",
       "AU         #2c7bb6  Australia     AUS            36  ISO 3166-2:AU   Oceania   \n",
       "AT         #2c7bb6    Austria     AUT            40  ISO 3166-2:AT    Europe   \n",
       "\n",
       "                        sub-region  region-code  sub-region-code  \n",
       "country                                                           \n",
       "DZ                 Northern Africa          2.0             15.0  \n",
       "AR                   South America         19.0              5.0  \n",
       "AM                    Western Asia        142.0            145.0  \n",
       "AU       Australia and New Zealand          9.0             53.0  \n",
       "AT                  Western Europe        150.0            155.0  "
      ]
     },
     "execution_count": 16,
     "metadata": {},
     "output_type": "execute_result"
    }
   ],
   "source": [
    "m_pd = pd.concat([df, slim3_pd], axis=1, join_axes=[df.index])\n",
    "m_pd.head()"
   ]
  },
  {
   "cell_type": "code",
   "execution_count": 25,
   "metadata": {
    "scrolled": false
   },
   "outputs": [
    {
     "data": {
      "application/vnd.plotly.v1+json": {
       "data": [
        {
         "colorbar": {
          "nticks": 5,
          "title": "Hours",
          "titleside": "bottom",
          "x": 0.95
         },
         "colorscale": "Portland",
         "hoverinfo": "text",
         "hoverlabel": {
          "bgcolor": "gray",
          "font": {
           "color": "black"
          }
         },
         "locations": [
          "DZA",
          "ARG",
          "ARM",
          "AUS",
          "AUT",
          "AZE",
          "BGD",
          "BLR",
          "BEL",
          "BOL",
          "BIH",
          "BRA",
          "BGR",
          "CAN",
          "CHL",
          "CHN",
          "COL",
          "CRI",
          "HRV",
          "CUB",
          "CYP",
          "CZE",
          "DNK",
          "DOM",
          "ECU",
          "EGY",
          "EST",
          "NAM",
          "FIN",
          "FRA",
          "GEO",
          "DEU",
          "GRC",
          "HKG",
          "HUN",
          "ISL",
          "IND",
          "IDN",
          "IRN",
          "IRQ",
          "IRL",
          "ISR",
          "ITA",
          "JPN",
          "KAZ",
          "LVA",
          "LBN",
          "LTU",
          "LUX",
          "MYS",
          "MEX",
          "MAR",
          "NPL",
          "NLD",
          "NZL",
          "NGA",
          "NOR",
          "NAM",
          "PAK",
          "PER",
          "PHL",
          "POL",
          "PRT",
          "PRI",
          "ROU",
          "RUS",
          "SRB",
          "SGP",
          "SVK",
          "SVN",
          "ZAF",
          "KOR",
          "NAM",
          "ESP",
          "LKA",
          "SWE",
          "CHE",
          "TWN",
          "THA",
          "TUR",
          "GBR",
          "USA",
          "UKR",
          "ARE",
          "URY",
          "VEN",
          "VNM"
         ],
         "marker": {
          "line": {
           "color": "rgb(180,180,180)",
           "width": 0.5
          }
         },
         "name": "",
         "text": [
          "Algeria<br>1.63 hr",
          "Argentina<br>1.46 hr",
          "Armenia<br>1.53 hr",
          "Australia<br>1.53 hr",
          "Austria<br>1.53 hr",
          "Azerbaijan<br>1.51 hr",
          "Bangladesh<br>2.2 hr",
          "Belarus<br>1.48 hr",
          "Belgium<br>1.52 hr",
          "Bolivia (Plurinational State of)<br>1.56 hr",
          "Bosnia and Herzegovina<br>1.45 hr",
          "Brazil<br>1.5 hr",
          "Bulgaria<br>1.59 hr",
          "Canada<br>1.52 hr",
          "Chile<br>1.48 hr",
          "China<br>1.65 hr",
          "Colombia<br>1.51 hr",
          "Costa Rica<br>1.44 hr",
          "Croatia<br>1.47 hr",
          "Cuba<br>1.52 hr",
          "Cyprus<br>1.51 hr",
          "Czech Republic<br>1.56 hr",
          "Denmark<br>1.51 hr",
          "Dominican Republic<br>1.52 hr",
          "Ecuador<br>1.49 hr",
          "Egypt<br>1.72 hr",
          "Estonia<br>1.53 hr",
          "Namibia<br>1.64 hr",
          "Finland<br>1.5 hr",
          "France<br>1.59 hr",
          "Georgia<br>1.57 hr",
          "Germany<br>1.53 hr",
          "Greece<br>1.5 hr",
          "Hong Kong<br>1.6 hr",
          "Hungary<br>1.54 hr",
          "Iceland<br>1.5 hr",
          "India<br>2.19 hr",
          "Indonesia<br>1.6 hr",
          "Iran (Islamic Republic of)<br>1.51 hr",
          "Iraq<br>1.49 hr",
          "Ireland<br>1.48 hr",
          "Israel<br>1.46 hr",
          "Italy<br>1.53 hr",
          "Japan<br>1.64 hr",
          "Kazakhstan<br>1.53 hr",
          "Latvia<br>1.55 hr",
          "Lebanon<br>1.5 hr",
          "Lithuania<br>1.57 hr",
          "Luxembourg<br>1.52 hr",
          "Malaysia<br>1.6 hr",
          "Mexico<br>1.51 hr",
          "Morocco<br>1.61 hr",
          "Nepal<br>1.92 hr",
          "Netherlands<br>1.49 hr",
          "New Zealand<br>1.51 hr",
          "Nigeria<br>1.65 hr",
          "Norway<br>1.48 hr",
          "Namibia<br>1.42 hr",
          "Pakistan<br>1.96 hr",
          "Peru<br>1.55 hr",
          "Philippines<br>1.69 hr",
          "Poland<br>1.55 hr",
          "Portugal<br>1.59 hr",
          "Puerto Rico<br>1.55 hr",
          "Romania<br>1.59 hr",
          "Russian Federation<br>1.58 hr",
          "Serbia<br>1.58 hr",
          "Singapore<br>1.58 hr",
          "Slovakia<br>1.53 hr",
          "Slovenia<br>1.49 hr",
          "South Africa<br>1.58 hr",
          "Korea (Republic of)<br>1.72 hr",
          "Namibia<br>1.61 hr",
          "Spain<br>1.54 hr",
          "Sri Lanka<br>1.75 hr",
          "Sweden<br>1.55 hr",
          "Switzerland<br>1.48 hr",
          "Taiwan, Province of China<br>1.66 hr",
          "Thailand<br>1.68 hr",
          "Turkey<br>1.63 hr",
          "United Kingdom of Great Britain and Northern Ireland<br>1.56 hr",
          "United States of America<br>1.53 hr",
          "Ukraine<br>1.6 hr",
          "United Arab Emirates<br>1.51 hr",
          "Uruguay<br>1.45 hr",
          "Venezuela (Bolivarian Republic of)<br>1.61 hr",
          "Viet Nam<br>1.63 hr"
         ],
         "type": "choropleth",
         "z": [
          1.6341025641025635,
          1.4600997676643446,
          1.5265372168284788,
          1.5286415989159925,
          1.53102951763859,
          1.5114427860696518,
          2.198630136986302,
          1.4772727272727268,
          1.5193477390956394,
          1.561202185792349,
          1.4462025316455702,
          1.5043894203714123,
          1.5885608856088569,
          1.5151635720601309,
          1.4761818181818176,
          1.6489306784660789,
          1.5143452380952385,
          1.4389880952380951,
          1.4702205882352943,
          1.521052631578946,
          1.5148484848484844,
          1.5599019607843134,
          1.5124591503267977,
          1.518333333333333,
          1.4905797101449274,
          1.7163720538720526,
          1.527444444444445,
          1.6355691056910564,
          1.4976246843434369,
          1.5863831215783553,
          1.567479674796748,
          1.5343073210922775,
          1.501195499296765,
          1.6048296257062131,
          1.5442536957558397,
          1.5007978723404254,
          2.185456127268208,
          1.5967027305512618,
          1.51030042918455,
          1.486728395061729,
          1.4832227750138198,
          1.4614280588446351,
          1.529461976202795,
          1.6415070921985802,
          1.5294985250737465,
          1.5503058103975529,
          1.5007507507507512,
          1.5687285223367695,
          1.5247967479674789,
          1.6012443438914028,
          1.5105078809106838,
          1.606971677559913,
          1.9179611650485435,
          1.491420982735726,
          1.5073634204275534,
          1.64979035639413,
          1.4779247501469746,
          1.4238562091503266,
          1.9574468085106382,
          1.5470164609053498,
          1.6866617719040662,
          1.5543608757062162,
          1.587375415282393,
          1.5496296296296292,
          1.5871104815864026,
          1.5753433835845878,
          1.5842342342342337,
          1.5815955766192744,
          1.5305555555555554,
          1.4866666666666668,
          1.579174983366601,
          1.72301089714883,
          1.6126736111111102,
          1.5352693882066593,
          1.7498188405797104,
          1.5520430107526884,
          1.4810194174757272,
          1.658509485094854,
          1.683590733590734,
          1.6328032979976443,
          1.5610956861535343,
          1.5303247239677773,
          1.5967184801381697,
          1.5084699453551909,
          1.4495412844036697,
          1.6066866267465068,
          1.6326436781609197
         ],
         "zmax": 2.2,
         "zmin": 1.4
        }
       ],
       "layout": {
        "geo": {
         "countrycolor": "#bdbdbd",
         "countrywidth": 0.5,
         "projection": {
          "type": "Mercator"
         },
         "showcountries": true
        },
        "margin": {
         "b": 30,
         "l": 10,
         "r": 60,
         "t": 100
        },
        "title": "Average Length of Movies by Country<br>(Only countries with >50 movies in 1991-2017)<br>Source: IMDB. Created by manag"
       }
      },
      "text/html": [
       "<div id=\"d408acec-0f37-4165-9e9a-18d7f455d047\" style=\"height: 525px; width: 100%;\" class=\"plotly-graph-div\"></div><script type=\"text/javascript\">require([\"plotly\"], function(Plotly) { window.PLOTLYENV=window.PLOTLYENV || {};window.PLOTLYENV.BASE_URL=\"https://plot.ly\";Plotly.newPlot(\"d408acec-0f37-4165-9e9a-18d7f455d047\", [{\"type\": \"choropleth\", \"locations\": [\"DZA\", \"ARG\", \"ARM\", \"AUS\", \"AUT\", \"AZE\", \"BGD\", \"BLR\", \"BEL\", \"BOL\", \"BIH\", \"BRA\", \"BGR\", \"CAN\", \"CHL\", \"CHN\", \"COL\", \"CRI\", \"HRV\", \"CUB\", \"CYP\", \"CZE\", \"DNK\", \"DOM\", \"ECU\", \"EGY\", \"EST\", \"NAM\", \"FIN\", \"FRA\", \"GEO\", \"DEU\", \"GRC\", \"HKG\", \"HUN\", \"ISL\", \"IND\", \"IDN\", \"IRN\", \"IRQ\", \"IRL\", \"ISR\", \"ITA\", \"JPN\", \"KAZ\", \"LVA\", \"LBN\", \"LTU\", \"LUX\", \"MYS\", \"MEX\", \"MAR\", \"NPL\", \"NLD\", \"NZL\", \"NGA\", \"NOR\", \"NAM\", \"PAK\", \"PER\", \"PHL\", \"POL\", \"PRT\", \"PRI\", \"ROU\", \"RUS\", \"SRB\", \"SGP\", \"SVK\", \"SVN\", \"ZAF\", \"KOR\", \"NAM\", \"ESP\", \"LKA\", \"SWE\", \"CHE\", \"TWN\", \"THA\", \"TUR\", \"GBR\", \"USA\", \"UKR\", \"ARE\", \"URY\", \"VEN\", \"VNM\"], \"z\": [1.6341025641025635, 1.4600997676643446, 1.5265372168284788, 1.5286415989159925, 1.53102951763859, 1.5114427860696518, 2.198630136986302, 1.4772727272727268, 1.5193477390956394, 1.561202185792349, 1.4462025316455702, 1.5043894203714123, 1.5885608856088569, 1.5151635720601309, 1.4761818181818176, 1.6489306784660789, 1.5143452380952385, 1.4389880952380951, 1.4702205882352943, 1.521052631578946, 1.5148484848484844, 1.5599019607843134, 1.5124591503267977, 1.518333333333333, 1.4905797101449274, 1.7163720538720526, 1.527444444444445, 1.6355691056910564, 1.4976246843434369, 1.5863831215783553, 1.567479674796748, 1.5343073210922775, 1.501195499296765, 1.6048296257062131, 1.5442536957558397, 1.5007978723404254, 2.185456127268208, 1.5967027305512618, 1.51030042918455, 1.486728395061729, 1.4832227750138198, 1.4614280588446351, 1.529461976202795, 1.6415070921985802, 1.5294985250737465, 1.5503058103975529, 1.5007507507507512, 1.5687285223367695, 1.5247967479674789, 1.6012443438914028, 1.5105078809106838, 1.606971677559913, 1.9179611650485435, 1.491420982735726, 1.5073634204275534, 1.64979035639413, 1.4779247501469746, 1.4238562091503266, 1.9574468085106382, 1.5470164609053498, 1.6866617719040662, 1.5543608757062162, 1.587375415282393, 1.5496296296296292, 1.5871104815864026, 1.5753433835845878, 1.5842342342342337, 1.5815955766192744, 1.5305555555555554, 1.4866666666666668, 1.579174983366601, 1.72301089714883, 1.6126736111111102, 1.5352693882066593, 1.7498188405797104, 1.5520430107526884, 1.4810194174757272, 1.658509485094854, 1.683590733590734, 1.6328032979976443, 1.5610956861535343, 1.5303247239677773, 1.5967184801381697, 1.5084699453551909, 1.4495412844036697, 1.6066866267465068, 1.6326436781609197], \"zmin\": 1.4, \"zmax\": 2.2, \"text\": [\"Algeria<br>1.63 hr\", \"Argentina<br>1.46 hr\", \"Armenia<br>1.53 hr\", \"Australia<br>1.53 hr\", \"Austria<br>1.53 hr\", \"Azerbaijan<br>1.51 hr\", \"Bangladesh<br>2.2 hr\", \"Belarus<br>1.48 hr\", \"Belgium<br>1.52 hr\", \"Bolivia (Plurinational State of)<br>1.56 hr\", \"Bosnia and Herzegovina<br>1.45 hr\", \"Brazil<br>1.5 hr\", \"Bulgaria<br>1.59 hr\", \"Canada<br>1.52 hr\", \"Chile<br>1.48 hr\", \"China<br>1.65 hr\", \"Colombia<br>1.51 hr\", \"Costa Rica<br>1.44 hr\", \"Croatia<br>1.47 hr\", \"Cuba<br>1.52 hr\", \"Cyprus<br>1.51 hr\", \"Czech Republic<br>1.56 hr\", \"Denmark<br>1.51 hr\", \"Dominican Republic<br>1.52 hr\", \"Ecuador<br>1.49 hr\", \"Egypt<br>1.72 hr\", \"Estonia<br>1.53 hr\", \"Namibia<br>1.64 hr\", \"Finland<br>1.5 hr\", \"France<br>1.59 hr\", \"Georgia<br>1.57 hr\", \"Germany<br>1.53 hr\", \"Greece<br>1.5 hr\", \"Hong Kong<br>1.6 hr\", \"Hungary<br>1.54 hr\", \"Iceland<br>1.5 hr\", \"India<br>2.19 hr\", \"Indonesia<br>1.6 hr\", \"Iran (Islamic Republic of)<br>1.51 hr\", \"Iraq<br>1.49 hr\", \"Ireland<br>1.48 hr\", \"Israel<br>1.46 hr\", \"Italy<br>1.53 hr\", \"Japan<br>1.64 hr\", \"Kazakhstan<br>1.53 hr\", \"Latvia<br>1.55 hr\", \"Lebanon<br>1.5 hr\", \"Lithuania<br>1.57 hr\", \"Luxembourg<br>1.52 hr\", \"Malaysia<br>1.6 hr\", \"Mexico<br>1.51 hr\", \"Morocco<br>1.61 hr\", \"Nepal<br>1.92 hr\", \"Netherlands<br>1.49 hr\", \"New Zealand<br>1.51 hr\", \"Nigeria<br>1.65 hr\", \"Norway<br>1.48 hr\", \"Namibia<br>1.42 hr\", \"Pakistan<br>1.96 hr\", \"Peru<br>1.55 hr\", \"Philippines<br>1.69 hr\", \"Poland<br>1.55 hr\", \"Portugal<br>1.59 hr\", \"Puerto Rico<br>1.55 hr\", \"Romania<br>1.59 hr\", \"Russian Federation<br>1.58 hr\", \"Serbia<br>1.58 hr\", \"Singapore<br>1.58 hr\", \"Slovakia<br>1.53 hr\", \"Slovenia<br>1.49 hr\", \"South Africa<br>1.58 hr\", \"Korea (Republic of)<br>1.72 hr\", \"Namibia<br>1.61 hr\", \"Spain<br>1.54 hr\", \"Sri Lanka<br>1.75 hr\", \"Sweden<br>1.55 hr\", \"Switzerland<br>1.48 hr\", \"Taiwan, Province of China<br>1.66 hr\", \"Thailand<br>1.68 hr\", \"Turkey<br>1.63 hr\", \"United Kingdom of Great Britain and Northern Ireland<br>1.56 hr\", \"United States of America<br>1.53 hr\", \"Ukraine<br>1.6 hr\", \"United Arab Emirates<br>1.51 hr\", \"Uruguay<br>1.45 hr\", \"Venezuela (Bolivarian Republic of)<br>1.61 hr\", \"Viet Nam<br>1.63 hr\"], \"name\": \"\", \"hoverinfo\": \"text\", \"hoverlabel\": {\"bgcolor\": \"gray\", \"font\": {\"color\": \"black\"}}, \"colorscale\": \"Portland\", \"marker\": {\"line\": {\"color\": \"rgb(180,180,180)\", \"width\": 0.5}}, \"colorbar\": {\"title\": \"Hours\", \"titleside\": \"bottom\", \"x\": 0.95, \"nticks\": 5}}], {\"title\": \"Average Length of Movies by Country<br>(Only countries with >50 movies in 1991-2017)<br>Source: IMDB. Created by manag\", \"margin\": {\"r\": 60, \"l\": 10, \"b\": 30, \"t\": 100}, \"geo\": {\"showcountries\": true, \"countrywidth\": 0.5, \"countrycolor\": \"#bdbdbd\", \"projection\": {\"type\": \"Mercator\"}}}, {\"showLink\": true, \"linkText\": \"Export to plot.ly\"})});</script>"
      ],
      "text/vnd.plotly.v1+html": [
       "<div id=\"d408acec-0f37-4165-9e9a-18d7f455d047\" style=\"height: 525px; width: 100%;\" class=\"plotly-graph-div\"></div><script type=\"text/javascript\">require([\"plotly\"], function(Plotly) { window.PLOTLYENV=window.PLOTLYENV || {};window.PLOTLYENV.BASE_URL=\"https://plot.ly\";Plotly.newPlot(\"d408acec-0f37-4165-9e9a-18d7f455d047\", [{\"type\": \"choropleth\", \"locations\": [\"DZA\", \"ARG\", \"ARM\", \"AUS\", \"AUT\", \"AZE\", \"BGD\", \"BLR\", \"BEL\", \"BOL\", \"BIH\", \"BRA\", \"BGR\", \"CAN\", \"CHL\", \"CHN\", \"COL\", \"CRI\", \"HRV\", \"CUB\", \"CYP\", \"CZE\", \"DNK\", \"DOM\", \"ECU\", \"EGY\", \"EST\", \"NAM\", \"FIN\", \"FRA\", \"GEO\", \"DEU\", \"GRC\", \"HKG\", \"HUN\", \"ISL\", \"IND\", \"IDN\", \"IRN\", \"IRQ\", \"IRL\", \"ISR\", \"ITA\", \"JPN\", \"KAZ\", \"LVA\", \"LBN\", \"LTU\", \"LUX\", \"MYS\", \"MEX\", \"MAR\", \"NPL\", \"NLD\", \"NZL\", \"NGA\", \"NOR\", \"NAM\", \"PAK\", \"PER\", \"PHL\", \"POL\", \"PRT\", \"PRI\", \"ROU\", \"RUS\", \"SRB\", \"SGP\", \"SVK\", \"SVN\", \"ZAF\", \"KOR\", \"NAM\", \"ESP\", \"LKA\", \"SWE\", \"CHE\", \"TWN\", \"THA\", \"TUR\", \"GBR\", \"USA\", \"UKR\", \"ARE\", \"URY\", \"VEN\", \"VNM\"], \"z\": [1.6341025641025635, 1.4600997676643446, 1.5265372168284788, 1.5286415989159925, 1.53102951763859, 1.5114427860696518, 2.198630136986302, 1.4772727272727268, 1.5193477390956394, 1.561202185792349, 1.4462025316455702, 1.5043894203714123, 1.5885608856088569, 1.5151635720601309, 1.4761818181818176, 1.6489306784660789, 1.5143452380952385, 1.4389880952380951, 1.4702205882352943, 1.521052631578946, 1.5148484848484844, 1.5599019607843134, 1.5124591503267977, 1.518333333333333, 1.4905797101449274, 1.7163720538720526, 1.527444444444445, 1.6355691056910564, 1.4976246843434369, 1.5863831215783553, 1.567479674796748, 1.5343073210922775, 1.501195499296765, 1.6048296257062131, 1.5442536957558397, 1.5007978723404254, 2.185456127268208, 1.5967027305512618, 1.51030042918455, 1.486728395061729, 1.4832227750138198, 1.4614280588446351, 1.529461976202795, 1.6415070921985802, 1.5294985250737465, 1.5503058103975529, 1.5007507507507512, 1.5687285223367695, 1.5247967479674789, 1.6012443438914028, 1.5105078809106838, 1.606971677559913, 1.9179611650485435, 1.491420982735726, 1.5073634204275534, 1.64979035639413, 1.4779247501469746, 1.4238562091503266, 1.9574468085106382, 1.5470164609053498, 1.6866617719040662, 1.5543608757062162, 1.587375415282393, 1.5496296296296292, 1.5871104815864026, 1.5753433835845878, 1.5842342342342337, 1.5815955766192744, 1.5305555555555554, 1.4866666666666668, 1.579174983366601, 1.72301089714883, 1.6126736111111102, 1.5352693882066593, 1.7498188405797104, 1.5520430107526884, 1.4810194174757272, 1.658509485094854, 1.683590733590734, 1.6328032979976443, 1.5610956861535343, 1.5303247239677773, 1.5967184801381697, 1.5084699453551909, 1.4495412844036697, 1.6066866267465068, 1.6326436781609197], \"zmin\": 1.4, \"zmax\": 2.2, \"text\": [\"Algeria<br>1.63 hr\", \"Argentina<br>1.46 hr\", \"Armenia<br>1.53 hr\", \"Australia<br>1.53 hr\", \"Austria<br>1.53 hr\", \"Azerbaijan<br>1.51 hr\", \"Bangladesh<br>2.2 hr\", \"Belarus<br>1.48 hr\", \"Belgium<br>1.52 hr\", \"Bolivia (Plurinational State of)<br>1.56 hr\", \"Bosnia and Herzegovina<br>1.45 hr\", \"Brazil<br>1.5 hr\", \"Bulgaria<br>1.59 hr\", \"Canada<br>1.52 hr\", \"Chile<br>1.48 hr\", \"China<br>1.65 hr\", \"Colombia<br>1.51 hr\", \"Costa Rica<br>1.44 hr\", \"Croatia<br>1.47 hr\", \"Cuba<br>1.52 hr\", \"Cyprus<br>1.51 hr\", \"Czech Republic<br>1.56 hr\", \"Denmark<br>1.51 hr\", \"Dominican Republic<br>1.52 hr\", \"Ecuador<br>1.49 hr\", \"Egypt<br>1.72 hr\", \"Estonia<br>1.53 hr\", \"Namibia<br>1.64 hr\", \"Finland<br>1.5 hr\", \"France<br>1.59 hr\", \"Georgia<br>1.57 hr\", \"Germany<br>1.53 hr\", \"Greece<br>1.5 hr\", \"Hong Kong<br>1.6 hr\", \"Hungary<br>1.54 hr\", \"Iceland<br>1.5 hr\", \"India<br>2.19 hr\", \"Indonesia<br>1.6 hr\", \"Iran (Islamic Republic of)<br>1.51 hr\", \"Iraq<br>1.49 hr\", \"Ireland<br>1.48 hr\", \"Israel<br>1.46 hr\", \"Italy<br>1.53 hr\", \"Japan<br>1.64 hr\", \"Kazakhstan<br>1.53 hr\", \"Latvia<br>1.55 hr\", \"Lebanon<br>1.5 hr\", \"Lithuania<br>1.57 hr\", \"Luxembourg<br>1.52 hr\", \"Malaysia<br>1.6 hr\", \"Mexico<br>1.51 hr\", \"Morocco<br>1.61 hr\", \"Nepal<br>1.92 hr\", \"Netherlands<br>1.49 hr\", \"New Zealand<br>1.51 hr\", \"Nigeria<br>1.65 hr\", \"Norway<br>1.48 hr\", \"Namibia<br>1.42 hr\", \"Pakistan<br>1.96 hr\", \"Peru<br>1.55 hr\", \"Philippines<br>1.69 hr\", \"Poland<br>1.55 hr\", \"Portugal<br>1.59 hr\", \"Puerto Rico<br>1.55 hr\", \"Romania<br>1.59 hr\", \"Russian Federation<br>1.58 hr\", \"Serbia<br>1.58 hr\", \"Singapore<br>1.58 hr\", \"Slovakia<br>1.53 hr\", \"Slovenia<br>1.49 hr\", \"South Africa<br>1.58 hr\", \"Korea (Republic of)<br>1.72 hr\", \"Namibia<br>1.61 hr\", \"Spain<br>1.54 hr\", \"Sri Lanka<br>1.75 hr\", \"Sweden<br>1.55 hr\", \"Switzerland<br>1.48 hr\", \"Taiwan, Province of China<br>1.66 hr\", \"Thailand<br>1.68 hr\", \"Turkey<br>1.63 hr\", \"United Kingdom of Great Britain and Northern Ireland<br>1.56 hr\", \"United States of America<br>1.53 hr\", \"Ukraine<br>1.6 hr\", \"United Arab Emirates<br>1.51 hr\", \"Uruguay<br>1.45 hr\", \"Venezuela (Bolivarian Republic of)<br>1.61 hr\", \"Viet Nam<br>1.63 hr\"], \"name\": \"\", \"hoverinfo\": \"text\", \"hoverlabel\": {\"bgcolor\": \"gray\", \"font\": {\"color\": \"black\"}}, \"colorscale\": \"Portland\", \"marker\": {\"line\": {\"color\": \"rgb(180,180,180)\", \"width\": 0.5}}, \"colorbar\": {\"title\": \"Hours\", \"titleside\": \"bottom\", \"x\": 0.95, \"nticks\": 5}}], {\"title\": \"Average Length of Movies by Country<br>(Only countries with >50 movies in 1991-2017)<br>Source: IMDB. Created by manag\", \"margin\": {\"r\": 60, \"l\": 10, \"b\": 30, \"t\": 100}, \"geo\": {\"showcountries\": true, \"countrywidth\": 0.5, \"countrycolor\": \"#bdbdbd\", \"projection\": {\"type\": \"Mercator\"}}}, {\"showLink\": true, \"linkText\": \"Export to plot.ly\"})});</script>"
      ]
     },
     "metadata": {},
     "output_type": "display_data"
    }
   ],
   "source": [
    "data = [ dict(\n",
    "        type = 'choropleth',\n",
    "        locations = m_pd['alpha-3'],\n",
    "        z = m_pd['running_times_first'],\n",
    "            zmin = 1.4,\n",
    "            zmax = 2.2,\n",
    "        text = m_pd['name'] + '<br>' + m_pd['running_times_first'].round(2).astype(str) + ' hr',\n",
    "        name = '',\n",
    "        hoverinfo = 'text',\n",
    "        hoverlabel = dict(bgcolor='gray',\n",
    "                         font = dict(color='black')),\n",
    "        colorscale = 'Portland',\n",
    "#         reversescale = True,\n",
    "        marker = dict(\n",
    "            line = dict (\n",
    "                color = 'rgb(180,180,180)',\n",
    "                width = 0.5\n",
    "            ) ),\n",
    "        colorbar = dict(\n",
    "            title = 'Hours',\n",
    "            titleside='bottom',\n",
    "            x=0.95,\n",
    "            nticks=5\n",
    "        ),\n",
    "      ) ]\n",
    "\n",
    "layout = dict(\n",
    "    title = ('Average Length of Movies by Country<br>(Only countries with >50 movies in 1991-2017)<br>Source: IMDB. Created by manag'),\n",
    "            margin=Margin(r=60, l=10,\n",
    "                          b=30, t=100),\n",
    "    geo = dict(\n",
    "        showcountries = True,\n",
    "        countrywidth=0.5,\n",
    "        countrycolor = '#bdbdbd',\n",
    "        projection = dict(\n",
    "            type = 'Mercator'\n",
    "        )\n",
    "    )\n",
    ")\n",
    "\n",
    "fig = dict( data=data, layout=layout )\n",
    "iplot( fig)"
   ]
  }
 ],
 "metadata": {
  "kernelspec": {
   "display_name": "Python 3",
   "language": "python",
   "name": "python3"
  },
  "language_info": {
   "codemirror_mode": {
    "name": "ipython",
    "version": 3
   },
   "file_extension": ".py",
   "mimetype": "text/x-python",
   "name": "python",
   "nbconvert_exporter": "python",
   "pygments_lexer": "ipython3",
   "version": "3.6.2"
  }
 },
 "nbformat": 4,
 "nbformat_minor": 2
}
