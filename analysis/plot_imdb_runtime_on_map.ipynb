{
 "cells": [
  {
   "cell_type": "markdown",
   "metadata": {},
   "source": [
    "Plot average  movie length (based on IMDB data) in world map\n",
    "======"
   ]
  },
  {
   "cell_type": "code",
   "execution_count": 1,
   "metadata": {},
   "outputs": [
    {
     "data": {
      "text/html": [
       "<script>requirejs.config({paths: { 'plotly': ['https://cdn.plot.ly/plotly-latest.min']},});if(!window.Plotly) {{require(['plotly'],function(plotly) {window.Plotly=plotly;});}}</script>"
      ],
      "text/vnd.plotly.v1+html": [
       "<script>requirejs.config({paths: { 'plotly': ['https://cdn.plot.ly/plotly-latest.min']},});if(!window.Plotly) {{require(['plotly'],function(plotly) {window.Plotly=plotly;});}}</script>"
      ]
     },
     "metadata": {},
     "output_type": "display_data"
    }
   ],
   "source": [
    "import pandas as pd\n",
    "# import plotly.plotly as py\n",
    "from matplotlib import pyplot as plt\n",
    "%matplotlib inline\n",
    "\n",
    "from plotly.offline import download_plotlyjs, init_notebook_mode, iplot\n",
    "from plotly.graph_objs import *\n",
    "init_notebook_mode(connected=True)"
   ]
  },
  {
   "cell_type": "code",
   "execution_count": 72,
   "metadata": {},
   "outputs": [
    {
     "data": {
      "text/html": [
       "<div>\n",
       "<style>\n",
       "    .dataframe thead tr:only-child th {\n",
       "        text-align: right;\n",
       "    }\n",
       "\n",
       "    .dataframe thead th {\n",
       "        text-align: left;\n",
       "    }\n",
       "\n",
       "    .dataframe tbody tr th {\n",
       "        vertical-align: top;\n",
       "    }\n",
       "</style>\n",
       "<table border=\"1\" class=\"dataframe\">\n",
       "  <thead>\n",
       "    <tr style=\"text-align: right;\">\n",
       "      <th></th>\n",
       "      <th>country</th>\n",
       "      <th>latitude</th>\n",
       "      <th>longitude</th>\n",
       "    </tr>\n",
       "    <tr>\n",
       "      <th>name</th>\n",
       "      <th></th>\n",
       "      <th></th>\n",
       "      <th></th>\n",
       "    </tr>\n",
       "  </thead>\n",
       "  <tbody>\n",
       "    <tr>\n",
       "      <th>Andorra</th>\n",
       "      <td>AD</td>\n",
       "      <td>42.546245</td>\n",
       "      <td>1.601554</td>\n",
       "    </tr>\n",
       "    <tr>\n",
       "      <th>United Arab Emirates</th>\n",
       "      <td>AE</td>\n",
       "      <td>23.424076</td>\n",
       "      <td>53.847818</td>\n",
       "    </tr>\n",
       "    <tr>\n",
       "      <th>Afghanistan</th>\n",
       "      <td>AF</td>\n",
       "      <td>33.939110</td>\n",
       "      <td>67.709953</td>\n",
       "    </tr>\n",
       "  </tbody>\n",
       "</table>\n",
       "</div>"
      ],
      "text/plain": [
       "                     country   latitude  longitude\n",
       "name                                              \n",
       "Andorra                   AD  42.546245   1.601554\n",
       "United Arab Emirates      AE  23.424076  53.847818\n",
       "Afghanistan               AF  33.939110  67.709953"
      ]
     },
     "execution_count": 72,
     "metadata": {},
     "output_type": "execute_result"
    }
   ],
   "source": [
    "geo_f = '../data/google_coordinates.tsv'\n",
    "geo_pd = pd.read_csv(geo_f, sep='\\t', index_col='name', comment='#')\n",
    "geo_pd.head(3)"
   ]
  },
  {
   "cell_type": "code",
   "execution_count": 3,
   "metadata": {},
   "outputs": [
    {
     "data": {
      "text/html": [
       "<div>\n",
       "<style>\n",
       "    .dataframe thead tr:only-child th {\n",
       "        text-align: right;\n",
       "    }\n",
       "\n",
       "    .dataframe thead th {\n",
       "        text-align: left;\n",
       "    }\n",
       "\n",
       "    .dataframe tbody tr th {\n",
       "        vertical-align: top;\n",
       "    }\n",
       "</style>\n",
       "<table border=\"1\" class=\"dataframe\">\n",
       "  <thead>\n",
       "    <tr style=\"text-align: right;\">\n",
       "      <th></th>\n",
       "      <th>running_times_first</th>\n",
       "      <th>kind</th>\n",
       "    </tr>\n",
       "    <tr>\n",
       "      <th>countries_first</th>\n",
       "      <th></th>\n",
       "      <th></th>\n",
       "    </tr>\n",
       "  </thead>\n",
       "  <tbody>\n",
       "    <tr>\n",
       "      <th>Algeria</th>\n",
       "      <td>1.630808</td>\n",
       "      <td>66</td>\n",
       "    </tr>\n",
       "    <tr>\n",
       "      <th>Argentina</th>\n",
       "      <td>1.461470</td>\n",
       "      <td>2460</td>\n",
       "    </tr>\n",
       "    <tr>\n",
       "      <th>Armenia</th>\n",
       "      <td>1.526537</td>\n",
       "      <td>103</td>\n",
       "    </tr>\n",
       "  </tbody>\n",
       "</table>\n",
       "</div>"
      ],
      "text/plain": [
       "                 running_times_first  kind\n",
       "countries_first                           \n",
       "Algeria                     1.630808    66\n",
       "Argentina                   1.461470  2460\n",
       "Armenia                     1.526537   103"
      ]
     },
     "execution_count": 3,
     "metadata": {},
     "output_type": "execute_result"
    }
   ],
   "source": [
    "imdb_f = '../results/country_runtime_count.tsv'\n",
    "imdb_pd = pd.read_csv(imdb_f, sep='\\t', index_col='countries_first', comment=)\n",
    "imdb_pd.head(3)"
   ]
  },
  {
   "cell_type": "code",
   "execution_count": 70,
   "metadata": {},
   "outputs": [
    {
     "data": {
      "text/html": [
       "<div>\n",
       "<style>\n",
       "    .dataframe thead tr:only-child th {\n",
       "        text-align: right;\n",
       "    }\n",
       "\n",
       "    .dataframe thead th {\n",
       "        text-align: left;\n",
       "    }\n",
       "\n",
       "    .dataframe tbody tr th {\n",
       "        vertical-align: top;\n",
       "    }\n",
       "</style>\n",
       "<table border=\"1\" class=\"dataframe\">\n",
       "  <thead>\n",
       "    <tr style=\"text-align: right;\">\n",
       "      <th></th>\n",
       "      <th>running_times_first</th>\n",
       "      <th>kind</th>\n",
       "      <th>country</th>\n",
       "      <th>latitude</th>\n",
       "      <th>longitude</th>\n",
       "    </tr>\n",
       "    <tr>\n",
       "      <th>countries_first</th>\n",
       "      <th></th>\n",
       "      <th></th>\n",
       "      <th></th>\n",
       "      <th></th>\n",
       "      <th></th>\n",
       "    </tr>\n",
       "  </thead>\n",
       "  <tbody>\n",
       "    <tr>\n",
       "      <th>Algeria</th>\n",
       "      <td>1.630808</td>\n",
       "      <td>66</td>\n",
       "      <td>DZ</td>\n",
       "      <td>28.033886</td>\n",
       "      <td>1.659626</td>\n",
       "    </tr>\n",
       "    <tr>\n",
       "      <th>Argentina</th>\n",
       "      <td>1.461470</td>\n",
       "      <td>2460</td>\n",
       "      <td>AR</td>\n",
       "      <td>-38.416097</td>\n",
       "      <td>-63.616672</td>\n",
       "    </tr>\n",
       "    <tr>\n",
       "      <th>Armenia</th>\n",
       "      <td>1.526537</td>\n",
       "      <td>103</td>\n",
       "      <td>AM</td>\n",
       "      <td>40.069099</td>\n",
       "      <td>45.038189</td>\n",
       "    </tr>\n",
       "  </tbody>\n",
       "</table>\n",
       "</div>"
      ],
      "text/plain": [
       "                 running_times_first  kind country   latitude  longitude\n",
       "countries_first                                                         \n",
       "Algeria                     1.630808    66      DZ  28.033886   1.659626\n",
       "Argentina                   1.461470  2460      AR -38.416097 -63.616672\n",
       "Armenia                     1.526537   103      AM  40.069099  45.038189"
      ]
     },
     "execution_count": 70,
     "metadata": {},
     "output_type": "execute_result"
    }
   ],
   "source": [
    "merged_pd = pd.concat([imdb_pd, geo_pd], axis=1, join_axes=[imdb_pd.index])\n",
    "merged_pd.head(3)"
   ]
  },
  {
   "cell_type": "code",
   "execution_count": 5,
   "metadata": {
    "scrolled": false
   },
   "outputs": [
    {
     "data": {
      "text/html": [
       "<div>\n",
       "<style>\n",
       "    .dataframe thead tr:only-child th {\n",
       "        text-align: right;\n",
       "    }\n",
       "\n",
       "    .dataframe thead th {\n",
       "        text-align: left;\n",
       "    }\n",
       "\n",
       "    .dataframe tbody tr th {\n",
       "        vertical-align: top;\n",
       "    }\n",
       "</style>\n",
       "<table border=\"1\" class=\"dataframe\">\n",
       "  <thead>\n",
       "    <tr style=\"text-align: right;\">\n",
       "      <th></th>\n",
       "      <th>running_times_first</th>\n",
       "      <th>kind</th>\n",
       "      <th>country</th>\n",
       "      <th>latitude</th>\n",
       "      <th>longitude</th>\n",
       "    </tr>\n",
       "    <tr>\n",
       "      <th>countries_first</th>\n",
       "      <th></th>\n",
       "      <th></th>\n",
       "      <th></th>\n",
       "      <th></th>\n",
       "      <th></th>\n",
       "    </tr>\n",
       "  </thead>\n",
       "  <tbody>\n",
       "    <tr>\n",
       "      <th>Czechoslovakia</th>\n",
       "      <td>1.587366</td>\n",
       "      <td>62</td>\n",
       "      <td>NaN</td>\n",
       "      <td>NaN</td>\n",
       "      <td>NaN</td>\n",
       "    </tr>\n",
       "    <tr>\n",
       "      <th>Federal Republic of Yugoslavia</th>\n",
       "      <td>1.635569</td>\n",
       "      <td>82</td>\n",
       "      <td>NaN</td>\n",
       "      <td>NaN</td>\n",
       "      <td>NaN</td>\n",
       "    </tr>\n",
       "    <tr>\n",
       "      <th>Occupied Palestinian Territory</th>\n",
       "      <td>1.423856</td>\n",
       "      <td>51</td>\n",
       "      <td>NaN</td>\n",
       "      <td>NaN</td>\n",
       "      <td>NaN</td>\n",
       "    </tr>\n",
       "    <tr>\n",
       "      <th>Soviet Union</th>\n",
       "      <td>1.618630</td>\n",
       "      <td>348</td>\n",
       "      <td>NaN</td>\n",
       "      <td>NaN</td>\n",
       "      <td>NaN</td>\n",
       "    </tr>\n",
       "  </tbody>\n",
       "</table>\n",
       "</div>"
      ],
      "text/plain": [
       "                                running_times_first  kind country  latitude  \\\n",
       "countries_first                                                               \n",
       "Czechoslovakia                             1.587366    62     NaN       NaN   \n",
       "Federal Republic of Yugoslavia             1.635569    82     NaN       NaN   \n",
       "Occupied Palestinian Territory             1.423856    51     NaN       NaN   \n",
       "Soviet Union                               1.618630   348     NaN       NaN   \n",
       "\n",
       "                                longitude  \n",
       "countries_first                            \n",
       "Czechoslovakia                        NaN  \n",
       "Federal Republic of Yugoslavia        NaN  \n",
       "Occupied Palestinian Territory        NaN  \n",
       "Soviet Union                          NaN  "
      ]
     },
     "execution_count": 5,
     "metadata": {},
     "output_type": "execute_result"
    }
   ],
   "source": [
    "merged_pd[merged_pd['latitude'].isnull()]"
   ]
  },
  {
   "cell_type": "code",
   "execution_count": 6,
   "metadata": {
    "scrolled": true
   },
   "outputs": [
    {
     "data": {
      "text/plain": [
       "<matplotlib.axes._subplots.AxesSubplot at 0x7dfd130>"
      ]
     },
     "execution_count": 6,
     "metadata": {},
     "output_type": "execute_result"
    },
    {
     "data": {
      "image/png": "[encoded data removed]",
      "text/plain": [
       "<matplotlib.figure.Figure at 0x7dd0e10>"
      ]
     },
     "metadata": {},
     "output_type": "display_data"
    }
   ],
   "source": [
    "merged_pd['running_times_first'].plot.hist(bins=20)"
   ]
  },
  {
   "cell_type": "code",
   "execution_count": 58,
   "metadata": {
    "collapsed": true
   },
   "outputs": [],
   "source": [
    "# color_code = ['#d7191c','#fdae61','#abd9e9','#2c7bb6']\n",
    "# color_code = ['#d7191c','#fdae61','#28bfa5','#2c7bb6']\n",
    "color_code = ['#d7191c','#fdae61','#8a5cd1','#2c7bb6']"
   ]
  },
  {
   "cell_type": "code",
   "execution_count": 59,
   "metadata": {
    "collapsed": true
   },
   "outputs": [],
   "source": [
    "time_range = [(1.4, 1.6), (1.6, 1.8), (1.8, 2.0), (2.0, 2.2)]\n",
    "\n",
    "\n",
    "def get_color_code(num):\n",
    "    for i, pair in enumerate(time_range):\n",
    "        if pair[0] <= num < pair[1]:\n",
    "#             return color_code[i]\n",
    "            return color_code[-i-1]\n",
    "            break"
   ]
  },
  {
   "cell_type": "code",
   "execution_count": 60,
   "metadata": {
    "scrolled": true
   },
   "outputs": [
    {
     "data": {
      "text/plain": [
       "{'#2c7bb6': '1.4 - 1.6 hr',\n",
       " '#8a5cd1': '1.6 - 1.8 hr',\n",
       " '#d7191c': '2.0 - 2.2 hr',\n",
       " '#fdae61': '1.8 - 2.0 hr'}"
      ]
     },
     "execution_count": 60,
     "metadata": {},
     "output_type": "execute_result"
    }
   ],
   "source": [
    "legend_name_dict = {color: '%s hr' % ' - '.join(str(x)  for x in time_range[-index-1])   \n",
    "                    for index, color in enumerate(color_code)}\n",
    "legend_name_dict"
   ]
  },
  {
   "cell_type": "code",
   "execution_count": 62,
   "metadata": {
    "scrolled": true
   },
   "outputs": [
    {
     "name": "stdout",
     "output_type": "stream",
     "text": [
      "4 #d7191c\n",
      "3 #fdae61\n",
      "2 #8a5cd1\n",
      "1 #2c7bb6\n"
     ]
    }
   ],
   "source": [
    "data = []\n",
    "legend_colors_already_added = []\n",
    "legend_index = 4\n",
    "for i, row in merged_pd.iterrows():\n",
    "    # for proper ordering of legends\n",
    "    color = get_color_code(row['running_times_first'])\n",
    "    if color not in legend_colors_already_added \\\n",
    "        and color_code[-legend_index] == color:\n",
    "        print (legend_index, color)\n",
    "        legend_colors_already_added.append(color)\n",
    "        legend_name = legend_name_dict[color]\n",
    "        showlegend = True\n",
    "        legend_index -= 1\n",
    "    else:\n",
    "        legend_name = None\n",
    "        showlegend = False\n",
    "                           \n",
    "    city = dict(\n",
    "            type = 'scattergeo',\n",
    "            lon = pd.Series({i:row['longitude']}),\n",
    "            lat = pd.Series({i:row['latitude']}),\n",
    "            text = '%s (%0.1fhr)' % (row.name, row['running_times_first']),\n",
    "            hoverinfo = 'lon+lat+text',\n",
    "\n",
    "            marker = dict(\n",
    "                size = 6,\n",
    "                color = color,\n",
    "#                 line = dict(width=0.5, color='rgb(40,40,40)'),\n",
    "                sizemode = 'area'\n",
    "        ),\n",
    "        name = legend_name,\n",
    "        showlegend = showlegend)\n",
    "#         name = row.name )\n",
    "#     print(row['running_times_first'], int(-(row['running_times_first']-1.4)*10))\n",
    "    data.append(city)"
   ]
  },
  {
   "cell_type": "code",
   "execution_count": 69,
   "metadata": {
    "scrolled": false
   },
   "outputs": [
    {
     "data": {
      "application/vnd.plotly.v1+json": {
       "data": [
        {
         "hoverinfo": "lon+lat+text",
         "lat": [
          28.033886
         ],
         "lon": [
          1.6596259999999998
         ],
         "marker": {
          "color": "#8a5cd1",
          "size": 6,
          "sizemode": "area"
         },
         "name": null,
         "showlegend": false,
         "text": "Algeria (1.6hr)",
         "type": "scattergeo"
        },
        {
         "hoverinfo": "lon+lat+text",
         "lat": [
          -38.416097
         ],
         "lon": [
          -63.616671999999994
         ],
         "marker": {
          "color": "#2c7bb6",
          "size": 6,
          "sizemode": "area"
         },
         "name": null,
         "showlegend": false,
         "text": "Argentina (1.5hr)",
         "type": "scattergeo"
        },
        {
         "hoverinfo": "lon+lat+text",
         "lat": [
          40.069099
         ],
         "lon": [
          45.038189
         ],
         "marker": {
          "color": "#2c7bb6",
          "size": 6,
          "sizemode": "area"
         },
         "name": null,
         "showlegend": false,
         "text": "Armenia (1.5hr)",
         "type": "scattergeo"
        },
        {
         "hoverinfo": "lon+lat+text",
         "lat": [
          -25.274398
         ],
         "lon": [
          133.775136
         ],
         "marker": {
          "color": "#2c7bb6",
          "size": 6,
          "sizemode": "area"
         },
         "name": null,
         "showlegend": false,
         "text": "Australia (1.5hr)",
         "type": "scattergeo"
        },
        {
         "hoverinfo": "lon+lat+text",
         "lat": [
          47.516231
         ],
         "lon": [
          14.550072
         ],
         "marker": {
          "color": "#2c7bb6",
          "size": 6,
          "sizemode": "area"
         },
         "name": null,
         "showlegend": false,
         "text": "Austria (1.5hr)",
         "type": "scattergeo"
        },
        {
         "hoverinfo": "lon+lat+text",
         "lat": [
          40.143105
         ],
         "lon": [
          47.576927000000005
         ],
         "marker": {
          "color": "#2c7bb6",
          "size": 6,
          "sizemode": "area"
         },
         "name": null,
         "showlegend": false,
         "text": "Azerbaijan (1.5hr)",
         "type": "scattergeo"
        },
        {
         "hoverinfo": "lon+lat+text",
         "lat": [
          23.684994
         ],
         "lon": [
          90.35633100000001
         ],
         "marker": {
          "color": "#d7191c",
          "size": 6,
          "sizemode": "area"
         },
         "name": "2.0 - 2.2 hr",
         "showlegend": true,
         "text": "Bangladesh (2.2hr)",
         "type": "scattergeo"
        },
        {
         "hoverinfo": "lon+lat+text",
         "lat": [
          53.709807
         ],
         "lon": [
          27.953389
         ],
         "marker": {
          "color": "#2c7bb6",
          "size": 6,
          "sizemode": "area"
         },
         "name": null,
         "showlegend": false,
         "text": "Belarus (1.5hr)",
         "type": "scattergeo"
        },
        {
         "hoverinfo": "lon+lat+text",
         "lat": [
          50.503887
         ],
         "lon": [
          4.469936
         ],
         "marker": {
          "color": "#2c7bb6",
          "size": 6,
          "sizemode": "area"
         },
         "name": null,
         "showlegend": false,
         "text": "Belgium (1.5hr)",
         "type": "scattergeo"
        },
        {
         "hoverinfo": "lon+lat+text",
         "lat": [
          -16.290154
         ],
         "lon": [
          -63.588653
         ],
         "marker": {
          "color": "#2c7bb6",
          "size": 6,
          "sizemode": "area"
         },
         "name": null,
         "showlegend": false,
         "text": "Bolivia (1.6hr)",
         "type": "scattergeo"
        },
        {
         "hoverinfo": "lon+lat+text",
         "lat": [
          43.915886
         ],
         "lon": [
          17.679076000000002
         ],
         "marker": {
          "color": "#2c7bb6",
          "size": 6,
          "sizemode": "area"
         },
         "name": null,
         "showlegend": false,
         "text": "Bosnia and Herzegovina (1.4hr)",
         "type": "scattergeo"
        },
        {
         "hoverinfo": "lon+lat+text",
         "lat": [
          -14.235004
         ],
         "lon": [
          -51.92528
         ],
         "marker": {
          "color": "#2c7bb6",
          "size": 6,
          "sizemode": "area"
         },
         "name": null,
         "showlegend": false,
         "text": "Brazil (1.5hr)",
         "type": "scattergeo"
        },
        {
         "hoverinfo": "lon+lat+text",
         "lat": [
          42.733883
         ],
         "lon": [
          25.48583
         ],
         "marker": {
          "color": "#2c7bb6",
          "size": 6,
          "sizemode": "area"
         },
         "name": null,
         "showlegend": false,
         "text": "Bulgaria (1.6hr)",
         "type": "scattergeo"
        },
        {
         "hoverinfo": "lon+lat+text",
         "lat": [
          56.130366
         ],
         "lon": [
          -106.34677099999999
         ],
         "marker": {
          "color": "#2c7bb6",
          "size": 6,
          "sizemode": "area"
         },
         "name": null,
         "showlegend": false,
         "text": "Canada (1.5hr)",
         "type": "scattergeo"
        },
        {
         "hoverinfo": "lon+lat+text",
         "lat": [
          -35.675146999999996
         ],
         "lon": [
          -71.542969
         ],
         "marker": {
          "color": "#2c7bb6",
          "size": 6,
          "sizemode": "area"
         },
         "name": null,
         "showlegend": false,
         "text": "Chile (1.5hr)",
         "type": "scattergeo"
        },
        {
         "hoverinfo": "lon+lat+text",
         "lat": [
          35.86166
         ],
         "lon": [
          104.195397
         ],
         "marker": {
          "color": "#8a5cd1",
          "size": 6,
          "sizemode": "area"
         },
         "name": null,
         "showlegend": false,
         "text": "China (1.6hr)",
         "type": "scattergeo"
        },
        {
         "hoverinfo": "lon+lat+text",
         "lat": [
          4.570868
         ],
         "lon": [
          -74.297333
         ],
         "marker": {
          "color": "#2c7bb6",
          "size": 6,
          "sizemode": "area"
         },
         "name": null,
         "showlegend": false,
         "text": "Colombia (1.5hr)",
         "type": "scattergeo"
        },
        {
         "hoverinfo": "lon+lat+text",
         "lat": [
          9.748917
         ],
         "lon": [
          -83.753428
         ],
         "marker": {
          "color": "#2c7bb6",
          "size": 6,
          "sizemode": "area"
         },
         "name": null,
         "showlegend": false,
         "text": "Costa Rica (1.4hr)",
         "type": "scattergeo"
        },
        {
         "hoverinfo": "lon+lat+text",
         "lat": [
          45.1
         ],
         "lon": [
          15.2
         ],
         "marker": {
          "color": "#2c7bb6",
          "size": 6,
          "sizemode": "area"
         },
         "name": null,
         "showlegend": false,
         "text": "Croatia (1.5hr)",
         "type": "scattergeo"
        },
        {
         "hoverinfo": "lon+lat+text",
         "lat": [
          21.521757
         ],
         "lon": [
          -77.78116700000001
         ],
         "marker": {
          "color": "#2c7bb6",
          "size": 6,
          "sizemode": "area"
         },
         "name": null,
         "showlegend": false,
         "text": "Cuba (1.5hr)",
         "type": "scattergeo"
        },
        {
         "hoverinfo": "lon+lat+text",
         "lat": [
          35.126413
         ],
         "lon": [
          33.429859
         ],
         "marker": {
          "color": "#2c7bb6",
          "size": 6,
          "sizemode": "area"
         },
         "name": null,
         "showlegend": false,
         "text": "Cyprus (1.5hr)",
         "type": "scattergeo"
        },
        {
         "hoverinfo": "lon+lat+text",
         "lat": [
          49.817492
         ],
         "lon": [
          15.472961999999999
         ],
         "marker": {
          "color": "#2c7bb6",
          "size": 6,
          "sizemode": "area"
         },
         "name": null,
         "showlegend": false,
         "text": "Czech Republic (1.6hr)",
         "type": "scattergeo"
        },
        {
         "hoverinfo": "lon+lat+text",
         "lat": [
          null
         ],
         "lon": [
          null
         ],
         "marker": {
          "color": "#2c7bb6",
          "size": 6,
          "sizemode": "area"
         },
         "name": null,
         "showlegend": false,
         "text": "Czechoslovakia (1.6hr)",
         "type": "scattergeo"
        },
        {
         "hoverinfo": "lon+lat+text",
         "lat": [
          56.26392
         ],
         "lon": [
          9.501785
         ],
         "marker": {
          "color": "#2c7bb6",
          "size": 6,
          "sizemode": "area"
         },
         "name": null,
         "showlegend": false,
         "text": "Denmark (1.5hr)",
         "type": "scattergeo"
        },
        {
         "hoverinfo": "lon+lat+text",
         "lat": [
          18.735692999999998
         ],
         "lon": [
          -70.162651
         ],
         "marker": {
          "color": "#2c7bb6",
          "size": 6,
          "sizemode": "area"
         },
         "name": null,
         "showlegend": false,
         "text": "Dominican Republic (1.5hr)",
         "type": "scattergeo"
        },
        {
         "hoverinfo": "lon+lat+text",
         "lat": [
          -1.8312389999999998
         ],
         "lon": [
          -78.183406
         ],
         "marker": {
          "color": "#2c7bb6",
          "size": 6,
          "sizemode": "area"
         },
         "name": null,
         "showlegend": false,
         "text": "Ecuador (1.5hr)",
         "type": "scattergeo"
        },
        {
         "hoverinfo": "lon+lat+text",
         "lat": [
          26.820553000000004
         ],
         "lon": [
          30.802497999999996
         ],
         "marker": {
          "color": "#8a5cd1",
          "size": 6,
          "sizemode": "area"
         },
         "name": null,
         "showlegend": false,
         "text": "Egypt (1.7hr)",
         "type": "scattergeo"
        },
        {
         "hoverinfo": "lon+lat+text",
         "lat": [
          58.595271999999994
         ],
         "lon": [
          25.013607
         ],
         "marker": {
          "color": "#2c7bb6",
          "size": 6,
          "sizemode": "area"
         },
         "name": null,
         "showlegend": false,
         "text": "Estonia (1.5hr)",
         "type": "scattergeo"
        },
        {
         "hoverinfo": "lon+lat+text",
         "lat": [
          null
         ],
         "lon": [
          null
         ],
         "marker": {
          "color": "#8a5cd1",
          "size": 6,
          "sizemode": "area"
         },
         "name": null,
         "showlegend": false,
         "text": "Federal Republic of Yugoslavia (1.6hr)",
         "type": "scattergeo"
        },
        {
         "hoverinfo": "lon+lat+text",
         "lat": [
          61.92411
         ],
         "lon": [
          25.748151
         ],
         "marker": {
          "color": "#2c7bb6",
          "size": 6,
          "sizemode": "area"
         },
         "name": null,
         "showlegend": false,
         "text": "Finland (1.5hr)",
         "type": "scattergeo"
        },
        {
         "hoverinfo": "lon+lat+text",
         "lat": [
          46.227638
         ],
         "lon": [
          2.213749
         ],
         "marker": {
          "color": "#2c7bb6",
          "size": 6,
          "sizemode": "area"
         },
         "name": null,
         "showlegend": false,
         "text": "France (1.6hr)",
         "type": "scattergeo"
        },
        {
         "hoverinfo": "lon+lat+text",
         "lat": [
          42.315407
         ],
         "lon": [
          43.356891999999995
         ],
         "marker": {
          "color": "#2c7bb6",
          "size": 6,
          "sizemode": "area"
         },
         "name": null,
         "showlegend": false,
         "text": "Georgia (1.6hr)",
         "type": "scattergeo"
        },
        {
         "hoverinfo": "lon+lat+text",
         "lat": [
          51.165690999999995
         ],
         "lon": [
          10.451526
         ],
         "marker": {
          "color": "#2c7bb6",
          "size": 6,
          "sizemode": "area"
         },
         "name": null,
         "showlegend": false,
         "text": "Germany (1.5hr)",
         "type": "scattergeo"
        },
        {
         "hoverinfo": "lon+lat+text",
         "lat": [
          39.074208
         ],
         "lon": [
          21.824312
         ],
         "marker": {
          "color": "#2c7bb6",
          "size": 6,
          "sizemode": "area"
         },
         "name": null,
         "showlegend": false,
         "text": "Greece (1.5hr)",
         "type": "scattergeo"
        },
        {
         "hoverinfo": "lon+lat+text",
         "lat": [
          22.396428
         ],
         "lon": [
          114.10949699999999
         ],
         "marker": {
          "color": "#8a5cd1",
          "size": 6,
          "sizemode": "area"
         },
         "name": null,
         "showlegend": false,
         "text": "Hong Kong (1.6hr)",
         "type": "scattergeo"
        },
        {
         "hoverinfo": "lon+lat+text",
         "lat": [
          47.162494
         ],
         "lon": [
          19.503304
         ],
         "marker": {
          "color": "#2c7bb6",
          "size": 6,
          "sizemode": "area"
         },
         "name": null,
         "showlegend": false,
         "text": "Hungary (1.5hr)",
         "type": "scattergeo"
        },
        {
         "hoverinfo": "lon+lat+text",
         "lat": [
          64.96305100000001
         ],
         "lon": [
          -19.020835
         ],
         "marker": {
          "color": "#2c7bb6",
          "size": 6,
          "sizemode": "area"
         },
         "name": null,
         "showlegend": false,
         "text": "Iceland (1.5hr)",
         "type": "scattergeo"
        },
        {
         "hoverinfo": "lon+lat+text",
         "lat": [
          20.593684
         ],
         "lon": [
          78.96288
         ],
         "marker": {
          "color": "#d7191c",
          "size": 6,
          "sizemode": "area"
         },
         "name": null,
         "showlegend": false,
         "text": "India (2.2hr)",
         "type": "scattergeo"
        },
        {
         "hoverinfo": "lon+lat+text",
         "lat": [
          -0.789275
         ],
         "lon": [
          113.921327
         ],
         "marker": {
          "color": "#2c7bb6",
          "size": 6,
          "sizemode": "area"
         },
         "name": null,
         "showlegend": false,
         "text": "Indonesia (1.6hr)",
         "type": "scattergeo"
        },
        {
         "hoverinfo": "lon+lat+text",
         "lat": [
          32.427908
         ],
         "lon": [
          53.68804599999999
         ],
         "marker": {
          "color": "#2c7bb6",
          "size": 6,
          "sizemode": "area"
         },
         "name": null,
         "showlegend": false,
         "text": "Iran (1.5hr)",
         "type": "scattergeo"
        },
        {
         "hoverinfo": "lon+lat+text",
         "lat": [
          33.223191
         ],
         "lon": [
          43.679291
         ],
         "marker": {
          "color": "#2c7bb6",
          "size": 6,
          "sizemode": "area"
         },
         "name": null,
         "showlegend": false,
         "text": "Iraq (1.5hr)",
         "type": "scattergeo"
        },
        {
         "hoverinfo": "lon+lat+text",
         "lat": [
          53.41291
         ],
         "lon": [
          -8.243889999999999
         ],
         "marker": {
          "color": "#2c7bb6",
          "size": 6,
          "sizemode": "area"
         },
         "name": null,
         "showlegend": false,
         "text": "Ireland (1.5hr)",
         "type": "scattergeo"
        },
        {
         "hoverinfo": "lon+lat+text",
         "lat": [
          31.046051000000002
         ],
         "lon": [
          34.851612
         ],
         "marker": {
          "color": "#2c7bb6",
          "size": 6,
          "sizemode": "area"
         },
         "name": null,
         "showlegend": false,
         "text": "Israel (1.5hr)",
         "type": "scattergeo"
        },
        {
         "hoverinfo": "lon+lat+text",
         "lat": [
          41.87194
         ],
         "lon": [
          12.56738
         ],
         "marker": {
          "color": "#2c7bb6",
          "size": 6,
          "sizemode": "area"
         },
         "name": null,
         "showlegend": false,
         "text": "Italy (1.5hr)",
         "type": "scattergeo"
        },
        {
         "hoverinfo": "lon+lat+text",
         "lat": [
          36.204824
         ],
         "lon": [
          138.252924
         ],
         "marker": {
          "color": "#8a5cd1",
          "size": 6,
          "sizemode": "area"
         },
         "name": null,
         "showlegend": false,
         "text": "Japan (1.6hr)",
         "type": "scattergeo"
        },
        {
         "hoverinfo": "lon+lat+text",
         "lat": [
          48.019573
         ],
         "lon": [
          66.923684
         ],
         "marker": {
          "color": "#2c7bb6",
          "size": 6,
          "sizemode": "area"
         },
         "name": null,
         "showlegend": false,
         "text": "Kazakhstan (1.5hr)",
         "type": "scattergeo"
        },
        {
         "hoverinfo": "lon+lat+text",
         "lat": [
          56.879635
         ],
         "lon": [
          24.603189
         ],
         "marker": {
          "color": "#2c7bb6",
          "size": 6,
          "sizemode": "area"
         },
         "name": null,
         "showlegend": false,
         "text": "Latvia (1.6hr)",
         "type": "scattergeo"
        },
        {
         "hoverinfo": "lon+lat+text",
         "lat": [
          33.854721000000005
         ],
         "lon": [
          35.862285
         ],
         "marker": {
          "color": "#2c7bb6",
          "size": 6,
          "sizemode": "area"
         },
         "name": null,
         "showlegend": false,
         "text": "Lebanon (1.5hr)",
         "type": "scattergeo"
        },
        {
         "hoverinfo": "lon+lat+text",
         "lat": [
          55.169438
         ],
         "lon": [
          23.881275
         ],
         "marker": {
          "color": "#2c7bb6",
          "size": 6,
          "sizemode": "area"
         },
         "name": null,
         "showlegend": false,
         "text": "Lithuania (1.6hr)",
         "type": "scattergeo"
        },
        {
         "hoverinfo": "lon+lat+text",
         "lat": [
          49.815273
         ],
         "lon": [
          6.129583
         ],
         "marker": {
          "color": "#2c7bb6",
          "size": 6,
          "sizemode": "area"
         },
         "name": null,
         "showlegend": false,
         "text": "Luxembourg (1.5hr)",
         "type": "scattergeo"
        },
        {
         "hoverinfo": "lon+lat+text",
         "lat": [
          4.210483999999999
         ],
         "lon": [
          101.97576600000001
         ],
         "marker": {
          "color": "#8a5cd1",
          "size": 6,
          "sizemode": "area"
         },
         "name": null,
         "showlegend": false,
         "text": "Malaysia (1.6hr)",
         "type": "scattergeo"
        },
        {
         "hoverinfo": "lon+lat+text",
         "lat": [
          23.634501
         ],
         "lon": [
          -102.552784
         ],
         "marker": {
          "color": "#2c7bb6",
          "size": 6,
          "sizemode": "area"
         },
         "name": null,
         "showlegend": false,
         "text": "Mexico (1.5hr)",
         "type": "scattergeo"
        },
        {
         "hoverinfo": "lon+lat+text",
         "lat": [
          31.791702
         ],
         "lon": [
          -7.09262
         ],
         "marker": {
          "color": "#8a5cd1",
          "size": 6,
          "sizemode": "area"
         },
         "name": null,
         "showlegend": false,
         "text": "Morocco (1.6hr)",
         "type": "scattergeo"
        },
        {
         "hoverinfo": "lon+lat+text",
         "lat": [
          28.394857000000002
         ],
         "lon": [
          84.12400799999999
         ],
         "marker": {
          "color": "#fdae61",
          "size": 6,
          "sizemode": "area"
         },
         "name": "1.8 - 2.0 hr",
         "showlegend": true,
         "text": "Nepal (1.9hr)",
         "type": "scattergeo"
        },
        {
         "hoverinfo": "lon+lat+text",
         "lat": [
          52.132633
         ],
         "lon": [
          5.291266
         ],
         "marker": {
          "color": "#2c7bb6",
          "size": 6,
          "sizemode": "area"
         },
         "name": null,
         "showlegend": false,
         "text": "Netherlands (1.5hr)",
         "type": "scattergeo"
        },
        {
         "hoverinfo": "lon+lat+text",
         "lat": [
          -40.900557
         ],
         "lon": [
          174.88597099999998
         ],
         "marker": {
          "color": "#2c7bb6",
          "size": 6,
          "sizemode": "area"
         },
         "name": null,
         "showlegend": false,
         "text": "New Zealand (1.5hr)",
         "type": "scattergeo"
        },
        {
         "hoverinfo": "lon+lat+text",
         "lat": [
          9.081999
         ],
         "lon": [
          8.675277000000001
         ],
         "marker": {
          "color": "#8a5cd1",
          "size": 6,
          "sizemode": "area"
         },
         "name": "1.6 - 1.8 hr",
         "showlegend": true,
         "text": "Nigeria (1.6hr)",
         "type": "scattergeo"
        },
        {
         "hoverinfo": "lon+lat+text",
         "lat": [
          60.472024
         ],
         "lon": [
          8.468946
         ],
         "marker": {
          "color": "#2c7bb6",
          "size": 6,
          "sizemode": "area"
         },
         "name": "1.4 - 1.6 hr",
         "showlegend": true,
         "text": "Norway (1.5hr)",
         "type": "scattergeo"
        },
        {
         "hoverinfo": "lon+lat+text",
         "lat": [
          null
         ],
         "lon": [
          null
         ],
         "marker": {
          "color": "#2c7bb6",
          "size": 6,
          "sizemode": "area"
         },
         "name": null,
         "showlegend": false,
         "text": "Occupied Palestinian Territory (1.4hr)",
         "type": "scattergeo"
        },
        {
         "hoverinfo": "lon+lat+text",
         "lat": [
          30.375321000000003
         ],
         "lon": [
          69.345116
         ],
         "marker": {
          "color": "#fdae61",
          "size": 6,
          "sizemode": "area"
         },
         "name": null,
         "showlegend": false,
         "text": "Pakistan (2.0hr)",
         "type": "scattergeo"
        },
        {
         "hoverinfo": "lon+lat+text",
         "lat": [
          -9.189967
         ],
         "lon": [
          -75.015152
         ],
         "marker": {
          "color": "#2c7bb6",
          "size": 6,
          "sizemode": "area"
         },
         "name": null,
         "showlegend": false,
         "text": "Peru (1.5hr)",
         "type": "scattergeo"
        },
        {
         "hoverinfo": "lon+lat+text",
         "lat": [
          12.879721
         ],
         "lon": [
          121.77401699999999
         ],
         "marker": {
          "color": "#8a5cd1",
          "size": 6,
          "sizemode": "area"
         },
         "name": null,
         "showlegend": false,
         "text": "Philippines (1.7hr)",
         "type": "scattergeo"
        },
        {
         "hoverinfo": "lon+lat+text",
         "lat": [
          51.919438
         ],
         "lon": [
          19.145135999999997
         ],
         "marker": {
          "color": "#2c7bb6",
          "size": 6,
          "sizemode": "area"
         },
         "name": null,
         "showlegend": false,
         "text": "Poland (1.6hr)",
         "type": "scattergeo"
        },
        {
         "hoverinfo": "lon+lat+text",
         "lat": [
          39.399871999999995
         ],
         "lon": [
          -8.224454
         ],
         "marker": {
          "color": "#2c7bb6",
          "size": 6,
          "sizemode": "area"
         },
         "name": null,
         "showlegend": false,
         "text": "Portugal (1.6hr)",
         "type": "scattergeo"
        },
        {
         "hoverinfo": "lon+lat+text",
         "lat": [
          18.220833
         ],
         "lon": [
          -66.590149
         ],
         "marker": {
          "color": "#2c7bb6",
          "size": 6,
          "sizemode": "area"
         },
         "name": null,
         "showlegend": false,
         "text": "Puerto Rico (1.5hr)",
         "type": "scattergeo"
        },
        {
         "hoverinfo": "lon+lat+text",
         "lat": [
          45.943160999999996
         ],
         "lon": [
          24.96676
         ],
         "marker": {
          "color": "#2c7bb6",
          "size": 6,
          "sizemode": "area"
         },
         "name": null,
         "showlegend": false,
         "text": "Romania (1.6hr)",
         "type": "scattergeo"
        },
        {
         "hoverinfo": "lon+lat+text",
         "lat": [
          61.52401
         ],
         "lon": [
          105.31875600000001
         ],
         "marker": {
          "color": "#2c7bb6",
          "size": 6,
          "sizemode": "area"
         },
         "name": null,
         "showlegend": false,
         "text": "Russia (1.6hr)",
         "type": "scattergeo"
        },
        {
         "hoverinfo": "lon+lat+text",
         "lat": [
          44.016521000000004
         ],
         "lon": [
          21.005859
         ],
         "marker": {
          "color": "#2c7bb6",
          "size": 6,
          "sizemode": "area"
         },
         "name": null,
         "showlegend": false,
         "text": "Serbia (1.6hr)",
         "type": "scattergeo"
        },
        {
         "hoverinfo": "lon+lat+text",
         "lat": [
          1.352083
         ],
         "lon": [
          103.819836
         ],
         "marker": {
          "color": "#2c7bb6",
          "size": 6,
          "sizemode": "area"
         },
         "name": null,
         "showlegend": false,
         "text": "Singapore (1.6hr)",
         "type": "scattergeo"
        },
        {
         "hoverinfo": "lon+lat+text",
         "lat": [
          48.669026
         ],
         "lon": [
          19.699023999999998
         ],
         "marker": {
          "color": "#2c7bb6",
          "size": 6,
          "sizemode": "area"
         },
         "name": null,
         "showlegend": false,
         "text": "Slovakia (1.5hr)",
         "type": "scattergeo"
        },
        {
         "hoverinfo": "lon+lat+text",
         "lat": [
          46.151241
         ],
         "lon": [
          14.995463
         ],
         "marker": {
          "color": "#2c7bb6",
          "size": 6,
          "sizemode": "area"
         },
         "name": null,
         "showlegend": false,
         "text": "Slovenia (1.5hr)",
         "type": "scattergeo"
        },
        {
         "hoverinfo": "lon+lat+text",
         "lat": [
          -30.559482
         ],
         "lon": [
          22.937506
         ],
         "marker": {
          "color": "#2c7bb6",
          "size": 6,
          "sizemode": "area"
         },
         "name": null,
         "showlegend": false,
         "text": "South Africa (1.6hr)",
         "type": "scattergeo"
        },
        {
         "hoverinfo": "lon+lat+text",
         "lat": [
          35.907757000000004
         ],
         "lon": [
          127.766922
         ],
         "marker": {
          "color": "#8a5cd1",
          "size": 6,
          "sizemode": "area"
         },
         "name": null,
         "showlegend": false,
         "text": "South Korea (1.7hr)",
         "type": "scattergeo"
        },
        {
         "hoverinfo": "lon+lat+text",
         "lat": [
          null
         ],
         "lon": [
          null
         ],
         "marker": {
          "color": "#8a5cd1",
          "size": 6,
          "sizemode": "area"
         },
         "name": null,
         "showlegend": false,
         "text": "Soviet Union (1.6hr)",
         "type": "scattergeo"
        },
        {
         "hoverinfo": "lon+lat+text",
         "lat": [
          40.463667
         ],
         "lon": [
          -3.7492199999999998
         ],
         "marker": {
          "color": "#2c7bb6",
          "size": 6,
          "sizemode": "area"
         },
         "name": null,
         "showlegend": false,
         "text": "Spain (1.5hr)",
         "type": "scattergeo"
        },
        {
         "hoverinfo": "lon+lat+text",
         "lat": [
          7.873054
         ],
         "lon": [
          80.77179699999999
         ],
         "marker": {
          "color": "#8a5cd1",
          "size": 6,
          "sizemode": "area"
         },
         "name": null,
         "showlegend": false,
         "text": "Sri Lanka (1.8hr)",
         "type": "scattergeo"
        },
        {
         "hoverinfo": "lon+lat+text",
         "lat": [
          60.128161
         ],
         "lon": [
          18.643501
         ],
         "marker": {
          "color": "#2c7bb6",
          "size": 6,
          "sizemode": "area"
         },
         "name": null,
         "showlegend": false,
         "text": "Sweden (1.6hr)",
         "type": "scattergeo"
        },
        {
         "hoverinfo": "lon+lat+text",
         "lat": [
          46.818188
         ],
         "lon": [
          8.227511999999999
         ],
         "marker": {
          "color": "#2c7bb6",
          "size": 6,
          "sizemode": "area"
         },
         "name": null,
         "showlegend": false,
         "text": "Switzerland (1.5hr)",
         "type": "scattergeo"
        },
        {
         "hoverinfo": "lon+lat+text",
         "lat": [
          23.69781
         ],
         "lon": [
          120.96051499999999
         ],
         "marker": {
          "color": "#8a5cd1",
          "size": 6,
          "sizemode": "area"
         },
         "name": null,
         "showlegend": false,
         "text": "Taiwan (1.7hr)",
         "type": "scattergeo"
        },
        {
         "hoverinfo": "lon+lat+text",
         "lat": [
          15.870032
         ],
         "lon": [
          100.992541
         ],
         "marker": {
          "color": "#8a5cd1",
          "size": 6,
          "sizemode": "area"
         },
         "name": null,
         "showlegend": false,
         "text": "Thailand (1.7hr)",
         "type": "scattergeo"
        },
        {
         "hoverinfo": "lon+lat+text",
         "lat": [
          38.963745
         ],
         "lon": [
          35.243322
         ],
         "marker": {
          "color": "#8a5cd1",
          "size": 6,
          "sizemode": "area"
         },
         "name": null,
         "showlegend": false,
         "text": "Turkey (1.6hr)",
         "type": "scattergeo"
        },
        {
         "hoverinfo": "lon+lat+text",
         "lat": [
          55.378051
         ],
         "lon": [
          -3.435973
         ],
         "marker": {
          "color": "#2c7bb6",
          "size": 6,
          "sizemode": "area"
         },
         "name": null,
         "showlegend": false,
         "text": "UK (1.6hr)",
         "type": "scattergeo"
        },
        {
         "hoverinfo": "lon+lat+text",
         "lat": [
          37.09024
         ],
         "lon": [
          -95.712891
         ],
         "marker": {
          "color": "#2c7bb6",
          "size": 6,
          "sizemode": "area"
         },
         "name": null,
         "showlegend": false,
         "text": "USA (1.5hr)",
         "type": "scattergeo"
        },
        {
         "hoverinfo": "lon+lat+text",
         "lat": [
          48.379433
         ],
         "lon": [
          31.16558
         ],
         "marker": {
          "color": "#2c7bb6",
          "size": 6,
          "sizemode": "area"
         },
         "name": null,
         "showlegend": false,
         "text": "Ukraine (1.6hr)",
         "type": "scattergeo"
        },
        {
         "hoverinfo": "lon+lat+text",
         "lat": [
          23.424076
         ],
         "lon": [
          53.847818000000004
         ],
         "marker": {
          "color": "#2c7bb6",
          "size": 6,
          "sizemode": "area"
         },
         "name": null,
         "showlegend": false,
         "text": "United Arab Emirates (1.5hr)",
         "type": "scattergeo"
        },
        {
         "hoverinfo": "lon+lat+text",
         "lat": [
          -32.522779
         ],
         "lon": [
          -55.765834999999996
         ],
         "marker": {
          "color": "#2c7bb6",
          "size": 6,
          "sizemode": "area"
         },
         "name": null,
         "showlegend": false,
         "text": "Uruguay (1.5hr)",
         "type": "scattergeo"
        },
        {
         "hoverinfo": "lon+lat+text",
         "lat": [
          6.42375
         ],
         "lon": [
          -66.58973
         ],
         "marker": {
          "color": "#8a5cd1",
          "size": 6,
          "sizemode": "area"
         },
         "name": null,
         "showlegend": false,
         "text": "Venezuela (1.6hr)",
         "type": "scattergeo"
        },
        {
         "hoverinfo": "lon+lat+text",
         "lat": [
          14.058323999999999
         ],
         "lon": [
          108.277199
         ],
         "marker": {
          "color": "#8a5cd1",
          "size": 6,
          "sizemode": "area"
         },
         "name": null,
         "showlegend": false,
         "text": "Vietnam (1.6hr)",
         "type": "scattergeo"
        }
       ],
       "layout": {
        "geo": {
         "countrycolor": "rgb(255, 255, 255)",
         "countrywidth": 0.1,
         "landcolor": "#292727",
         "projection": {
          "type": "natural earth"
         },
         "showcountries": true,
         "showland": true
        },
        "height": 500,
        "legend": {
         "font": {
          "size": 15
         },
         "x": 0.95
        },
        "margin": {
         "b": 0,
         "l": 10,
         "pad": 0,
         "r": 0,
         "t": 30
        },
        "title": "Average movie run-time by country",
        "width": 1000
       }
      },
      "text/html": [
       "<div id=\"663cbace-23a1-4290-bc6b-96b9138b8933\" style=\"height: 500px; width: 1000px;\" class=\"plotly-graph-div\"></div><script type=\"text/javascript\">require([\"plotly\"], function(Plotly) { window.PLOTLYENV=window.PLOTLYENV || {};window.PLOTLYENV.BASE_URL=\"https://plot.ly\";Plotly.newPlot(\"663cbace-23a1-4290-bc6b-96b9138b8933\", [{\"type\": \"scattergeo\", \"lon\": [1.6596259999999998], \"lat\": [28.033886], \"text\": \"Algeria (1.6hr)\", \"hoverinfo\": \"lon+lat+text\", \"marker\": {\"size\": 6, \"color\": \"#8a5cd1\", \"sizemode\": \"area\"}, \"name\": null, \"showlegend\": false}, {\"type\": \"scattergeo\", \"lon\": [-63.616671999999994], \"lat\": [-38.416097], \"text\": \"Argentina (1.5hr)\", \"hoverinfo\": \"lon+lat+text\", \"marker\": {\"size\": 6, \"color\": \"#2c7bb6\", \"sizemode\": \"area\"}, \"name\": null, \"showlegend\": false}, {\"type\": \"scattergeo\", \"lon\": [45.038189], \"lat\": [40.069099], \"text\": \"Armenia (1.5hr)\", \"hoverinfo\": \"lon+lat+text\", \"marker\": {\"size\": 6, \"color\": \"#2c7bb6\", \"sizemode\": \"area\"}, \"name\": null, \"showlegend\": false}, {\"type\": \"scattergeo\", \"lon\": [133.775136], \"lat\": [-25.274398], \"text\": \"Australia (1.5hr)\", \"hoverinfo\": \"lon+lat+text\", \"marker\": {\"size\": 6, \"color\": \"#2c7bb6\", \"sizemode\": \"area\"}, \"name\": null, \"showlegend\": false}, {\"type\": \"scattergeo\", \"lon\": [14.550072], \"lat\": [47.516231], \"text\": \"Austria (1.5hr)\", \"hoverinfo\": \"lon+lat+text\", \"marker\": {\"size\": 6, \"color\": \"#2c7bb6\", \"sizemode\": \"area\"}, \"name\": null, \"showlegend\": false}, {\"type\": \"scattergeo\", \"lon\": [47.576927000000005], \"lat\": [40.143105], \"text\": \"Azerbaijan (1.5hr)\", \"hoverinfo\": \"lon+lat+text\", \"marker\": {\"size\": 6, \"color\": \"#2c7bb6\", \"sizemode\": \"area\"}, \"name\": null, \"showlegend\": false}, {\"type\": \"scattergeo\", \"lon\": [90.35633100000001], \"lat\": [23.684994], \"text\": \"Bangladesh (2.2hr)\", \"hoverinfo\": \"lon+lat+text\", \"marker\": {\"size\": 6, \"color\": \"#d7191c\", \"sizemode\": \"area\"}, \"name\": \"2.0 - 2.2 hr\", \"showlegend\": true}, {\"type\": \"scattergeo\", \"lon\": [27.953389], \"lat\": [53.709807], \"text\": \"Belarus (1.5hr)\", \"hoverinfo\": \"lon+lat+text\", \"marker\": {\"size\": 6, \"color\": \"#2c7bb6\", \"sizemode\": \"area\"}, \"name\": null, \"showlegend\": false}, {\"type\": \"scattergeo\", \"lon\": [4.469936], \"lat\": [50.503887], \"text\": \"Belgium (1.5hr)\", \"hoverinfo\": \"lon+lat+text\", \"marker\": {\"size\": 6, \"color\": \"#2c7bb6\", \"sizemode\": \"area\"}, \"name\": null, \"showlegend\": false}, {\"type\": \"scattergeo\", \"lon\": [-63.588653], \"lat\": [-16.290154], \"text\": \"Bolivia (1.6hr)\", \"hoverinfo\": \"lon+lat+text\", \"marker\": {\"size\": 6, \"color\": \"#2c7bb6\", \"sizemode\": \"area\"}, \"name\": null, \"showlegend\": false}, {\"type\": \"scattergeo\", \"lon\": [17.679076000000002], \"lat\": [43.915886], \"text\": \"Bosnia and Herzegovina (1.4hr)\", \"hoverinfo\": \"lon+lat+text\", \"marker\": {\"size\": 6, \"color\": \"#2c7bb6\", \"sizemode\": \"area\"}, \"name\": null, \"showlegend\": false}, {\"type\": \"scattergeo\", \"lon\": [-51.92528], \"lat\": [-14.235004], \"text\": \"Brazil (1.5hr)\", \"hoverinfo\": \"lon+lat+text\", \"marker\": {\"size\": 6, \"color\": \"#2c7bb6\", \"sizemode\": \"area\"}, \"name\": null, \"showlegend\": false}, {\"type\": \"scattergeo\", \"lon\": [25.48583], \"lat\": [42.733883], \"text\": \"Bulgaria (1.6hr)\", \"hoverinfo\": \"lon+lat+text\", \"marker\": {\"size\": 6, \"color\": \"#2c7bb6\", \"sizemode\": \"area\"}, \"name\": null, \"showlegend\": false}, {\"type\": \"scattergeo\", \"lon\": [-106.34677099999999], \"lat\": [56.130366], \"text\": \"Canada (1.5hr)\", \"hoverinfo\": \"lon+lat+text\", \"marker\": {\"size\": 6, \"color\": \"#2c7bb6\", \"sizemode\": \"area\"}, \"name\": null, \"showlegend\": false}, {\"type\": \"scattergeo\", \"lon\": [-71.542969], \"lat\": [-35.675146999999996], \"text\": \"Chile (1.5hr)\", \"hoverinfo\": \"lon+lat+text\", \"marker\": {\"size\": 6, \"color\": \"#2c7bb6\", \"sizemode\": \"area\"}, \"name\": null, \"showlegend\": false}, {\"type\": \"scattergeo\", \"lon\": [104.195397], \"lat\": [35.86166], \"text\": \"China (1.6hr)\", \"hoverinfo\": \"lon+lat+text\", \"marker\": {\"size\": 6, \"color\": \"#8a5cd1\", \"sizemode\": \"area\"}, \"name\": null, \"showlegend\": false}, {\"type\": \"scattergeo\", \"lon\": [-74.297333], \"lat\": [4.570868], \"text\": \"Colombia (1.5hr)\", \"hoverinfo\": \"lon+lat+text\", \"marker\": {\"size\": 6, \"color\": \"#2c7bb6\", \"sizemode\": \"area\"}, \"name\": null, \"showlegend\": false}, {\"type\": \"scattergeo\", \"lon\": [-83.753428], \"lat\": [9.748917], \"text\": \"Costa Rica (1.4hr)\", \"hoverinfo\": \"lon+lat+text\", \"marker\": {\"size\": 6, \"color\": \"#2c7bb6\", \"sizemode\": \"area\"}, \"name\": null, \"showlegend\": false}, {\"type\": \"scattergeo\", \"lon\": [15.2], \"lat\": [45.1], \"text\": \"Croatia (1.5hr)\", \"hoverinfo\": \"lon+lat+text\", \"marker\": {\"size\": 6, \"color\": \"#2c7bb6\", \"sizemode\": \"area\"}, \"name\": null, \"showlegend\": false}, {\"type\": \"scattergeo\", \"lon\": [-77.78116700000001], \"lat\": [21.521757], \"text\": \"Cuba (1.5hr)\", \"hoverinfo\": \"lon+lat+text\", \"marker\": {\"size\": 6, \"color\": \"#2c7bb6\", \"sizemode\": \"area\"}, \"name\": null, \"showlegend\": false}, {\"type\": \"scattergeo\", \"lon\": [33.429859], \"lat\": [35.126413], \"text\": \"Cyprus (1.5hr)\", \"hoverinfo\": \"lon+lat+text\", \"marker\": {\"size\": 6, \"color\": \"#2c7bb6\", \"sizemode\": \"area\"}, \"name\": null, \"showlegend\": false}, {\"type\": \"scattergeo\", \"lon\": [15.472961999999999], \"lat\": [49.817492], \"text\": \"Czech Republic (1.6hr)\", \"hoverinfo\": \"lon+lat+text\", \"marker\": {\"size\": 6, \"color\": \"#2c7bb6\", \"sizemode\": \"area\"}, \"name\": null, \"showlegend\": false}, {\"type\": \"scattergeo\", \"lon\": [null], \"lat\": [null], \"text\": \"Czechoslovakia (1.6hr)\", \"hoverinfo\": \"lon+lat+text\", \"marker\": {\"size\": 6, \"color\": \"#2c7bb6\", \"sizemode\": \"area\"}, \"name\": null, \"showlegend\": false}, {\"type\": \"scattergeo\", \"lon\": [9.501785], \"lat\": [56.26392], \"text\": \"Denmark (1.5hr)\", \"hoverinfo\": \"lon+lat+text\", \"marker\": {\"size\": 6, \"color\": \"#2c7bb6\", \"sizemode\": \"area\"}, \"name\": null, \"showlegend\": false}, {\"type\": \"scattergeo\", \"lon\": [-70.162651], \"lat\": [18.735692999999998], \"text\": \"Dominican Republic (1.5hr)\", \"hoverinfo\": \"lon+lat+text\", \"marker\": {\"size\": 6, \"color\": \"#2c7bb6\", \"sizemode\": \"area\"}, \"name\": null, \"showlegend\": false}, {\"type\": \"scattergeo\", \"lon\": [-78.183406], \"lat\": [-1.8312389999999998], \"text\": \"Ecuador (1.5hr)\", \"hoverinfo\": \"lon+lat+text\", \"marker\": {\"size\": 6, \"color\": \"#2c7bb6\", \"sizemode\": \"area\"}, \"name\": null, \"showlegend\": false}, {\"type\": \"scattergeo\", \"lon\": [30.802497999999996], \"lat\": [26.820553000000004], \"text\": \"Egypt (1.7hr)\", \"hoverinfo\": \"lon+lat+text\", \"marker\": {\"size\": 6, \"color\": \"#8a5cd1\", \"sizemode\": \"area\"}, \"name\": null, \"showlegend\": false}, {\"type\": \"scattergeo\", \"lon\": [25.013607], \"lat\": [58.595271999999994], \"text\": \"Estonia (1.5hr)\", \"hoverinfo\": \"lon+lat+text\", \"marker\": {\"size\": 6, \"color\": \"#2c7bb6\", \"sizemode\": \"area\"}, \"name\": null, \"showlegend\": false}, {\"type\": \"scattergeo\", \"lon\": [null], \"lat\": [null], \"text\": \"Federal Republic of Yugoslavia (1.6hr)\", \"hoverinfo\": \"lon+lat+text\", \"marker\": {\"size\": 6, \"color\": \"#8a5cd1\", \"sizemode\": \"area\"}, \"name\": null, \"showlegend\": false}, {\"type\": \"scattergeo\", \"lon\": [25.748151], \"lat\": [61.92411], \"text\": \"Finland (1.5hr)\", \"hoverinfo\": \"lon+lat+text\", \"marker\": {\"size\": 6, \"color\": \"#2c7bb6\", \"sizemode\": \"area\"}, \"name\": null, \"showlegend\": false}, {\"type\": \"scattergeo\", \"lon\": [2.213749], \"lat\": [46.227638], \"text\": \"France (1.6hr)\", \"hoverinfo\": \"lon+lat+text\", \"marker\": {\"size\": 6, \"color\": \"#2c7bb6\", \"sizemode\": \"area\"}, \"name\": null, \"showlegend\": false}, {\"type\": \"scattergeo\", \"lon\": [43.356891999999995], \"lat\": [42.315407], \"text\": \"Georgia (1.6hr)\", \"hoverinfo\": \"lon+lat+text\", \"marker\": {\"size\": 6, \"color\": \"#2c7bb6\", \"sizemode\": \"area\"}, \"name\": null, \"showlegend\": false}, {\"type\": \"scattergeo\", \"lon\": [10.451526], \"lat\": [51.165690999999995], \"text\": \"Germany (1.5hr)\", \"hoverinfo\": \"lon+lat+text\", \"marker\": {\"size\": 6, \"color\": \"#2c7bb6\", \"sizemode\": \"area\"}, \"name\": null, \"showlegend\": false}, {\"type\": \"scattergeo\", \"lon\": [21.824312], \"lat\": [39.074208], \"text\": \"Greece (1.5hr)\", \"hoverinfo\": \"lon+lat+text\", \"marker\": {\"size\": 6, \"color\": \"#2c7bb6\", \"sizemode\": \"area\"}, \"name\": null, \"showlegend\": false}, {\"type\": \"scattergeo\", \"lon\": [114.10949699999999], \"lat\": [22.396428], \"text\": \"Hong Kong (1.6hr)\", \"hoverinfo\": \"lon+lat+text\", \"marker\": {\"size\": 6, \"color\": \"#8a5cd1\", \"sizemode\": \"area\"}, \"name\": null, \"showlegend\": false}, {\"type\": \"scattergeo\", \"lon\": [19.503304], \"lat\": [47.162494], \"text\": \"Hungary (1.5hr)\", \"hoverinfo\": \"lon+lat+text\", \"marker\": {\"size\": 6, \"color\": \"#2c7bb6\", \"sizemode\": \"area\"}, \"name\": null, \"showlegend\": false}, {\"type\": \"scattergeo\", \"lon\": [-19.020835], \"lat\": [64.96305100000001], \"text\": \"Iceland (1.5hr)\", \"hoverinfo\": \"lon+lat+text\", \"marker\": {\"size\": 6, \"color\": \"#2c7bb6\", \"sizemode\": \"area\"}, \"name\": null, \"showlegend\": false}, {\"type\": \"scattergeo\", \"lon\": [78.96288], \"lat\": [20.593684], \"text\": \"India (2.2hr)\", \"hoverinfo\": \"lon+lat+text\", \"marker\": {\"size\": 6, \"color\": \"#d7191c\", \"sizemode\": \"area\"}, \"name\": null, \"showlegend\": false}, {\"type\": \"scattergeo\", \"lon\": [113.921327], \"lat\": [-0.789275], \"text\": \"Indonesia (1.6hr)\", \"hoverinfo\": \"lon+lat+text\", \"marker\": {\"size\": 6, \"color\": \"#2c7bb6\", \"sizemode\": \"area\"}, \"name\": null, \"showlegend\": false}, {\"type\": \"scattergeo\", \"lon\": [53.68804599999999], \"lat\": [32.427908], \"text\": \"Iran (1.5hr)\", \"hoverinfo\": \"lon+lat+text\", \"marker\": {\"size\": 6, \"color\": \"#2c7bb6\", \"sizemode\": \"area\"}, \"name\": null, \"showlegend\": false}, {\"type\": \"scattergeo\", \"lon\": [43.679291], \"lat\": [33.223191], \"text\": \"Iraq (1.5hr)\", \"hoverinfo\": \"lon+lat+text\", \"marker\": {\"size\": 6, \"color\": \"#2c7bb6\", \"sizemode\": \"area\"}, \"name\": null, \"showlegend\": false}, {\"type\": \"scattergeo\", \"lon\": [-8.243889999999999], \"lat\": [53.41291], \"text\": \"Ireland (1.5hr)\", \"hoverinfo\": \"lon+lat+text\", \"marker\": {\"size\": 6, \"color\": \"#2c7bb6\", \"sizemode\": \"area\"}, \"name\": null, \"showlegend\": false}, {\"type\": \"scattergeo\", \"lon\": [34.851612], \"lat\": [31.046051000000002], \"text\": \"Israel (1.5hr)\", \"hoverinfo\": \"lon+lat+text\", \"marker\": {\"size\": 6, \"color\": \"#2c7bb6\", \"sizemode\": \"area\"}, \"name\": null, \"showlegend\": false}, {\"type\": \"scattergeo\", \"lon\": [12.56738], \"lat\": [41.87194], \"text\": \"Italy (1.5hr)\", \"hoverinfo\": \"lon+lat+text\", \"marker\": {\"size\": 6, \"color\": \"#2c7bb6\", \"sizemode\": \"area\"}, \"name\": null, \"showlegend\": false}, {\"type\": \"scattergeo\", \"lon\": [138.252924], \"lat\": [36.204824], \"text\": \"Japan (1.6hr)\", \"hoverinfo\": \"lon+lat+text\", \"marker\": {\"size\": 6, \"color\": \"#8a5cd1\", \"sizemode\": \"area\"}, \"name\": null, \"showlegend\": false}, {\"type\": \"scattergeo\", \"lon\": [66.923684], \"lat\": [48.019573], \"text\": \"Kazakhstan (1.5hr)\", \"hoverinfo\": \"lon+lat+text\", \"marker\": {\"size\": 6, \"color\": \"#2c7bb6\", \"sizemode\": \"area\"}, \"name\": null, \"showlegend\": false}, {\"type\": \"scattergeo\", \"lon\": [24.603189], \"lat\": [56.879635], \"text\": \"Latvia (1.6hr)\", \"hoverinfo\": \"lon+lat+text\", \"marker\": {\"size\": 6, \"color\": \"#2c7bb6\", \"sizemode\": \"area\"}, \"name\": null, \"showlegend\": false}, {\"type\": \"scattergeo\", \"lon\": [35.862285], \"lat\": [33.854721000000005], \"text\": \"Lebanon (1.5hr)\", \"hoverinfo\": \"lon+lat+text\", \"marker\": {\"size\": 6, \"color\": \"#2c7bb6\", \"sizemode\": \"area\"}, \"name\": null, \"showlegend\": false}, {\"type\": \"scattergeo\", \"lon\": [23.881275], \"lat\": [55.169438], \"text\": \"Lithuania (1.6hr)\", \"hoverinfo\": \"lon+lat+text\", \"marker\": {\"size\": 6, \"color\": \"#2c7bb6\", \"sizemode\": \"area\"}, \"name\": null, \"showlegend\": false}, {\"type\": \"scattergeo\", \"lon\": [6.129583], \"lat\": [49.815273], \"text\": \"Luxembourg (1.5hr)\", \"hoverinfo\": \"lon+lat+text\", \"marker\": {\"size\": 6, \"color\": \"#2c7bb6\", \"sizemode\": \"area\"}, \"name\": null, \"showlegend\": false}, {\"type\": \"scattergeo\", \"lon\": [101.97576600000001], \"lat\": [4.210483999999999], \"text\": \"Malaysia (1.6hr)\", \"hoverinfo\": \"lon+lat+text\", \"marker\": {\"size\": 6, \"color\": \"#8a5cd1\", \"sizemode\": \"area\"}, \"name\": null, \"showlegend\": false}, {\"type\": \"scattergeo\", \"lon\": [-102.552784], \"lat\": [23.634501], \"text\": \"Mexico (1.5hr)\", \"hoverinfo\": \"lon+lat+text\", \"marker\": {\"size\": 6, \"color\": \"#2c7bb6\", \"sizemode\": \"area\"}, \"name\": null, \"showlegend\": false}, {\"type\": \"scattergeo\", \"lon\": [-7.09262], \"lat\": [31.791702], \"text\": \"Morocco (1.6hr)\", \"hoverinfo\": \"lon+lat+text\", \"marker\": {\"size\": 6, \"color\": \"#8a5cd1\", \"sizemode\": \"area\"}, \"name\": null, \"showlegend\": false}, {\"type\": \"scattergeo\", \"lon\": [84.12400799999999], \"lat\": [28.394857000000002], \"text\": \"Nepal (1.9hr)\", \"hoverinfo\": \"lon+lat+text\", \"marker\": {\"size\": 6, \"color\": \"#fdae61\", \"sizemode\": \"area\"}, \"name\": \"1.8 - 2.0 hr\", \"showlegend\": true}, {\"type\": \"scattergeo\", \"lon\": [5.291266], \"lat\": [52.132633], \"text\": \"Netherlands (1.5hr)\", \"hoverinfo\": \"lon+lat+text\", \"marker\": {\"size\": 6, \"color\": \"#2c7bb6\", \"sizemode\": \"area\"}, \"name\": null, \"showlegend\": false}, {\"type\": \"scattergeo\", \"lon\": [174.88597099999998], \"lat\": [-40.900557], \"text\": \"New Zealand (1.5hr)\", \"hoverinfo\": \"lon+lat+text\", \"marker\": {\"size\": 6, \"color\": \"#2c7bb6\", \"sizemode\": \"area\"}, \"name\": null, \"showlegend\": false}, {\"type\": \"scattergeo\", \"lon\": [8.675277000000001], \"lat\": [9.081999], \"text\": \"Nigeria (1.6hr)\", \"hoverinfo\": \"lon+lat+text\", \"marker\": {\"size\": 6, \"color\": \"#8a5cd1\", \"sizemode\": \"area\"}, \"name\": \"1.6 - 1.8 hr\", \"showlegend\": true}, {\"type\": \"scattergeo\", \"lon\": [8.468946], \"lat\": [60.472024], \"text\": \"Norway (1.5hr)\", \"hoverinfo\": \"lon+lat+text\", \"marker\": {\"size\": 6, \"color\": \"#2c7bb6\", \"sizemode\": \"area\"}, \"name\": \"1.4 - 1.6 hr\", \"showlegend\": true}, {\"type\": \"scattergeo\", \"lon\": [null], \"lat\": [null], \"text\": \"Occupied Palestinian Territory (1.4hr)\", \"hoverinfo\": \"lon+lat+text\", \"marker\": {\"size\": 6, \"color\": \"#2c7bb6\", \"sizemode\": \"area\"}, \"name\": null, \"showlegend\": false}, {\"type\": \"scattergeo\", \"lon\": [69.345116], \"lat\": [30.375321000000003], \"text\": \"Pakistan (2.0hr)\", \"hoverinfo\": \"lon+lat+text\", \"marker\": {\"size\": 6, \"color\": \"#fdae61\", \"sizemode\": \"area\"}, \"name\": null, \"showlegend\": false}, {\"type\": \"scattergeo\", \"lon\": [-75.015152], \"lat\": [-9.189967], \"text\": \"Peru (1.5hr)\", \"hoverinfo\": \"lon+lat+text\", \"marker\": {\"size\": 6, \"color\": \"#2c7bb6\", \"sizemode\": \"area\"}, \"name\": null, \"showlegend\": false}, {\"type\": \"scattergeo\", \"lon\": [121.77401699999999], \"lat\": [12.879721], \"text\": \"Philippines (1.7hr)\", \"hoverinfo\": \"lon+lat+text\", \"marker\": {\"size\": 6, \"color\": \"#8a5cd1\", \"sizemode\": \"area\"}, \"name\": null, \"showlegend\": false}, {\"type\": \"scattergeo\", \"lon\": [19.145135999999997], \"lat\": [51.919438], \"text\": \"Poland (1.6hr)\", \"hoverinfo\": \"lon+lat+text\", \"marker\": {\"size\": 6, \"color\": \"#2c7bb6\", \"sizemode\": \"area\"}, \"name\": null, \"showlegend\": false}, {\"type\": \"scattergeo\", \"lon\": [-8.224454], \"lat\": [39.399871999999995], \"text\": \"Portugal (1.6hr)\", \"hoverinfo\": \"lon+lat+text\", \"marker\": {\"size\": 6, \"color\": \"#2c7bb6\", \"sizemode\": \"area\"}, \"name\": null, \"showlegend\": false}, {\"type\": \"scattergeo\", \"lon\": [-66.590149], \"lat\": [18.220833], \"text\": \"Puerto Rico (1.5hr)\", \"hoverinfo\": \"lon+lat+text\", \"marker\": {\"size\": 6, \"color\": \"#2c7bb6\", \"sizemode\": \"area\"}, \"name\": null, \"showlegend\": false}, {\"type\": \"scattergeo\", \"lon\": [24.96676], \"lat\": [45.943160999999996], \"text\": \"Romania (1.6hr)\", \"hoverinfo\": \"lon+lat+text\", \"marker\": {\"size\": 6, \"color\": \"#2c7bb6\", \"sizemode\": \"area\"}, \"name\": null, \"showlegend\": false}, {\"type\": \"scattergeo\", \"lon\": [105.31875600000001], \"lat\": [61.52401], \"text\": \"Russia (1.6hr)\", \"hoverinfo\": \"lon+lat+text\", \"marker\": {\"size\": 6, \"color\": \"#2c7bb6\", \"sizemode\": \"area\"}, \"name\": null, \"showlegend\": false}, {\"type\": \"scattergeo\", \"lon\": [21.005859], \"lat\": [44.016521000000004], \"text\": \"Serbia (1.6hr)\", \"hoverinfo\": \"lon+lat+text\", \"marker\": {\"size\": 6, \"color\": \"#2c7bb6\", \"sizemode\": \"area\"}, \"name\": null, \"showlegend\": false}, {\"type\": \"scattergeo\", \"lon\": [103.819836], \"lat\": [1.352083], \"text\": \"Singapore (1.6hr)\", \"hoverinfo\": \"lon+lat+text\", \"marker\": {\"size\": 6, \"color\": \"#2c7bb6\", \"sizemode\": \"area\"}, \"name\": null, \"showlegend\": false}, {\"type\": \"scattergeo\", \"lon\": [19.699023999999998], \"lat\": [48.669026], \"text\": \"Slovakia (1.5hr)\", \"hoverinfo\": \"lon+lat+text\", \"marker\": {\"size\": 6, \"color\": \"#2c7bb6\", \"sizemode\": \"area\"}, \"name\": null, \"showlegend\": false}, {\"type\": \"scattergeo\", \"lon\": [14.995463], \"lat\": [46.151241], \"text\": \"Slovenia (1.5hr)\", \"hoverinfo\": \"lon+lat+text\", \"marker\": {\"size\": 6, \"color\": \"#2c7bb6\", \"sizemode\": \"area\"}, \"name\": null, \"showlegend\": false}, {\"type\": \"scattergeo\", \"lon\": [22.937506], \"lat\": [-30.559482], \"text\": \"South Africa (1.6hr)\", \"hoverinfo\": \"lon+lat+text\", \"marker\": {\"size\": 6, \"color\": \"#2c7bb6\", \"sizemode\": \"area\"}, \"name\": null, \"showlegend\": false}, {\"type\": \"scattergeo\", \"lon\": [127.766922], \"lat\": [35.907757000000004], \"text\": \"South Korea (1.7hr)\", \"hoverinfo\": \"lon+lat+text\", \"marker\": {\"size\": 6, \"color\": \"#8a5cd1\", \"sizemode\": \"area\"}, \"name\": null, \"showlegend\": false}, {\"type\": \"scattergeo\", \"lon\": [null], \"lat\": [null], \"text\": \"Soviet Union (1.6hr)\", \"hoverinfo\": \"lon+lat+text\", \"marker\": {\"size\": 6, \"color\": \"#8a5cd1\", \"sizemode\": \"area\"}, \"name\": null, \"showlegend\": false}, {\"type\": \"scattergeo\", \"lon\": [-3.7492199999999998], \"lat\": [40.463667], \"text\": \"Spain (1.5hr)\", \"hoverinfo\": \"lon+lat+text\", \"marker\": {\"size\": 6, \"color\": \"#2c7bb6\", \"sizemode\": \"area\"}, \"name\": null, \"showlegend\": false}, {\"type\": \"scattergeo\", \"lon\": [80.77179699999999], \"lat\": [7.873054], \"text\": \"Sri Lanka (1.8hr)\", \"hoverinfo\": \"lon+lat+text\", \"marker\": {\"size\": 6, \"color\": \"#8a5cd1\", \"sizemode\": \"area\"}, \"name\": null, \"showlegend\": false}, {\"type\": \"scattergeo\", \"lon\": [18.643501], \"lat\": [60.128161], \"text\": \"Sweden (1.6hr)\", \"hoverinfo\": \"lon+lat+text\", \"marker\": {\"size\": 6, \"color\": \"#2c7bb6\", \"sizemode\": \"area\"}, \"name\": null, \"showlegend\": false}, {\"type\": \"scattergeo\", \"lon\": [8.227511999999999], \"lat\": [46.818188], \"text\": \"Switzerland (1.5hr)\", \"hoverinfo\": \"lon+lat+text\", \"marker\": {\"size\": 6, \"color\": \"#2c7bb6\", \"sizemode\": \"area\"}, \"name\": null, \"showlegend\": false}, {\"type\": \"scattergeo\", \"lon\": [120.96051499999999], \"lat\": [23.69781], \"text\": \"Taiwan (1.7hr)\", \"hoverinfo\": \"lon+lat+text\", \"marker\": {\"size\": 6, \"color\": \"#8a5cd1\", \"sizemode\": \"area\"}, \"name\": null, \"showlegend\": false}, {\"type\": \"scattergeo\", \"lon\": [100.992541], \"lat\": [15.870032], \"text\": \"Thailand (1.7hr)\", \"hoverinfo\": \"lon+lat+text\", \"marker\": {\"size\": 6, \"color\": \"#8a5cd1\", \"sizemode\": \"area\"}, \"name\": null, \"showlegend\": false}, {\"type\": \"scattergeo\", \"lon\": [35.243322], \"lat\": [38.963745], \"text\": \"Turkey (1.6hr)\", \"hoverinfo\": \"lon+lat+text\", \"marker\": {\"size\": 6, \"color\": \"#8a5cd1\", \"sizemode\": \"area\"}, \"name\": null, \"showlegend\": false}, {\"type\": \"scattergeo\", \"lon\": [-3.435973], \"lat\": [55.378051], \"text\": \"UK (1.6hr)\", \"hoverinfo\": \"lon+lat+text\", \"marker\": {\"size\": 6, \"color\": \"#2c7bb6\", \"sizemode\": \"area\"}, \"name\": null, \"showlegend\": false}, {\"type\": \"scattergeo\", \"lon\": [-95.712891], \"lat\": [37.09024], \"text\": \"USA (1.5hr)\", \"hoverinfo\": \"lon+lat+text\", \"marker\": {\"size\": 6, \"color\": \"#2c7bb6\", \"sizemode\": \"area\"}, \"name\": null, \"showlegend\": false}, {\"type\": \"scattergeo\", \"lon\": [31.16558], \"lat\": [48.379433], \"text\": \"Ukraine (1.6hr)\", \"hoverinfo\": \"lon+lat+text\", \"marker\": {\"size\": 6, \"color\": \"#2c7bb6\", \"sizemode\": \"area\"}, \"name\": null, \"showlegend\": false}, {\"type\": \"scattergeo\", \"lon\": [53.847818000000004], \"lat\": [23.424076], \"text\": \"United Arab Emirates (1.5hr)\", \"hoverinfo\": \"lon+lat+text\", \"marker\": {\"size\": 6, \"color\": \"#2c7bb6\", \"sizemode\": \"area\"}, \"name\": null, \"showlegend\": false}, {\"type\": \"scattergeo\", \"lon\": [-55.765834999999996], \"lat\": [-32.522779], \"text\": \"Uruguay (1.5hr)\", \"hoverinfo\": \"lon+lat+text\", \"marker\": {\"size\": 6, \"color\": \"#2c7bb6\", \"sizemode\": \"area\"}, \"name\": null, \"showlegend\": false}, {\"type\": \"scattergeo\", \"lon\": [-66.58973], \"lat\": [6.42375], \"text\": \"Venezuela (1.6hr)\", \"hoverinfo\": \"lon+lat+text\", \"marker\": {\"size\": 6, \"color\": \"#8a5cd1\", \"sizemode\": \"area\"}, \"name\": null, \"showlegend\": false}, {\"type\": \"scattergeo\", \"lon\": [108.277199], \"lat\": [14.058323999999999], \"text\": \"Vietnam (1.6hr)\", \"hoverinfo\": \"lon+lat+text\", \"marker\": {\"size\": 6, \"color\": \"#8a5cd1\", \"sizemode\": \"area\"}, \"name\": null, \"showlegend\": false}], {\"title\": \"Average movie run-time by country\", \"width\": 1000, \"height\": 500, \"geo\": {\"projection\": {\"type\": \"natural earth\"}, \"showland\": true, \"showcountries\": true, \"countrywidth\": 0.1, \"landcolor\": \"#292727\", \"countrycolor\": \"rgb(255, 255, 255)\"}, \"margin\": {\"r\": 0, \"l\": 10, \"b\": 0, \"t\": 30, \"pad\": 0}, \"legend\": {\"x\": 0.95, \"font\": {\"size\": 15}}}, {\"showLink\": true, \"linkText\": \"Export to plot.ly\"})});</script>"
      ],
      "text/vnd.plotly.v1+html": [
       "<div id=\"663cbace-23a1-4290-bc6b-96b9138b8933\" style=\"height: 500px; width: 1000px;\" class=\"plotly-graph-div\"></div><script type=\"text/javascript\">require([\"plotly\"], function(Plotly) { window.PLOTLYENV=window.PLOTLYENV || {};window.PLOTLYENV.BASE_URL=\"https://plot.ly\";Plotly.newPlot(\"663cbace-23a1-4290-bc6b-96b9138b8933\", [{\"type\": \"scattergeo\", \"lon\": [1.6596259999999998], \"lat\": [28.033886], \"text\": \"Algeria (1.6hr)\", \"hoverinfo\": \"lon+lat+text\", \"marker\": {\"size\": 6, \"color\": \"#8a5cd1\", \"sizemode\": \"area\"}, \"name\": null, \"showlegend\": false}, {\"type\": \"scattergeo\", \"lon\": [-63.616671999999994], \"lat\": [-38.416097], \"text\": \"Argentina (1.5hr)\", \"hoverinfo\": \"lon+lat+text\", \"marker\": {\"size\": 6, \"color\": \"#2c7bb6\", \"sizemode\": \"area\"}, \"name\": null, \"showlegend\": false}, {\"type\": \"scattergeo\", \"lon\": [45.038189], \"lat\": [40.069099], \"text\": \"Armenia (1.5hr)\", \"hoverinfo\": \"lon+lat+text\", \"marker\": {\"size\": 6, \"color\": \"#2c7bb6\", \"sizemode\": \"area\"}, \"name\": null, \"showlegend\": false}, {\"type\": \"scattergeo\", \"lon\": [133.775136], \"lat\": [-25.274398], \"text\": \"Australia (1.5hr)\", \"hoverinfo\": \"lon+lat+text\", \"marker\": {\"size\": 6, \"color\": \"#2c7bb6\", \"sizemode\": \"area\"}, \"name\": null, \"showlegend\": false}, {\"type\": \"scattergeo\", \"lon\": [14.550072], \"lat\": [47.516231], \"text\": \"Austria (1.5hr)\", \"hoverinfo\": \"lon+lat+text\", \"marker\": {\"size\": 6, \"color\": \"#2c7bb6\", \"sizemode\": \"area\"}, \"name\": null, \"showlegend\": false}, {\"type\": \"scattergeo\", \"lon\": [47.576927000000005], \"lat\": [40.143105], \"text\": \"Azerbaijan (1.5hr)\", \"hoverinfo\": \"lon+lat+text\", \"marker\": {\"size\": 6, \"color\": \"#2c7bb6\", \"sizemode\": \"area\"}, \"name\": null, \"showlegend\": false}, {\"type\": \"scattergeo\", \"lon\": [90.35633100000001], \"lat\": [23.684994], \"text\": \"Bangladesh (2.2hr)\", \"hoverinfo\": \"lon+lat+text\", \"marker\": {\"size\": 6, \"color\": \"#d7191c\", \"sizemode\": \"area\"}, \"name\": \"2.0 - 2.2 hr\", \"showlegend\": true}, {\"type\": \"scattergeo\", \"lon\": [27.953389], \"lat\": [53.709807], \"text\": \"Belarus (1.5hr)\", \"hoverinfo\": \"lon+lat+text\", \"marker\": {\"size\": 6, \"color\": \"#2c7bb6\", \"sizemode\": \"area\"}, \"name\": null, \"showlegend\": false}, {\"type\": \"scattergeo\", \"lon\": [4.469936], \"lat\": [50.503887], \"text\": \"Belgium (1.5hr)\", \"hoverinfo\": \"lon+lat+text\", \"marker\": {\"size\": 6, \"color\": \"#2c7bb6\", \"sizemode\": \"area\"}, \"name\": null, \"showlegend\": false}, {\"type\": \"scattergeo\", \"lon\": [-63.588653], \"lat\": [-16.290154], \"text\": \"Bolivia (1.6hr)\", \"hoverinfo\": \"lon+lat+text\", \"marker\": {\"size\": 6, \"color\": \"#2c7bb6\", \"sizemode\": \"area\"}, \"name\": null, \"showlegend\": false}, {\"type\": \"scattergeo\", \"lon\": [17.679076000000002], \"lat\": [43.915886], \"text\": \"Bosnia and Herzegovina (1.4hr)\", \"hoverinfo\": \"lon+lat+text\", \"marker\": {\"size\": 6, \"color\": \"#2c7bb6\", \"sizemode\": \"area\"}, \"name\": null, \"showlegend\": false}, {\"type\": \"scattergeo\", \"lon\": [-51.92528], \"lat\": [-14.235004], \"text\": \"Brazil (1.5hr)\", \"hoverinfo\": \"lon+lat+text\", \"marker\": {\"size\": 6, \"color\": \"#2c7bb6\", \"sizemode\": \"area\"}, \"name\": null, \"showlegend\": false}, {\"type\": \"scattergeo\", \"lon\": [25.48583], \"lat\": [42.733883], \"text\": \"Bulgaria (1.6hr)\", \"hoverinfo\": \"lon+lat+text\", \"marker\": {\"size\": 6, \"color\": \"#2c7bb6\", \"sizemode\": \"area\"}, \"name\": null, \"showlegend\": false}, {\"type\": \"scattergeo\", \"lon\": [-106.34677099999999], \"lat\": [56.130366], \"text\": \"Canada (1.5hr)\", \"hoverinfo\": \"lon+lat+text\", \"marker\": {\"size\": 6, \"color\": \"#2c7bb6\", \"sizemode\": \"area\"}, \"name\": null, \"showlegend\": false}, {\"type\": \"scattergeo\", \"lon\": [-71.542969], \"lat\": [-35.675146999999996], \"text\": \"Chile (1.5hr)\", \"hoverinfo\": \"lon+lat+text\", \"marker\": {\"size\": 6, \"color\": \"#2c7bb6\", \"sizemode\": \"area\"}, \"name\": null, \"showlegend\": false}, {\"type\": \"scattergeo\", \"lon\": [104.195397], \"lat\": [35.86166], \"text\": \"China (1.6hr)\", \"hoverinfo\": \"lon+lat+text\", \"marker\": {\"size\": 6, \"color\": \"#8a5cd1\", \"sizemode\": \"area\"}, \"name\": null, \"showlegend\": false}, {\"type\": \"scattergeo\", \"lon\": [-74.297333], \"lat\": [4.570868], \"text\": \"Colombia (1.5hr)\", \"hoverinfo\": \"lon+lat+text\", \"marker\": {\"size\": 6, \"color\": \"#2c7bb6\", \"sizemode\": \"area\"}, \"name\": null, \"showlegend\": false}, {\"type\": \"scattergeo\", \"lon\": [-83.753428], \"lat\": [9.748917], \"text\": \"Costa Rica (1.4hr)\", \"hoverinfo\": \"lon+lat+text\", \"marker\": {\"size\": 6, \"color\": \"#2c7bb6\", \"sizemode\": \"area\"}, \"name\": null, \"showlegend\": false}, {\"type\": \"scattergeo\", \"lon\": [15.2], \"lat\": [45.1], \"text\": \"Croatia (1.5hr)\", \"hoverinfo\": \"lon+lat+text\", \"marker\": {\"size\": 6, \"color\": \"#2c7bb6\", \"sizemode\": \"area\"}, \"name\": null, \"showlegend\": false}, {\"type\": \"scattergeo\", \"lon\": [-77.78116700000001], \"lat\": [21.521757], \"text\": \"Cuba (1.5hr)\", \"hoverinfo\": \"lon+lat+text\", \"marker\": {\"size\": 6, \"color\": \"#2c7bb6\", \"sizemode\": \"area\"}, \"name\": null, \"showlegend\": false}, {\"type\": \"scattergeo\", \"lon\": [33.429859], \"lat\": [35.126413], \"text\": \"Cyprus (1.5hr)\", \"hoverinfo\": \"lon+lat+text\", \"marker\": {\"size\": 6, \"color\": \"#2c7bb6\", \"sizemode\": \"area\"}, \"name\": null, \"showlegend\": false}, {\"type\": \"scattergeo\", \"lon\": [15.472961999999999], \"lat\": [49.817492], \"text\": \"Czech Republic (1.6hr)\", \"hoverinfo\": \"lon+lat+text\", \"marker\": {\"size\": 6, \"color\": \"#2c7bb6\", \"sizemode\": \"area\"}, \"name\": null, \"showlegend\": false}, {\"type\": \"scattergeo\", \"lon\": [null], \"lat\": [null], \"text\": \"Czechoslovakia (1.6hr)\", \"hoverinfo\": \"lon+lat+text\", \"marker\": {\"size\": 6, \"color\": \"#2c7bb6\", \"sizemode\": \"area\"}, \"name\": null, \"showlegend\": false}, {\"type\": \"scattergeo\", \"lon\": [9.501785], \"lat\": [56.26392], \"text\": \"Denmark (1.5hr)\", \"hoverinfo\": \"lon+lat+text\", \"marker\": {\"size\": 6, \"color\": \"#2c7bb6\", \"sizemode\": \"area\"}, \"name\": null, \"showlegend\": false}, {\"type\": \"scattergeo\", \"lon\": [-70.162651], \"lat\": [18.735692999999998], \"text\": \"Dominican Republic (1.5hr)\", \"hoverinfo\": \"lon+lat+text\", \"marker\": {\"size\": 6, \"color\": \"#2c7bb6\", \"sizemode\": \"area\"}, \"name\": null, \"showlegend\": false}, {\"type\": \"scattergeo\", \"lon\": [-78.183406], \"lat\": [-1.8312389999999998], \"text\": \"Ecuador (1.5hr)\", \"hoverinfo\": \"lon+lat+text\", \"marker\": {\"size\": 6, \"color\": \"#2c7bb6\", \"sizemode\": \"area\"}, \"name\": null, \"showlegend\": false}, {\"type\": \"scattergeo\", \"lon\": [30.802497999999996], \"lat\": [26.820553000000004], \"text\": \"Egypt (1.7hr)\", \"hoverinfo\": \"lon+lat+text\", \"marker\": {\"size\": 6, \"color\": \"#8a5cd1\", \"sizemode\": \"area\"}, \"name\": null, \"showlegend\": false}, {\"type\": \"scattergeo\", \"lon\": [25.013607], \"lat\": [58.595271999999994], \"text\": \"Estonia (1.5hr)\", \"hoverinfo\": \"lon+lat+text\", \"marker\": {\"size\": 6, \"color\": \"#2c7bb6\", \"sizemode\": \"area\"}, \"name\": null, \"showlegend\": false}, {\"type\": \"scattergeo\", \"lon\": [null], \"lat\": [null], \"text\": \"Federal Republic of Yugoslavia (1.6hr)\", \"hoverinfo\": \"lon+lat+text\", \"marker\": {\"size\": 6, \"color\": \"#8a5cd1\", \"sizemode\": \"area\"}, \"name\": null, \"showlegend\": false}, {\"type\": \"scattergeo\", \"lon\": [25.748151], \"lat\": [61.92411], \"text\": \"Finland (1.5hr)\", \"hoverinfo\": \"lon+lat+text\", \"marker\": {\"size\": 6, \"color\": \"#2c7bb6\", \"sizemode\": \"area\"}, \"name\": null, \"showlegend\": false}, {\"type\": \"scattergeo\", \"lon\": [2.213749], \"lat\": [46.227638], \"text\": \"France (1.6hr)\", \"hoverinfo\": \"lon+lat+text\", \"marker\": {\"size\": 6, \"color\": \"#2c7bb6\", \"sizemode\": \"area\"}, \"name\": null, \"showlegend\": false}, {\"type\": \"scattergeo\", \"lon\": [43.356891999999995], \"lat\": [42.315407], \"text\": \"Georgia (1.6hr)\", \"hoverinfo\": \"lon+lat+text\", \"marker\": {\"size\": 6, \"color\": \"#2c7bb6\", \"sizemode\": \"area\"}, \"name\": null, \"showlegend\": false}, {\"type\": \"scattergeo\", \"lon\": [10.451526], \"lat\": [51.165690999999995], \"text\": \"Germany (1.5hr)\", \"hoverinfo\": \"lon+lat+text\", \"marker\": {\"size\": 6, \"color\": \"#2c7bb6\", \"sizemode\": \"area\"}, \"name\": null, \"showlegend\": false}, {\"type\": \"scattergeo\", \"lon\": [21.824312], \"lat\": [39.074208], \"text\": \"Greece (1.5hr)\", \"hoverinfo\": \"lon+lat+text\", \"marker\": {\"size\": 6, \"color\": \"#2c7bb6\", \"sizemode\": \"area\"}, \"name\": null, \"showlegend\": false}, {\"type\": \"scattergeo\", \"lon\": [114.10949699999999], \"lat\": [22.396428], \"text\": \"Hong Kong (1.6hr)\", \"hoverinfo\": \"lon+lat+text\", \"marker\": {\"size\": 6, \"color\": \"#8a5cd1\", \"sizemode\": \"area\"}, \"name\": null, \"showlegend\": false}, {\"type\": \"scattergeo\", \"lon\": [19.503304], \"lat\": [47.162494], \"text\": \"Hungary (1.5hr)\", \"hoverinfo\": \"lon+lat+text\", \"marker\": {\"size\": 6, \"color\": \"#2c7bb6\", \"sizemode\": \"area\"}, \"name\": null, \"showlegend\": false}, {\"type\": \"scattergeo\", \"lon\": [-19.020835], \"lat\": [64.96305100000001], \"text\": \"Iceland (1.5hr)\", \"hoverinfo\": \"lon+lat+text\", \"marker\": {\"size\": 6, \"color\": \"#2c7bb6\", \"sizemode\": \"area\"}, \"name\": null, \"showlegend\": false}, {\"type\": \"scattergeo\", \"lon\": [78.96288], \"lat\": [20.593684], \"text\": \"India (2.2hr)\", \"hoverinfo\": \"lon+lat+text\", \"marker\": {\"size\": 6, \"color\": \"#d7191c\", \"sizemode\": \"area\"}, \"name\": null, \"showlegend\": false}, {\"type\": \"scattergeo\", \"lon\": [113.921327], \"lat\": [-0.789275], \"text\": \"Indonesia (1.6hr)\", \"hoverinfo\": \"lon+lat+text\", \"marker\": {\"size\": 6, \"color\": \"#2c7bb6\", \"sizemode\": \"area\"}, \"name\": null, \"showlegend\": false}, {\"type\": \"scattergeo\", \"lon\": [53.68804599999999], \"lat\": [32.427908], \"text\": \"Iran (1.5hr)\", \"hoverinfo\": \"lon+lat+text\", \"marker\": {\"size\": 6, \"color\": \"#2c7bb6\", \"sizemode\": \"area\"}, \"name\": null, \"showlegend\": false}, {\"type\": \"scattergeo\", \"lon\": [43.679291], \"lat\": [33.223191], \"text\": \"Iraq (1.5hr)\", \"hoverinfo\": \"lon+lat+text\", \"marker\": {\"size\": 6, \"color\": \"#2c7bb6\", \"sizemode\": \"area\"}, \"name\": null, \"showlegend\": false}, {\"type\": \"scattergeo\", \"lon\": [-8.243889999999999], \"lat\": [53.41291], \"text\": \"Ireland (1.5hr)\", \"hoverinfo\": \"lon+lat+text\", \"marker\": {\"size\": 6, \"color\": \"#2c7bb6\", \"sizemode\": \"area\"}, \"name\": null, \"showlegend\": false}, {\"type\": \"scattergeo\", \"lon\": [34.851612], \"lat\": [31.046051000000002], \"text\": \"Israel (1.5hr)\", \"hoverinfo\": \"lon+lat+text\", \"marker\": {\"size\": 6, \"color\": \"#2c7bb6\", \"sizemode\": \"area\"}, \"name\": null, \"showlegend\": false}, {\"type\": \"scattergeo\", \"lon\": [12.56738], \"lat\": [41.87194], \"text\": \"Italy (1.5hr)\", \"hoverinfo\": \"lon+lat+text\", \"marker\": {\"size\": 6, \"color\": \"#2c7bb6\", \"sizemode\": \"area\"}, \"name\": null, \"showlegend\": false}, {\"type\": \"scattergeo\", \"lon\": [138.252924], \"lat\": [36.204824], \"text\": \"Japan (1.6hr)\", \"hoverinfo\": \"lon+lat+text\", \"marker\": {\"size\": 6, \"color\": \"#8a5cd1\", \"sizemode\": \"area\"}, \"name\": null, \"showlegend\": false}, {\"type\": \"scattergeo\", \"lon\": [66.923684], \"lat\": [48.019573], \"text\": \"Kazakhstan (1.5hr)\", \"hoverinfo\": \"lon+lat+text\", \"marker\": {\"size\": 6, \"color\": \"#2c7bb6\", \"sizemode\": \"area\"}, \"name\": null, \"showlegend\": false}, {\"type\": \"scattergeo\", \"lon\": [24.603189], \"lat\": [56.879635], \"text\": \"Latvia (1.6hr)\", \"hoverinfo\": \"lon+lat+text\", \"marker\": {\"size\": 6, \"color\": \"#2c7bb6\", \"sizemode\": \"area\"}, \"name\": null, \"showlegend\": false}, {\"type\": \"scattergeo\", \"lon\": [35.862285], \"lat\": [33.854721000000005], \"text\": \"Lebanon (1.5hr)\", \"hoverinfo\": \"lon+lat+text\", \"marker\": {\"size\": 6, \"color\": \"#2c7bb6\", \"sizemode\": \"area\"}, \"name\": null, \"showlegend\": false}, {\"type\": \"scattergeo\", \"lon\": [23.881275], \"lat\": [55.169438], \"text\": \"Lithuania (1.6hr)\", \"hoverinfo\": \"lon+lat+text\", \"marker\": {\"size\": 6, \"color\": \"#2c7bb6\", \"sizemode\": \"area\"}, \"name\": null, \"showlegend\": false}, {\"type\": \"scattergeo\", \"lon\": [6.129583], \"lat\": [49.815273], \"text\": \"Luxembourg (1.5hr)\", \"hoverinfo\": \"lon+lat+text\", \"marker\": {\"size\": 6, \"color\": \"#2c7bb6\", \"sizemode\": \"area\"}, \"name\": null, \"showlegend\": false}, {\"type\": \"scattergeo\", \"lon\": [101.97576600000001], \"lat\": [4.210483999999999], \"text\": \"Malaysia (1.6hr)\", \"hoverinfo\": \"lon+lat+text\", \"marker\": {\"size\": 6, \"color\": \"#8a5cd1\", \"sizemode\": \"area\"}, \"name\": null, \"showlegend\": false}, {\"type\": \"scattergeo\", \"lon\": [-102.552784], \"lat\": [23.634501], \"text\": \"Mexico (1.5hr)\", \"hoverinfo\": \"lon+lat+text\", \"marker\": {\"size\": 6, \"color\": \"#2c7bb6\", \"sizemode\": \"area\"}, \"name\": null, \"showlegend\": false}, {\"type\": \"scattergeo\", \"lon\": [-7.09262], \"lat\": [31.791702], \"text\": \"Morocco (1.6hr)\", \"hoverinfo\": \"lon+lat+text\", \"marker\": {\"size\": 6, \"color\": \"#8a5cd1\", \"sizemode\": \"area\"}, \"name\": null, \"showlegend\": false}, {\"type\": \"scattergeo\", \"lon\": [84.12400799999999], \"lat\": [28.394857000000002], \"text\": \"Nepal (1.9hr)\", \"hoverinfo\": \"lon+lat+text\", \"marker\": {\"size\": 6, \"color\": \"#fdae61\", \"sizemode\": \"area\"}, \"name\": \"1.8 - 2.0 hr\", \"showlegend\": true}, {\"type\": \"scattergeo\", \"lon\": [5.291266], \"lat\": [52.132633], \"text\": \"Netherlands (1.5hr)\", \"hoverinfo\": \"lon+lat+text\", \"marker\": {\"size\": 6, \"color\": \"#2c7bb6\", \"sizemode\": \"area\"}, \"name\": null, \"showlegend\": false}, {\"type\": \"scattergeo\", \"lon\": [174.88597099999998], \"lat\": [-40.900557], \"text\": \"New Zealand (1.5hr)\", \"hoverinfo\": \"lon+lat+text\", \"marker\": {\"size\": 6, \"color\": \"#2c7bb6\", \"sizemode\": \"area\"}, \"name\": null, \"showlegend\": false}, {\"type\": \"scattergeo\", \"lon\": [8.675277000000001], \"lat\": [9.081999], \"text\": \"Nigeria (1.6hr)\", \"hoverinfo\": \"lon+lat+text\", \"marker\": {\"size\": 6, \"color\": \"#8a5cd1\", \"sizemode\": \"area\"}, \"name\": \"1.6 - 1.8 hr\", \"showlegend\": true}, {\"type\": \"scattergeo\", \"lon\": [8.468946], \"lat\": [60.472024], \"text\": \"Norway (1.5hr)\", \"hoverinfo\": \"lon+lat+text\", \"marker\": {\"size\": 6, \"color\": \"#2c7bb6\", \"sizemode\": \"area\"}, \"name\": \"1.4 - 1.6 hr\", \"showlegend\": true}, {\"type\": \"scattergeo\", \"lon\": [null], \"lat\": [null], \"text\": \"Occupied Palestinian Territory (1.4hr)\", \"hoverinfo\": \"lon+lat+text\", \"marker\": {\"size\": 6, \"color\": \"#2c7bb6\", \"sizemode\": \"area\"}, \"name\": null, \"showlegend\": false}, {\"type\": \"scattergeo\", \"lon\": [69.345116], \"lat\": [30.375321000000003], \"text\": \"Pakistan (2.0hr)\", \"hoverinfo\": \"lon+lat+text\", \"marker\": {\"size\": 6, \"color\": \"#fdae61\", \"sizemode\": \"area\"}, \"name\": null, \"showlegend\": false}, {\"type\": \"scattergeo\", \"lon\": [-75.015152], \"lat\": [-9.189967], \"text\": \"Peru (1.5hr)\", \"hoverinfo\": \"lon+lat+text\", \"marker\": {\"size\": 6, \"color\": \"#2c7bb6\", \"sizemode\": \"area\"}, \"name\": null, \"showlegend\": false}, {\"type\": \"scattergeo\", \"lon\": [121.77401699999999], \"lat\": [12.879721], \"text\": \"Philippines (1.7hr)\", \"hoverinfo\": \"lon+lat+text\", \"marker\": {\"size\": 6, \"color\": \"#8a5cd1\", \"sizemode\": \"area\"}, \"name\": null, \"showlegend\": false}, {\"type\": \"scattergeo\", \"lon\": [19.145135999999997], \"lat\": [51.919438], \"text\": \"Poland (1.6hr)\", \"hoverinfo\": \"lon+lat+text\", \"marker\": {\"size\": 6, \"color\": \"#2c7bb6\", \"sizemode\": \"area\"}, \"name\": null, \"showlegend\": false}, {\"type\": \"scattergeo\", \"lon\": [-8.224454], \"lat\": [39.399871999999995], \"text\": \"Portugal (1.6hr)\", \"hoverinfo\": \"lon+lat+text\", \"marker\": {\"size\": 6, \"color\": \"#2c7bb6\", \"sizemode\": \"area\"}, \"name\": null, \"showlegend\": false}, {\"type\": \"scattergeo\", \"lon\": [-66.590149], \"lat\": [18.220833], \"text\": \"Puerto Rico (1.5hr)\", \"hoverinfo\": \"lon+lat+text\", \"marker\": {\"size\": 6, \"color\": \"#2c7bb6\", \"sizemode\": \"area\"}, \"name\": null, \"showlegend\": false}, {\"type\": \"scattergeo\", \"lon\": [24.96676], \"lat\": [45.943160999999996], \"text\": \"Romania (1.6hr)\", \"hoverinfo\": \"lon+lat+text\", \"marker\": {\"size\": 6, \"color\": \"#2c7bb6\", \"sizemode\": \"area\"}, \"name\": null, \"showlegend\": false}, {\"type\": \"scattergeo\", \"lon\": [105.31875600000001], \"lat\": [61.52401], \"text\": \"Russia (1.6hr)\", \"hoverinfo\": \"lon+lat+text\", \"marker\": {\"size\": 6, \"color\": \"#2c7bb6\", \"sizemode\": \"area\"}, \"name\": null, \"showlegend\": false}, {\"type\": \"scattergeo\", \"lon\": [21.005859], \"lat\": [44.016521000000004], \"text\": \"Serbia (1.6hr)\", \"hoverinfo\": \"lon+lat+text\", \"marker\": {\"size\": 6, \"color\": \"#2c7bb6\", \"sizemode\": \"area\"}, \"name\": null, \"showlegend\": false}, {\"type\": \"scattergeo\", \"lon\": [103.819836], \"lat\": [1.352083], \"text\": \"Singapore (1.6hr)\", \"hoverinfo\": \"lon+lat+text\", \"marker\": {\"size\": 6, \"color\": \"#2c7bb6\", \"sizemode\": \"area\"}, \"name\": null, \"showlegend\": false}, {\"type\": \"scattergeo\", \"lon\": [19.699023999999998], \"lat\": [48.669026], \"text\": \"Slovakia (1.5hr)\", \"hoverinfo\": \"lon+lat+text\", \"marker\": {\"size\": 6, \"color\": \"#2c7bb6\", \"sizemode\": \"area\"}, \"name\": null, \"showlegend\": false}, {\"type\": \"scattergeo\", \"lon\": [14.995463], \"lat\": [46.151241], \"text\": \"Slovenia (1.5hr)\", \"hoverinfo\": \"lon+lat+text\", \"marker\": {\"size\": 6, \"color\": \"#2c7bb6\", \"sizemode\": \"area\"}, \"name\": null, \"showlegend\": false}, {\"type\": \"scattergeo\", \"lon\": [22.937506], \"lat\": [-30.559482], \"text\": \"South Africa (1.6hr)\", \"hoverinfo\": \"lon+lat+text\", \"marker\": {\"size\": 6, \"color\": \"#2c7bb6\", \"sizemode\": \"area\"}, \"name\": null, \"showlegend\": false}, {\"type\": \"scattergeo\", \"lon\": [127.766922], \"lat\": [35.907757000000004], \"text\": \"South Korea (1.7hr)\", \"hoverinfo\": \"lon+lat+text\", \"marker\": {\"size\": 6, \"color\": \"#8a5cd1\", \"sizemode\": \"area\"}, \"name\": null, \"showlegend\": false}, {\"type\": \"scattergeo\", \"lon\": [null], \"lat\": [null], \"text\": \"Soviet Union (1.6hr)\", \"hoverinfo\": \"lon+lat+text\", \"marker\": {\"size\": 6, \"color\": \"#8a5cd1\", \"sizemode\": \"area\"}, \"name\": null, \"showlegend\": false}, {\"type\": \"scattergeo\", \"lon\": [-3.7492199999999998], \"lat\": [40.463667], \"text\": \"Spain (1.5hr)\", \"hoverinfo\": \"lon+lat+text\", \"marker\": {\"size\": 6, \"color\": \"#2c7bb6\", \"sizemode\": \"area\"}, \"name\": null, \"showlegend\": false}, {\"type\": \"scattergeo\", \"lon\": [80.77179699999999], \"lat\": [7.873054], \"text\": \"Sri Lanka (1.8hr)\", \"hoverinfo\": \"lon+lat+text\", \"marker\": {\"size\": 6, \"color\": \"#8a5cd1\", \"sizemode\": \"area\"}, \"name\": null, \"showlegend\": false}, {\"type\": \"scattergeo\", \"lon\": [18.643501], \"lat\": [60.128161], \"text\": \"Sweden (1.6hr)\", \"hoverinfo\": \"lon+lat+text\", \"marker\": {\"size\": 6, \"color\": \"#2c7bb6\", \"sizemode\": \"area\"}, \"name\": null, \"showlegend\": false}, {\"type\": \"scattergeo\", \"lon\": [8.227511999999999], \"lat\": [46.818188], \"text\": \"Switzerland (1.5hr)\", \"hoverinfo\": \"lon+lat+text\", \"marker\": {\"size\": 6, \"color\": \"#2c7bb6\", \"sizemode\": \"area\"}, \"name\": null, \"showlegend\": false}, {\"type\": \"scattergeo\", \"lon\": [120.96051499999999], \"lat\": [23.69781], \"text\": \"Taiwan (1.7hr)\", \"hoverinfo\": \"lon+lat+text\", \"marker\": {\"size\": 6, \"color\": \"#8a5cd1\", \"sizemode\": \"area\"}, \"name\": null, \"showlegend\": false}, {\"type\": \"scattergeo\", \"lon\": [100.992541], \"lat\": [15.870032], \"text\": \"Thailand (1.7hr)\", \"hoverinfo\": \"lon+lat+text\", \"marker\": {\"size\": 6, \"color\": \"#8a5cd1\", \"sizemode\": \"area\"}, \"name\": null, \"showlegend\": false}, {\"type\": \"scattergeo\", \"lon\": [35.243322], \"lat\": [38.963745], \"text\": \"Turkey (1.6hr)\", \"hoverinfo\": \"lon+lat+text\", \"marker\": {\"size\": 6, \"color\": \"#8a5cd1\", \"sizemode\": \"area\"}, \"name\": null, \"showlegend\": false}, {\"type\": \"scattergeo\", \"lon\": [-3.435973], \"lat\": [55.378051], \"text\": \"UK (1.6hr)\", \"hoverinfo\": \"lon+lat+text\", \"marker\": {\"size\": 6, \"color\": \"#2c7bb6\", \"sizemode\": \"area\"}, \"name\": null, \"showlegend\": false}, {\"type\": \"scattergeo\", \"lon\": [-95.712891], \"lat\": [37.09024], \"text\": \"USA (1.5hr)\", \"hoverinfo\": \"lon+lat+text\", \"marker\": {\"size\": 6, \"color\": \"#2c7bb6\", \"sizemode\": \"area\"}, \"name\": null, \"showlegend\": false}, {\"type\": \"scattergeo\", \"lon\": [31.16558], \"lat\": [48.379433], \"text\": \"Ukraine (1.6hr)\", \"hoverinfo\": \"lon+lat+text\", \"marker\": {\"size\": 6, \"color\": \"#2c7bb6\", \"sizemode\": \"area\"}, \"name\": null, \"showlegend\": false}, {\"type\": \"scattergeo\", \"lon\": [53.847818000000004], \"lat\": [23.424076], \"text\": \"United Arab Emirates (1.5hr)\", \"hoverinfo\": \"lon+lat+text\", \"marker\": {\"size\": 6, \"color\": \"#2c7bb6\", \"sizemode\": \"area\"}, \"name\": null, \"showlegend\": false}, {\"type\": \"scattergeo\", \"lon\": [-55.765834999999996], \"lat\": [-32.522779], \"text\": \"Uruguay (1.5hr)\", \"hoverinfo\": \"lon+lat+text\", \"marker\": {\"size\": 6, \"color\": \"#2c7bb6\", \"sizemode\": \"area\"}, \"name\": null, \"showlegend\": false}, {\"type\": \"scattergeo\", \"lon\": [-66.58973], \"lat\": [6.42375], \"text\": \"Venezuela (1.6hr)\", \"hoverinfo\": \"lon+lat+text\", \"marker\": {\"size\": 6, \"color\": \"#8a5cd1\", \"sizemode\": \"area\"}, \"name\": null, \"showlegend\": false}, {\"type\": \"scattergeo\", \"lon\": [108.277199], \"lat\": [14.058323999999999], \"text\": \"Vietnam (1.6hr)\", \"hoverinfo\": \"lon+lat+text\", \"marker\": {\"size\": 6, \"color\": \"#8a5cd1\", \"sizemode\": \"area\"}, \"name\": null, \"showlegend\": false}], {\"title\": \"Average movie run-time by country\", \"width\": 1000, \"height\": 500, \"geo\": {\"projection\": {\"type\": \"natural earth\"}, \"showland\": true, \"showcountries\": true, \"countrywidth\": 0.1, \"landcolor\": \"#292727\", \"countrycolor\": \"rgb(255, 255, 255)\"}, \"margin\": {\"r\": 0, \"l\": 10, \"b\": 0, \"t\": 30, \"pad\": 0}, \"legend\": {\"x\": 0.95, \"font\": {\"size\": 15}}}, {\"showLink\": true, \"linkText\": \"Export to plot.ly\"})});</script>"
      ]
     },
     "metadata": {},
     "output_type": "display_data"
    }
   ],
   "source": [
    "layout = dict(\n",
    "        title = 'Average movie run-time by country',\n",
    "#         showlegend = False,\n",
    "        width = 1000,\n",
    "        height = 500,\n",
    "        geo = dict(\n",
    "            projection=dict(type='natural earth'),\n",
    "            showland = True,\n",
    "            showcountries=True,\n",
    "            countrywidth=0.1,\n",
    "            landcolor = '#292727',\n",
    "            countrycolor=\"rgb(255, 255, 255)\"\n",
    "        ),\n",
    "        margin=Margin(r=0, l=10,\n",
    "                  b=0, t=30, pad=0),\n",
    "        legend=dict(x=0.95,\n",
    "                   font=dict(size=15))\n",
    "    )\n",
    "\n",
    "fig = dict( data=data, layout=layout )\n",
    "# py.iplot( fig, validate=False, filename='d3-bubble-map-populations' )\n",
    "# py.iplot( fig)\n",
    "iplot(fig)"
   ]
  }
 ],
 "metadata": {
  "kernelspec": {
   "display_name": "Python 3",
   "language": "python",
   "name": "python3"
  },
  "language_info": {
   "codemirror_mode": {
    "name": "ipython",
    "version": 3
   },
   "file_extension": ".py",
   "mimetype": "text/x-python",
   "name": "python",
   "nbconvert_exporter": "python",
   "pygments_lexer": "ipython3",
   "version": "3.6.2"
  }
 },
 "nbformat": 4,
 "nbformat_minor": 2
}
