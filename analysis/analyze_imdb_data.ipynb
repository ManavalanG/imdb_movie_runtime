{
 "cells": [
  {
   "cell_type": "code",
   "execution_count": 1,
   "metadata": {
    "collapsed": true
   },
   "outputs": [],
   "source": [
    "import pandas as pd\n",
    "import os\n",
    "from matplotlib import pyplot as plt\n",
    "%matplotlib inline"
   ]
  },
  {
   "cell_type": "code",
   "execution_count": 2,
   "metadata": {
    "collapsed": true
   },
   "outputs": [],
   "source": [
    "def read_tsv_data(dir, category):\n",
    "    f = os.path.join(dir_path, '%s.list.tsv.gz' % category)\n",
    "    df = pd.read_csv(f, sep='\\t', encoding='latin1', index_col='id')\n",
    "    \n",
    "    df.drop(['episode'], axis=1, inplace=True)\n",
    "    if category == 'language':\n",
    "        df.drop(['suspended'], axis=1, inplace=True)\n",
    "    \n",
    "    print(len(df))\n",
    "    return df"
   ]
  },
  {
   "cell_type": "markdown",
   "metadata": {},
   "source": [
    "#### Read IMDB tsv files"
   ]
  },
  {
   "cell_type": "code",
   "execution_count": 3,
   "metadata": {
    "collapsed": true
   },
   "outputs": [],
   "source": [
    "dir_path = '..\\\\results\\\\intermediate\\\\complete\\\\json2tsv'"
   ]
  },
  {
   "cell_type": "code",
   "execution_count": 88,
   "metadata": {
    "scrolled": true
   },
   "outputs": [
    {
     "name": "stdout",
     "output_type": "stream",
     "text": [
      "1055072\n"
     ]
    },
    {
     "data": {
      "text/html": [
       "<div>\n",
       "<style>\n",
       "    .dataframe thead tr:only-child th {\n",
       "        text-align: right;\n",
       "    }\n",
       "\n",
       "    .dataframe thead th {\n",
       "        text-align: left;\n",
       "    }\n",
       "\n",
       "    .dataframe tbody tr th {\n",
       "        vertical-align: top;\n",
       "    }\n",
       "</style>\n",
       "<table border=\"1\" class=\"dataframe\">\n",
       "  <thead>\n",
       "    <tr style=\"text-align: right;\">\n",
       "      <th></th>\n",
       "      <th>kind</th>\n",
       "      <th>title</th>\n",
       "      <th>year</th>\n",
       "      <th>year_first</th>\n",
       "      <th>year_rest</th>\n",
       "    </tr>\n",
       "    <tr>\n",
       "      <th>id</th>\n",
       "      <th></th>\n",
       "      <th></th>\n",
       "      <th></th>\n",
       "      <th></th>\n",
       "      <th></th>\n",
       "    </tr>\n",
       "  </thead>\n",
       "  <tbody>\n",
       "    <tr>\n",
       "      <th># (2012/I)</th>\n",
       "      <td>movie</td>\n",
       "      <td>#</td>\n",
       "      <td>[2012]</td>\n",
       "      <td>2012.0</td>\n",
       "      <td>NaN</td>\n",
       "    </tr>\n",
       "    <tr>\n",
       "      <th># (2012/II)</th>\n",
       "      <td>movie</td>\n",
       "      <td>#</td>\n",
       "      <td>[2012]</td>\n",
       "      <td>2012.0</td>\n",
       "      <td>NaN</td>\n",
       "    </tr>\n",
       "    <tr>\n",
       "      <th># (2014)</th>\n",
       "      <td>movie</td>\n",
       "      <td>#</td>\n",
       "      <td>[2014]</td>\n",
       "      <td>2014.0</td>\n",
       "      <td>NaN</td>\n",
       "    </tr>\n",
       "  </tbody>\n",
       "</table>\n",
       "</div>"
      ],
      "text/plain": [
       "              kind title    year  year_first  year_rest\n",
       "id                                                     \n",
       "# (2012/I)   movie     #  [2012]      2012.0        NaN\n",
       "# (2012/II)  movie     #  [2012]      2012.0        NaN\n",
       "# (2014)     movie     #  [2014]      2014.0        NaN"
      ]
     },
     "execution_count": 88,
     "metadata": {},
     "output_type": "execute_result"
    }
   ],
   "source": [
    "movies_pd = read_tsv_data(dir_path, category='movies')\n",
    "movies_pd.head(3)"
   ]
  },
  {
   "cell_type": "code",
   "execution_count": 5,
   "metadata": {
    "scrolled": true
   },
   "outputs": [
    {
     "name": "stdout",
     "output_type": "stream",
     "text": [
      "1034831\n"
     ]
    },
    {
     "data": {
      "text/html": [
       "<div>\n",
       "<style>\n",
       "    .dataframe thead tr:only-child th {\n",
       "        text-align: right;\n",
       "    }\n",
       "\n",
       "    .dataframe thead th {\n",
       "        text-align: left;\n",
       "    }\n",
       "\n",
       "    .dataframe tbody tr th {\n",
       "        vertical-align: top;\n",
       "    }\n",
       "</style>\n",
       "<table border=\"1\" class=\"dataframe\">\n",
       "  <thead>\n",
       "    <tr style=\"text-align: right;\">\n",
       "      <th></th>\n",
       "      <th>kind</th>\n",
       "      <th>title</th>\n",
       "      <th>countries</th>\n",
       "      <th>countries_first</th>\n",
       "      <th>countries_rest</th>\n",
       "    </tr>\n",
       "    <tr>\n",
       "      <th>id</th>\n",
       "      <th></th>\n",
       "      <th></th>\n",
       "      <th></th>\n",
       "      <th></th>\n",
       "      <th></th>\n",
       "    </tr>\n",
       "  </thead>\n",
       "  <tbody>\n",
       "    <tr>\n",
       "      <th># (2012/I)</th>\n",
       "      <td>movie</td>\n",
       "      <td>#</td>\n",
       "      <td>['USA']</td>\n",
       "      <td>USA</td>\n",
       "      <td>NaN</td>\n",
       "    </tr>\n",
       "    <tr>\n",
       "      <th># (2012/II)</th>\n",
       "      <td>movie</td>\n",
       "      <td>#</td>\n",
       "      <td>['Brazil']</td>\n",
       "      <td>Brazil</td>\n",
       "      <td>NaN</td>\n",
       "    </tr>\n",
       "    <tr>\n",
       "      <th># (2014)</th>\n",
       "      <td>movie</td>\n",
       "      <td>#</td>\n",
       "      <td>['USA']</td>\n",
       "      <td>USA</td>\n",
       "      <td>NaN</td>\n",
       "    </tr>\n",
       "  </tbody>\n",
       "</table>\n",
       "</div>"
      ],
      "text/plain": [
       "              kind title   countries countries_first countries_rest\n",
       "id                                                                 \n",
       "# (2012/I)   movie     #     ['USA']             USA            NaN\n",
       "# (2012/II)  movie     #  ['Brazil']          Brazil            NaN\n",
       "# (2014)     movie     #     ['USA']             USA            NaN"
      ]
     },
     "execution_count": 5,
     "metadata": {},
     "output_type": "execute_result"
    }
   ],
   "source": [
    "country_pd = read_tsv_data(dir_path, category='countries')\n",
    "country_pd.head(3)"
   ]
  },
  {
   "cell_type": "code",
   "execution_count": 6,
   "metadata": {
    "scrolled": true
   },
   "outputs": [
    {
     "name": "stdout",
     "output_type": "stream",
     "text": [
      "919881\n"
     ]
    },
    {
     "data": {
      "text/html": [
       "<div>\n",
       "<style>\n",
       "    .dataframe thead tr:only-child th {\n",
       "        text-align: right;\n",
       "    }\n",
       "\n",
       "    .dataframe thead th {\n",
       "        text-align: left;\n",
       "    }\n",
       "\n",
       "    .dataframe tbody tr th {\n",
       "        vertical-align: top;\n",
       "    }\n",
       "</style>\n",
       "<table border=\"1\" class=\"dataframe\">\n",
       "  <thead>\n",
       "    <tr style=\"text-align: right;\">\n",
       "      <th></th>\n",
       "      <th>kind</th>\n",
       "      <th>title</th>\n",
       "      <th>languages</th>\n",
       "      <th>languages_first</th>\n",
       "      <th>languages_rest</th>\n",
       "    </tr>\n",
       "    <tr>\n",
       "      <th>id</th>\n",
       "      <th></th>\n",
       "      <th></th>\n",
       "      <th></th>\n",
       "      <th></th>\n",
       "      <th></th>\n",
       "    </tr>\n",
       "  </thead>\n",
       "  <tbody>\n",
       "    <tr>\n",
       "      <th># (2012/I)</th>\n",
       "      <td>movie</td>\n",
       "      <td>#</td>\n",
       "      <td>[{'name': 'English'}]</td>\n",
       "      <td>English</td>\n",
       "      <td>NaN</td>\n",
       "    </tr>\n",
       "    <tr>\n",
       "      <th># (2012/II)</th>\n",
       "      <td>movie</td>\n",
       "      <td>#</td>\n",
       "      <td>[{'name': 'Portuguese'}]</td>\n",
       "      <td>Portuguese</td>\n",
       "      <td>NaN</td>\n",
       "    </tr>\n",
       "    <tr>\n",
       "      <th># (2014)</th>\n",
       "      <td>movie</td>\n",
       "      <td>#</td>\n",
       "      <td>[{'name': 'English', 'note': '(English version...</td>\n",
       "      <td>English</td>\n",
       "      <td>NaN</td>\n",
       "    </tr>\n",
       "  </tbody>\n",
       "</table>\n",
       "</div>"
      ],
      "text/plain": [
       "              kind title                                          languages  \\\n",
       "id                                                                            \n",
       "# (2012/I)   movie     #                              [{'name': 'English'}]   \n",
       "# (2012/II)  movie     #                           [{'name': 'Portuguese'}]   \n",
       "# (2014)     movie     #  [{'name': 'English', 'note': '(English version...   \n",
       "\n",
       "            languages_first languages_rest  \n",
       "id                                          \n",
       "# (2012/I)          English            NaN  \n",
       "# (2012/II)      Portuguese            NaN  \n",
       "# (2014)            English            NaN  "
      ]
     },
     "execution_count": 6,
     "metadata": {},
     "output_type": "execute_result"
    }
   ],
   "source": [
    "language_pd = read_tsv_data(dir_path, category='language')\n",
    "language_pd.head(3)"
   ]
  },
  {
   "cell_type": "code",
   "execution_count": 7,
   "metadata": {
    "scrolled": false
   },
   "outputs": [
    {
     "name": "stdout",
     "output_type": "stream",
     "text": [
      "662420\n"
     ]
    },
    {
     "data": {
      "text/html": [
       "<div>\n",
       "<style>\n",
       "    .dataframe thead tr:only-child th {\n",
       "        text-align: right;\n",
       "    }\n",
       "\n",
       "    .dataframe thead th {\n",
       "        text-align: left;\n",
       "    }\n",
       "\n",
       "    .dataframe tbody tr th {\n",
       "        vertical-align: top;\n",
       "    }\n",
       "</style>\n",
       "<table border=\"1\" class=\"dataframe\">\n",
       "  <thead>\n",
       "    <tr style=\"text-align: right;\">\n",
       "      <th></th>\n",
       "      <th>kind</th>\n",
       "      <th>title</th>\n",
       "      <th>running_times</th>\n",
       "      <th>running_times_first</th>\n",
       "      <th>running_times_rest</th>\n",
       "    </tr>\n",
       "    <tr>\n",
       "      <th>id</th>\n",
       "      <th></th>\n",
       "      <th></th>\n",
       "      <th></th>\n",
       "      <th></th>\n",
       "      <th></th>\n",
       "    </tr>\n",
       "  </thead>\n",
       "  <tbody>\n",
       "    <tr>\n",
       "      <th># (2012/I)</th>\n",
       "      <td>movie</td>\n",
       "      <td>#</td>\n",
       "      <td>[{'secs': 900}]</td>\n",
       "      <td>900.0</td>\n",
       "      <td>NaN</td>\n",
       "    </tr>\n",
       "    <tr>\n",
       "      <th># (2012/II)</th>\n",
       "      <td>movie</td>\n",
       "      <td>#</td>\n",
       "      <td>[{'secs': 480, 'country': 'Brazil'}]</td>\n",
       "      <td>480.0</td>\n",
       "      <td>NaN</td>\n",
       "    </tr>\n",
       "    <tr>\n",
       "      <th>#1 (2005)</th>\n",
       "      <td>movie</td>\n",
       "      <td>#1</td>\n",
       "      <td>[{'secs': 1800, 'country': 'USA'}]</td>\n",
       "      <td>1800.0</td>\n",
       "      <td>NaN</td>\n",
       "    </tr>\n",
       "  </tbody>\n",
       "</table>\n",
       "</div>"
      ],
      "text/plain": [
       "              kind title                         running_times  \\\n",
       "id                                                               \n",
       "# (2012/I)   movie     #                       [{'secs': 900}]   \n",
       "# (2012/II)  movie     #  [{'secs': 480, 'country': 'Brazil'}]   \n",
       "#1 (2005)    movie    #1    [{'secs': 1800, 'country': 'USA'}]   \n",
       "\n",
       "             running_times_first running_times_rest  \n",
       "id                                                   \n",
       "# (2012/I)                 900.0                NaN  \n",
       "# (2012/II)                480.0                NaN  \n",
       "#1 (2005)                 1800.0                NaN  "
      ]
     },
     "execution_count": 7,
     "metadata": {},
     "output_type": "execute_result"
    }
   ],
   "source": [
    "runtime_pd = read_tsv_data(dir_path, category='running-times')\n",
    "runtime_pd.head(3)"
   ]
  },
  {
   "cell_type": "markdown",
   "metadata": {},
   "source": [
    "###### Merge all together"
   ]
  },
  {
   "cell_type": "code",
   "execution_count": 8,
   "metadata": {
    "scrolled": true
   },
   "outputs": [
    {
     "name": "stdout",
     "output_type": "stream",
     "text": [
      "616248\n"
     ]
    },
    {
     "data": {
      "text/html": [
       "<div>\n",
       "<style>\n",
       "    .dataframe thead tr:only-child th {\n",
       "        text-align: right;\n",
       "    }\n",
       "\n",
       "    .dataframe thead th {\n",
       "        text-align: left;\n",
       "    }\n",
       "\n",
       "    .dataframe tbody tr th {\n",
       "        vertical-align: top;\n",
       "    }\n",
       "</style>\n",
       "<table border=\"1\" class=\"dataframe\">\n",
       "  <thead>\n",
       "    <tr style=\"text-align: right;\">\n",
       "      <th></th>\n",
       "      <th>kind</th>\n",
       "      <th>title</th>\n",
       "      <th>year_first</th>\n",
       "      <th>countries_first</th>\n",
       "      <th>languages_first</th>\n",
       "      <th>running_times_first</th>\n",
       "    </tr>\n",
       "    <tr>\n",
       "      <th>id</th>\n",
       "      <th></th>\n",
       "      <th></th>\n",
       "      <th></th>\n",
       "      <th></th>\n",
       "      <th></th>\n",
       "      <th></th>\n",
       "    </tr>\n",
       "  </thead>\n",
       "  <tbody>\n",
       "    <tr>\n",
       "      <th># (2012/I)</th>\n",
       "      <td>movie</td>\n",
       "      <td>#</td>\n",
       "      <td>2012.0</td>\n",
       "      <td>USA</td>\n",
       "      <td>English</td>\n",
       "      <td>900.0</td>\n",
       "    </tr>\n",
       "    <tr>\n",
       "      <th># (2012/II)</th>\n",
       "      <td>movie</td>\n",
       "      <td>#</td>\n",
       "      <td>2012.0</td>\n",
       "      <td>Brazil</td>\n",
       "      <td>Portuguese</td>\n",
       "      <td>480.0</td>\n",
       "    </tr>\n",
       "    <tr>\n",
       "      <th>#1 (2005)</th>\n",
       "      <td>movie</td>\n",
       "      <td>#1</td>\n",
       "      <td>2005.0</td>\n",
       "      <td>USA</td>\n",
       "      <td>English</td>\n",
       "      <td>1800.0</td>\n",
       "    </tr>\n",
       "  </tbody>\n",
       "</table>\n",
       "</div>"
      ],
      "text/plain": [
       "              kind title  year_first countries_first languages_first  \\\n",
       "id                                                                     \n",
       "# (2012/I)   movie     #      2012.0             USA         English   \n",
       "# (2012/II)  movie     #      2012.0          Brazil      Portuguese   \n",
       "#1 (2005)    movie    #1      2005.0             USA         English   \n",
       "\n",
       "             running_times_first  \n",
       "id                                \n",
       "# (2012/I)                 900.0  \n",
       "# (2012/II)                480.0  \n",
       "#1 (2005)                 1800.0  "
      ]
     },
     "execution_count": 8,
     "metadata": {},
     "output_type": "execute_result"
    }
   ],
   "source": [
    "merged_pd = pd.concat([movies_pd, \n",
    "                       country_pd['countries_first'], \n",
    "                       language_pd['languages_first'], \n",
    "                       runtime_pd['running_times_first']], \n",
    "                      axis=1, join='inner')\n",
    "merged_pd.drop(['year', 'year_rest'], axis=1, inplace=True)\n",
    "print(len(merged_pd))\n",
    "merged_pd.head(3)"
   ]
  },
  {
   "cell_type": "code",
   "execution_count": 9,
   "metadata": {
    "collapsed": true
   },
   "outputs": [],
   "source": [
    "# delete unneeded df to save memory\n",
    "del movies_pd, country_pd, language_pd, runtime_pd"
   ]
  },
  {
   "cell_type": "markdown",
   "metadata": {},
   "source": [
    "###### Movie count by year"
   ]
  },
  {
   "cell_type": "code",
   "execution_count": 12,
   "metadata": {
    "scrolled": true
   },
   "outputs": [
    {
     "data": {
      "text/plain": [
       "<matplotlib.axes._subplots.AxesSubplot at 0xf6aa90>"
      ]
     },
     "execution_count": 12,
     "metadata": {},
     "output_type": "execute_result"
    },
    {
     "data": {
      "image/png": "[encoded data removed]",
      "text/plain": [
       "<matplotlib.figure.Figure at 0x20e9bf10>"
      ]
     },
     "metadata": {},
     "output_type": "display_data"
    }
   ],
   "source": [
    "merged_pd['year_first'].plot.hist(bins=30)"
   ]
  },
  {
   "cell_type": "markdown",
   "metadata": {},
   "source": [
    "###### Convert runtime in seconds to hours"
   ]
  },
  {
   "cell_type": "code",
   "execution_count": 13,
   "metadata": {},
   "outputs": [
    {
     "data": {
      "text/html": [
       "<div>\n",
       "<style>\n",
       "    .dataframe thead tr:only-child th {\n",
       "        text-align: right;\n",
       "    }\n",
       "\n",
       "    .dataframe thead th {\n",
       "        text-align: left;\n",
       "    }\n",
       "\n",
       "    .dataframe tbody tr th {\n",
       "        vertical-align: top;\n",
       "    }\n",
       "</style>\n",
       "<table border=\"1\" class=\"dataframe\">\n",
       "  <thead>\n",
       "    <tr style=\"text-align: right;\">\n",
       "      <th></th>\n",
       "      <th>kind</th>\n",
       "      <th>title</th>\n",
       "      <th>year_first</th>\n",
       "      <th>countries_first</th>\n",
       "      <th>languages_first</th>\n",
       "      <th>running_times_first</th>\n",
       "    </tr>\n",
       "    <tr>\n",
       "      <th>id</th>\n",
       "      <th></th>\n",
       "      <th></th>\n",
       "      <th></th>\n",
       "      <th></th>\n",
       "      <th></th>\n",
       "      <th></th>\n",
       "    </tr>\n",
       "  </thead>\n",
       "  <tbody>\n",
       "    <tr>\n",
       "      <th># (2012/I)</th>\n",
       "      <td>movie</td>\n",
       "      <td>#</td>\n",
       "      <td>2012.0</td>\n",
       "      <td>USA</td>\n",
       "      <td>English</td>\n",
       "      <td>0.250000</td>\n",
       "    </tr>\n",
       "    <tr>\n",
       "      <th># (2012/II)</th>\n",
       "      <td>movie</td>\n",
       "      <td>#</td>\n",
       "      <td>2012.0</td>\n",
       "      <td>Brazil</td>\n",
       "      <td>Portuguese</td>\n",
       "      <td>0.133333</td>\n",
       "    </tr>\n",
       "    <tr>\n",
       "      <th>#1 (2005)</th>\n",
       "      <td>movie</td>\n",
       "      <td>#1</td>\n",
       "      <td>2005.0</td>\n",
       "      <td>USA</td>\n",
       "      <td>English</td>\n",
       "      <td>0.500000</td>\n",
       "    </tr>\n",
       "  </tbody>\n",
       "</table>\n",
       "</div>"
      ],
      "text/plain": [
       "              kind title  year_first countries_first languages_first  \\\n",
       "id                                                                     \n",
       "# (2012/I)   movie     #      2012.0             USA         English   \n",
       "# (2012/II)  movie     #      2012.0          Brazil      Portuguese   \n",
       "#1 (2005)    movie    #1      2005.0             USA         English   \n",
       "\n",
       "             running_times_first  \n",
       "id                                \n",
       "# (2012/I)              0.250000  \n",
       "# (2012/II)             0.133333  \n",
       "#1 (2005)               0.500000  "
      ]
     },
     "execution_count": 13,
     "metadata": {},
     "output_type": "execute_result"
    }
   ],
   "source": [
    "merged_pd['running_times_first'] = merged_pd['running_times_first'] / 3600\n",
    "merged_pd.head(3)"
   ]
  },
  {
   "cell_type": "code",
   "execution_count": 14,
   "metadata": {
    "scrolled": false
   },
   "outputs": [
    {
     "data": {
      "text/plain": [
       "<matplotlib.axes._subplots.AxesSubplot at 0x210cd470>"
      ]
     },
     "execution_count": 14,
     "metadata": {},
     "output_type": "execute_result"
    },
    {
     "data": {
      "image/png": "[encoded data removed]",
      "text/plain": [
       "<matplotlib.figure.Figure at 0x27f3d1b0>"
      ]
     },
     "metadata": {},
     "output_type": "display_data"
    }
   ],
   "source": [
    "merged_pd['running_times_first'].plot.hist()"
   ]
  },
  {
   "cell_type": "markdown",
   "metadata": {},
   "source": [
    "#### Filter too-long and too-short movies AND movies before 1980"
   ]
  },
  {
   "cell_type": "code",
   "execution_count": 15,
   "metadata": {
    "collapsed": true
   },
   "outputs": [],
   "source": [
    "OneHourOrLess_s = merged_pd['running_times_first'] <= 1.0\n",
    "FiveHourOrMore_s = merged_pd['running_times_first'] >= 5.0"
   ]
  },
  {
   "cell_type": "markdown",
   "metadata": {},
   "source": [
    "Total number of movies with runtime >5 hrs"
   ]
  },
  {
   "cell_type": "code",
   "execution_count": 16,
   "metadata": {
    "scrolled": false
   },
   "outputs": [
    {
     "data": {
      "text/plain": [
       "270"
      ]
     },
     "execution_count": 16,
     "metadata": {},
     "output_type": "execute_result"
    }
   ],
   "source": [
    "len(merged_pd[FiveHourOrMore_s])"
   ]
  },
  {
   "cell_type": "markdown",
   "metadata": {},
   "source": [
    "Total number of movies with runtime <1 hour"
   ]
  },
  {
   "cell_type": "code",
   "execution_count": 17,
   "metadata": {
    "scrolled": false
   },
   "outputs": [
    {
     "data": {
      "text/plain": [
       "380983"
      ]
     },
     "execution_count": 17,
     "metadata": {},
     "output_type": "execute_result"
    }
   ],
   "source": [
    "len(merged_pd[OneHourOrLess_s])"
   ]
  },
  {
   "cell_type": "code",
   "execution_count": 18,
   "metadata": {},
   "outputs": [
    {
     "data": {
      "text/plain": [
       "349011"
      ]
     },
     "execution_count": 18,
     "metadata": {},
     "output_type": "execute_result"
    }
   ],
   "source": [
    "len(merged_pd[merged_pd['running_times_first'] <= 0.75])"
   ]
  },
  {
   "cell_type": "code",
   "execution_count": 19,
   "metadata": {},
   "outputs": [
    {
     "data": {
      "text/plain": [
       "137450"
      ]
     },
     "execution_count": 19,
     "metadata": {},
     "output_type": "execute_result"
    }
   ],
   "source": [
    "filt_runtime_year_pd = merged_pd[(~OneHourOrLess_s \n",
    "                           & ~FiveHourOrMore_s \n",
    "                           & (merged_pd['year_first']>=1990)\n",
    "                          )].copy()\n",
    "len(filt_runtime_year_pd)"
   ]
  },
  {
   "cell_type": "markdown",
   "metadata": {},
   "source": [
    "###### Filter countries with <=50 movies"
   ]
  },
  {
   "cell_type": "code",
   "execution_count": 22,
   "metadata": {
    "collapsed": true
   },
   "outputs": [],
   "source": [
    "movieCountByCountry = filt_runtime_year_pd['countries_first'].value_counts()\n",
    "country51orMore = movieCountByCountry[movieCountByCountry>50]"
   ]
  },
  {
   "cell_type": "code",
   "execution_count": 23,
   "metadata": {},
   "outputs": [
    {
     "data": {
      "text/html": [
       "<div>\n",
       "<style>\n",
       "    .dataframe thead tr:only-child th {\n",
       "        text-align: right;\n",
       "    }\n",
       "\n",
       "    .dataframe thead th {\n",
       "        text-align: left;\n",
       "    }\n",
       "\n",
       "    .dataframe tbody tr th {\n",
       "        vertical-align: top;\n",
       "    }\n",
       "</style>\n",
       "<table border=\"1\" class=\"dataframe\">\n",
       "  <thead>\n",
       "    <tr style=\"text-align: right;\">\n",
       "      <th></th>\n",
       "      <th>kind</th>\n",
       "      <th>title</th>\n",
       "      <th>year_first</th>\n",
       "      <th>countries_first</th>\n",
       "      <th>languages_first</th>\n",
       "      <th>running_times_first</th>\n",
       "    </tr>\n",
       "    <tr>\n",
       "      <th>id</th>\n",
       "      <th></th>\n",
       "      <th></th>\n",
       "      <th></th>\n",
       "      <th></th>\n",
       "      <th></th>\n",
       "      <th></th>\n",
       "    </tr>\n",
       "  </thead>\n",
       "  <tbody>\n",
       "    <tr>\n",
       "      <th>#1 Serial Killer (2013)</th>\n",
       "      <td>movie</td>\n",
       "      <td>#1 Serial Killer</td>\n",
       "      <td>2013.0</td>\n",
       "      <td>USA</td>\n",
       "      <td>English</td>\n",
       "      <td>1.450000</td>\n",
       "    </tr>\n",
       "    <tr>\n",
       "      <th>#5 (2013)</th>\n",
       "      <td>movie</td>\n",
       "      <td>#5</td>\n",
       "      <td>2013.0</td>\n",
       "      <td>USA</td>\n",
       "      <td>English</td>\n",
       "      <td>1.133333</td>\n",
       "    </tr>\n",
       "    <tr>\n",
       "      <th>#50Fathers (2015)</th>\n",
       "      <td>movie</td>\n",
       "      <td>#50Fathers</td>\n",
       "      <td>2015.0</td>\n",
       "      <td>USA</td>\n",
       "      <td>English</td>\n",
       "      <td>2.200000</td>\n",
       "    </tr>\n",
       "    <tr>\n",
       "      <th>#66 (2015)</th>\n",
       "      <td>movie</td>\n",
       "      <td>#66</td>\n",
       "      <td>2015.0</td>\n",
       "      <td>Indonesia</td>\n",
       "      <td>Indonesian</td>\n",
       "      <td>1.933333</td>\n",
       "    </tr>\n",
       "    <tr>\n",
       "      <th>#73, Shaanthi Nivaasa (2007)</th>\n",
       "      <td>movie</td>\n",
       "      <td>#73, Shaanthi Nivaasa</td>\n",
       "      <td>2007.0</td>\n",
       "      <td>India</td>\n",
       "      <td>Kannada</td>\n",
       "      <td>2.616667</td>\n",
       "    </tr>\n",
       "  </tbody>\n",
       "</table>\n",
       "</div>"
      ],
      "text/plain": [
       "                               kind                  title  year_first  \\\n",
       "id                                                                       \n",
       "#1 Serial Killer (2013)       movie       #1 Serial Killer      2013.0   \n",
       "#5 (2013)                     movie                     #5      2013.0   \n",
       "#50Fathers (2015)             movie             #50Fathers      2015.0   \n",
       "#66 (2015)                    movie                    #66      2015.0   \n",
       "#73, Shaanthi Nivaasa (2007)  movie  #73, Shaanthi Nivaasa      2007.0   \n",
       "\n",
       "                             countries_first languages_first  \\\n",
       "id                                                             \n",
       "#1 Serial Killer (2013)                  USA         English   \n",
       "#5 (2013)                                USA         English   \n",
       "#50Fathers (2015)                        USA         English   \n",
       "#66 (2015)                         Indonesia      Indonesian   \n",
       "#73, Shaanthi Nivaasa (2007)           India         Kannada   \n",
       "\n",
       "                              running_times_first  \n",
       "id                                                 \n",
       "#1 Serial Killer (2013)                  1.450000  \n",
       "#5 (2013)                                1.133333  \n",
       "#50Fathers (2015)                        2.200000  \n",
       "#66 (2015)                               1.933333  \n",
       "#73, Shaanthi Nivaasa (2007)             2.616667  "
      ]
     },
     "execution_count": 23,
     "metadata": {},
     "output_type": "execute_result"
    }
   ],
   "source": [
    "filt_runtime_year_country_pd = filt_runtime_year_pd[filt_runtime_year_pd['countries_first']\\\n",
    "                                                    .isin(country51orMore.index)].copy()\n",
    "filt_runtime_year_country_pd.head()"
   ]
  },
  {
   "cell_type": "code",
   "execution_count": null,
   "metadata": {
    "collapsed": true,
    "scrolled": false
   },
   "outputs": [],
   "source": [
    "# filt_runtime_year_pd.groupby(['countries_first', 'languages_first'])['countries_first'].count()\\\n",
    "#                 .to_csv('../results/country2language.tsv', sep='\\t')\n",
    "# filt_runtime_year_pd.groupby(['languages_first', 'countries_first'])['countries_first'].count()\\\n",
    "#                 .to_csv('../results/language2country.tsv', sep='\\t')"
   ]
  },
  {
   "cell_type": "code",
   "execution_count": 24,
   "metadata": {
    "scrolled": true
   },
   "outputs": [
    {
     "data": {
      "text/html": [
       "<div>\n",
       "<style>\n",
       "    .dataframe thead tr:only-child th {\n",
       "        text-align: right;\n",
       "    }\n",
       "\n",
       "    .dataframe thead th {\n",
       "        text-align: left;\n",
       "    }\n",
       "\n",
       "    .dataframe tbody tr th {\n",
       "        vertical-align: top;\n",
       "    }\n",
       "</style>\n",
       "<table border=\"1\" class=\"dataframe\">\n",
       "  <thead>\n",
       "    <tr style=\"text-align: right;\">\n",
       "      <th></th>\n",
       "      <th></th>\n",
       "      <th>running_times_first</th>\n",
       "    </tr>\n",
       "    <tr>\n",
       "      <th>countries_first</th>\n",
       "      <th>languages_first</th>\n",
       "      <th></th>\n",
       "    </tr>\n",
       "  </thead>\n",
       "  <tbody>\n",
       "    <tr>\n",
       "      <th rowspan=\"5\" valign=\"top\">Algeria</th>\n",
       "      <th>Arabic</th>\n",
       "      <td>1.681667</td>\n",
       "    </tr>\n",
       "    <tr>\n",
       "      <th>Berber</th>\n",
       "      <td>1.716667</td>\n",
       "    </tr>\n",
       "    <tr>\n",
       "      <th>English</th>\n",
       "      <td>1.616667</td>\n",
       "    </tr>\n",
       "    <tr>\n",
       "      <th>French</th>\n",
       "      <td>1.540909</td>\n",
       "    </tr>\n",
       "    <tr>\n",
       "      <th>German</th>\n",
       "      <td>1.416667</td>\n",
       "    </tr>\n",
       "  </tbody>\n",
       "</table>\n",
       "</div>"
      ],
      "text/plain": [
       "                                 running_times_first\n",
       "countries_first languages_first                     \n",
       "Algeria         Arabic                      1.681667\n",
       "                Berber                      1.716667\n",
       "                English                     1.616667\n",
       "                French                      1.540909\n",
       "                German                      1.416667"
      ]
     },
     "execution_count": 24,
     "metadata": {},
     "output_type": "execute_result"
    }
   ],
   "source": [
    "axs = pd.pivot_table(filt_runtime_year_country_pd, index=['countries_first', 'languages_first'],\n",
    "              values=['running_times_first'], aggfunc='mean')\n",
    "#               values=['running_times_first', 'kind'], aggfunc=['mean', 'count'])\n",
    "axs.head(5)"
   ]
  },
  {
   "cell_type": "code",
   "execution_count": 25,
   "metadata": {
    "scrolled": false
   },
   "outputs": [
    {
     "data": {
      "text/html": [
       "<div>\n",
       "<style>\n",
       "    .dataframe thead tr:only-child th {\n",
       "        text-align: right;\n",
       "    }\n",
       "\n",
       "    .dataframe thead th {\n",
       "        text-align: left;\n",
       "    }\n",
       "\n",
       "    .dataframe tbody tr th {\n",
       "        vertical-align: top;\n",
       "    }\n",
       "</style>\n",
       "<table border=\"1\" class=\"dataframe\">\n",
       "  <thead>\n",
       "    <tr style=\"text-align: right;\">\n",
       "      <th></th>\n",
       "      <th></th>\n",
       "      <th>kind</th>\n",
       "    </tr>\n",
       "    <tr>\n",
       "      <th>countries_first</th>\n",
       "      <th>languages_first</th>\n",
       "      <th></th>\n",
       "    </tr>\n",
       "  </thead>\n",
       "  <tbody>\n",
       "    <tr>\n",
       "      <th rowspan=\"5\" valign=\"top\">Algeria</th>\n",
       "      <th>Arabic</th>\n",
       "      <td>40</td>\n",
       "    </tr>\n",
       "    <tr>\n",
       "      <th>Berber</th>\n",
       "      <td>2</td>\n",
       "    </tr>\n",
       "    <tr>\n",
       "      <th>English</th>\n",
       "      <td>1</td>\n",
       "    </tr>\n",
       "    <tr>\n",
       "      <th>French</th>\n",
       "      <td>22</td>\n",
       "    </tr>\n",
       "    <tr>\n",
       "      <th>German</th>\n",
       "      <td>1</td>\n",
       "    </tr>\n",
       "  </tbody>\n",
       "</table>\n",
       "</div>"
      ],
      "text/plain": [
       "                                 kind\n",
       "countries_first languages_first      \n",
       "Algeria         Arabic             40\n",
       "                Berber              2\n",
       "                English             1\n",
       "                French             22\n",
       "                German              1"
      ]
     },
     "execution_count": 25,
     "metadata": {},
     "output_type": "execute_result"
    }
   ],
   "source": [
    "bxs = pd.pivot_table(filt_runtime_year_country_pd, index=['countries_first', 'languages_first'],\n",
    "                     values=['kind'], aggfunc='count')\n",
    "bxs.head(5)"
   ]
  },
  {
   "cell_type": "code",
   "execution_count": 26,
   "metadata": {
    "scrolled": true
   },
   "outputs": [
    {
     "data": {
      "text/html": [
       "<div>\n",
       "<style>\n",
       "    .dataframe thead tr:only-child th {\n",
       "        text-align: right;\n",
       "    }\n",
       "\n",
       "    .dataframe thead th {\n",
       "        text-align: left;\n",
       "    }\n",
       "\n",
       "    .dataframe tbody tr th {\n",
       "        vertical-align: top;\n",
       "    }\n",
       "</style>\n",
       "<table border=\"1\" class=\"dataframe\">\n",
       "  <thead>\n",
       "    <tr style=\"text-align: right;\">\n",
       "      <th></th>\n",
       "      <th></th>\n",
       "      <th>running_times_first</th>\n",
       "      <th>kind</th>\n",
       "    </tr>\n",
       "    <tr>\n",
       "      <th>countries_first</th>\n",
       "      <th>languages_first</th>\n",
       "      <th></th>\n",
       "      <th></th>\n",
       "    </tr>\n",
       "  </thead>\n",
       "  <tbody>\n",
       "    <tr>\n",
       "      <th rowspan=\"5\" valign=\"top\">Algeria</th>\n",
       "      <th>Arabic</th>\n",
       "      <td>1.681667</td>\n",
       "      <td>40</td>\n",
       "    </tr>\n",
       "    <tr>\n",
       "      <th>Berber</th>\n",
       "      <td>1.716667</td>\n",
       "      <td>2</td>\n",
       "    </tr>\n",
       "    <tr>\n",
       "      <th>English</th>\n",
       "      <td>1.616667</td>\n",
       "      <td>1</td>\n",
       "    </tr>\n",
       "    <tr>\n",
       "      <th>French</th>\n",
       "      <td>1.540909</td>\n",
       "      <td>22</td>\n",
       "    </tr>\n",
       "    <tr>\n",
       "      <th>German</th>\n",
       "      <td>1.416667</td>\n",
       "      <td>1</td>\n",
       "    </tr>\n",
       "  </tbody>\n",
       "</table>\n",
       "</div>"
      ],
      "text/plain": [
       "                                 running_times_first  kind\n",
       "countries_first languages_first                           \n",
       "Algeria         Arabic                      1.681667    40\n",
       "                Berber                      1.716667     2\n",
       "                English                     1.616667     1\n",
       "                French                      1.540909    22\n",
       "                German                      1.416667     1"
      ]
     },
     "execution_count": 26,
     "metadata": {},
     "output_type": "execute_result"
    }
   ],
   "source": [
    "cxs = pd.concat([axs, bxs], axis=1)\n",
    "cxs.head()"
   ]
  },
  {
   "cell_type": "code",
   "execution_count": 27,
   "metadata": {
    "collapsed": true
   },
   "outputs": [],
   "source": [
    "cxs.to_csv('../results/country_language_runtime_count.tsv', sep='\\t')"
   ]
  },
  {
   "cell_type": "markdown",
   "metadata": {},
   "source": [
    "###### Country vs runtime"
   ]
  },
  {
   "cell_type": "code",
   "execution_count": 96,
   "metadata": {},
   "outputs": [
    {
     "data": {
      "text/html": [
       "<div>\n",
       "<style>\n",
       "    .dataframe thead tr:only-child th {\n",
       "        text-align: right;\n",
       "    }\n",
       "\n",
       "    .dataframe thead th {\n",
       "        text-align: left;\n",
       "    }\n",
       "\n",
       "    .dataframe tbody tr th {\n",
       "        vertical-align: top;\n",
       "    }\n",
       "</style>\n",
       "<table border=\"1\" class=\"dataframe\">\n",
       "  <thead>\n",
       "    <tr style=\"text-align: right;\">\n",
       "      <th></th>\n",
       "      <th>running_times_first</th>\n",
       "      <th>kind</th>\n",
       "    </tr>\n",
       "    <tr>\n",
       "      <th>countries_first</th>\n",
       "      <th></th>\n",
       "      <th></th>\n",
       "    </tr>\n",
       "  </thead>\n",
       "  <tbody>\n",
       "    <tr>\n",
       "      <th>Algeria</th>\n",
       "      <td>1.630808</td>\n",
       "      <td>66</td>\n",
       "    </tr>\n",
       "    <tr>\n",
       "      <th>Argentina</th>\n",
       "      <td>1.461470</td>\n",
       "      <td>2460</td>\n",
       "    </tr>\n",
       "    <tr>\n",
       "      <th>Armenia</th>\n",
       "      <td>1.526537</td>\n",
       "      <td>103</td>\n",
       "    </tr>\n",
       "  </tbody>\n",
       "</table>\n",
       "</div>"
      ],
      "text/plain": [
       "                 running_times_first  kind\n",
       "countries_first                           \n",
       "Algeria                     1.630808    66\n",
       "Argentina                   1.461470  2460\n",
       "Armenia                     1.526537   103"
      ]
     },
     "execution_count": 96,
     "metadata": {},
     "output_type": "execute_result"
    }
   ],
   "source": [
    "pivot_country_runtime = filt_runtime_year_country_pd.groupby('countries_first').aggregate({'running_times_first':'mean', \n",
    "                                                                   'kind':'count'})\n",
    "pivot_country_runtime.head(3)"
   ]
  },
  {
   "cell_type": "code",
   "execution_count": 99,
   "metadata": {},
   "outputs": [
    {
     "data": {
      "text/plain": [
       "88"
      ]
     },
     "execution_count": 99,
     "metadata": {},
     "output_type": "execute_result"
    }
   ],
   "source": [
    "len(pivot_country_runtime)"
   ]
  },
  {
   "cell_type": "code",
   "execution_count": 100,
   "metadata": {
    "collapsed": true
   },
   "outputs": [],
   "source": [
    "pivot_country_runtime.to_csv('../results/country_runtime_count.tsv', sep='\\t')"
   ]
  },
  {
   "cell_type": "markdown",
   "metadata": {},
   "source": [
    "#### Miscellaneous"
   ]
  },
  {
   "cell_type": "markdown",
   "metadata": {},
   "source": [
    "#### Filter out languages with threshold count"
   ]
  },
  {
   "cell_type": "code",
   "execution_count": null,
   "metadata": {
    "collapsed": true
   },
   "outputs": [],
   "source": [
    "movieCountByLang = filt_count_pd['languages_first'].value_counts()\n",
    "lang_count_10orMore = movieCountByLang[movieCountByLang>=10]\n",
    "lang_count_25orMore = movieCountByLang[movieCountByLang>=25]\n",
    "lang_count_50orMore = movieCountByLang[movieCountByLang>=50]"
   ]
  },
  {
   "cell_type": "code",
   "execution_count": null,
   "metadata": {
    "collapsed": true,
    "scrolled": true
   },
   "outputs": [],
   "source": [
    "filt_count_lang_pd = filt_count_pd[filt_count_pd['languages_first'].isin(lang_count_50orMore.index)]\n",
    "len(filt_count_lang_pd)"
   ]
  },
  {
   "cell_type": "markdown",
   "metadata": {},
   "source": [
    "#### Language vs Runtime"
   ]
  },
  {
   "cell_type": "code",
   "execution_count": null,
   "metadata": {
    "collapsed": true,
    "scrolled": true
   },
   "outputs": [],
   "source": [
    "lang_vs_runtime_pivot = pd.pivot_table(filt_count_lang_pd, index='languages_first', values='running_times_first', aggfunc='mean')\n",
    "lang_vs_runtime_pivot.head()"
   ]
  },
  {
   "cell_type": "code",
   "execution_count": null,
   "metadata": {
    "collapsed": true,
    "scrolled": false
   },
   "outputs": [],
   "source": [
    "lang_vs_runtime_pivot[lang_vs_runtime_pivot['running_times_first']>2]"
   ]
  },
  {
   "cell_type": "code",
   "execution_count": null,
   "metadata": {
    "collapsed": true
   },
   "outputs": [],
   "source": [
    "lang_vs_runtime_pivot.to_csv('../results/lang_vs_runtime.tsv', sep='\\t', \n",
    "                             index_label='language')"
   ]
  },
  {
   "cell_type": "code",
   "execution_count": null,
   "metadata": {
    "collapsed": true,
    "scrolled": false
   },
   "outputs": [],
   "source": [
    "lang_vs_runtime_pivot['running_times_first'].plot.hist()"
   ]
  },
  {
   "cell_type": "code",
   "execution_count": null,
   "metadata": {
    "collapsed": true,
    "scrolled": true
   },
   "outputs": [],
   "source": [
    "filt_count_lang_pd['languages_first'].value_counts()"
   ]
  },
  {
   "cell_type": "code",
   "execution_count": null,
   "metadata": {
    "collapsed": true,
    "scrolled": false
   },
   "outputs": [],
   "source": [
    "filt_count_lang_pd.groupby(['countries_first', 'languages_first'])['countries_first'].count()\\\n",
    "                .to_csv('../results/country2language.tsv', sep='\\t')\n",
    "filt_count_lang_pd.groupby(['languages_first', 'countries_first'])['countries_first'].count()\\\n",
    "                .to_csv('../results/language2country.tsv', sep='\\t')"
   ]
  },
  {
   "cell_type": "code",
   "execution_count": null,
   "metadata": {
    "collapsed": true,
    "scrolled": true
   },
   "outputs": [],
   "source": [
    "filt_count_lang_pd['year_first'].plot.hist()"
   ]
  }
 ],
 "metadata": {
  "kernelspec": {
   "display_name": "Python 3",
   "language": "python",
   "name": "python3"
  },
  "language_info": {
   "codemirror_mode": {
    "name": "ipython",
    "version": 3
   },
   "file_extension": ".py",
   "mimetype": "text/x-python",
   "name": "python",
   "nbconvert_exporter": "python",
   "pygments_lexer": "ipython3",
   "version": "3.6.2"
  }
 },
 "nbformat": 4,
 "nbformat_minor": 2
}
